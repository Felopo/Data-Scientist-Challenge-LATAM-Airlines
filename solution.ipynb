{
 "cells": [
  {
   "attachments": {},
   "cell_type": "markdown",
   "metadata": {},
   "source": [
    "# Solución del desafío LATAM - Felipe Moya González"
   ]
  },
  {
   "attachments": {},
   "cell_type": "markdown",
   "metadata": {},
   "source": [
    "<br>\n",
    "\n",
    "---\n",
    "\n",
    "<br>"
   ]
  },
  {
   "attachments": {},
   "cell_type": "markdown",
   "metadata": {},
   "source": [
    "## Librerías necesarias"
   ]
  },
  {
   "cell_type": "code",
   "execution_count": 1032,
   "metadata": {},
   "outputs": [],
   "source": [
    "# Importamos las librerías a utilizar\n",
    "import os\n",
    "import pandas as pd\n",
    "import numpy as np\n",
    "import matplotlib.pyplot as plt\n",
    "plt.style.use(\"ggplot\")\n",
    "import seaborn as sns\n",
    "from janitor import clean_names\n",
    "pd.set_option(\"display.max_columns\", None)\n",
    "from sklearn.model_selection import train_test_split, GridSearchCV, RandomizedSearchCV\n",
    "from sklearn.metrics import roc_auc_score, roc_curve, confusion_matrix, classification_report, accuracy_score\n",
    "from sklearn.ensemble import RandomForestClassifier\n",
    "import tensorflow.keras as keras\n",
    "import tensorflow as tf\n",
    "from tensorflow.keras.utils import to_categorical\n",
    "from tensorflow.keras.models import Sequential\n",
    "from tensorflow.keras.layers import Dense\n",
    "import scikitplot as skplt\n",
    "import warnings\n",
    "import matplotlib.cbook\n",
    "warnings.filterwarnings(\"ignore\",category=matplotlib.cbook.mplDeprecation)"
   ]
  },
  {
   "attachments": {},
   "cell_type": "markdown",
   "metadata": {},
   "source": [
    "Dejaremos una semilla para que los resultados obtenidos sean reproducibles."
   ]
  },
  {
   "cell_type": "code",
   "execution_count": 1033,
   "metadata": {},
   "outputs": [],
   "source": [
    "np.random.seed(201212189)"
   ]
  },
  {
   "attachments": {},
   "cell_type": "markdown",
   "metadata": {},
   "source": [
    "<br>\n",
    "\n",
    "---\n",
    "\n",
    "<br>"
   ]
  },
  {
   "attachments": {},
   "cell_type": "markdown",
   "metadata": {},
   "source": [
    "## Carga de datos"
   ]
  },
  {
   "attachments": {},
   "cell_type": "markdown",
   "metadata": {},
   "source": [
    "Lo primero que debemos hacer es cargar los datos. Cargamos `Vlo-I` y `Vlo-O` como texto, pues hay algunos valores que contienen la letra P."
   ]
  },
  {
   "cell_type": "code",
   "execution_count": 1034,
   "metadata": {},
   "outputs": [],
   "source": [
    "# Definimos variables para las rutas de los archivo\n",
    "input_path = \"data/input\"\n",
    "output_path = \"data/output\" \n",
    "\n",
    "# Cargamos los datos entregados\n",
    "vuelos = pd.read_csv(os.path.join(input_path, \"dataset_SCL.csv\"), dtype={1: object, 6: object}).clean_names()\n",
    "\n",
    "# Definimos la cantidad de filas y de columnas de la base\n",
    "filas, columnas = vuelos.shape"
   ]
  },
  {
   "attachments": {},
   "cell_type": "markdown",
   "metadata": {},
   "source": [
    "<br>\n",
    "\n",
    "---\n",
    "\n",
    "<br>"
   ]
  },
  {
   "attachments": {},
   "cell_type": "markdown",
   "metadata": {},
   "source": [
    "## Limpieza de datos y análisis exploratorio"
   ]
  },
  {
   "attachments": {},
   "cell_type": "markdown",
   "metadata": {},
   "source": [
    "Veamos alguna información de los datos:"
   ]
  },
  {
   "cell_type": "code",
   "execution_count": 1035,
   "metadata": {},
   "outputs": [
    {
     "data": {
      "text/html": [
       "<div>\n",
       "<style scoped>\n",
       "    .dataframe tbody tr th:only-of-type {\n",
       "        vertical-align: middle;\n",
       "    }\n",
       "\n",
       "    .dataframe tbody tr th {\n",
       "        vertical-align: top;\n",
       "    }\n",
       "\n",
       "    .dataframe thead th {\n",
       "        text-align: right;\n",
       "    }\n",
       "</style>\n",
       "<table border=\"1\" class=\"dataframe\">\n",
       "  <thead>\n",
       "    <tr style=\"text-align: right;\">\n",
       "      <th></th>\n",
       "      <th>fecha_i</th>\n",
       "      <th>vlo_i</th>\n",
       "      <th>ori_i</th>\n",
       "      <th>des_i</th>\n",
       "      <th>emp_i</th>\n",
       "      <th>fecha_o</th>\n",
       "      <th>vlo_o</th>\n",
       "      <th>ori_o</th>\n",
       "      <th>des_o</th>\n",
       "      <th>emp_o</th>\n",
       "      <th>dia</th>\n",
       "      <th>mes</th>\n",
       "      <th>ano</th>\n",
       "      <th>dianom</th>\n",
       "      <th>tipovuelo</th>\n",
       "      <th>opera</th>\n",
       "      <th>siglaori</th>\n",
       "      <th>siglades</th>\n",
       "    </tr>\n",
       "  </thead>\n",
       "  <tbody>\n",
       "    <tr>\n",
       "      <th>0</th>\n",
       "      <td>2017-01-01 23:30:00</td>\n",
       "      <td>226</td>\n",
       "      <td>SCEL</td>\n",
       "      <td>KMIA</td>\n",
       "      <td>AAL</td>\n",
       "      <td>2017-01-01 23:33:00</td>\n",
       "      <td>226</td>\n",
       "      <td>SCEL</td>\n",
       "      <td>KMIA</td>\n",
       "      <td>AAL</td>\n",
       "      <td>1</td>\n",
       "      <td>1</td>\n",
       "      <td>2017</td>\n",
       "      <td>Domingo</td>\n",
       "      <td>I</td>\n",
       "      <td>American Airlines</td>\n",
       "      <td>Santiago</td>\n",
       "      <td>Miami</td>\n",
       "    </tr>\n",
       "    <tr>\n",
       "      <th>1</th>\n",
       "      <td>2017-01-02 23:30:00</td>\n",
       "      <td>226</td>\n",
       "      <td>SCEL</td>\n",
       "      <td>KMIA</td>\n",
       "      <td>AAL</td>\n",
       "      <td>2017-01-02 23:39:00</td>\n",
       "      <td>226</td>\n",
       "      <td>SCEL</td>\n",
       "      <td>KMIA</td>\n",
       "      <td>AAL</td>\n",
       "      <td>2</td>\n",
       "      <td>1</td>\n",
       "      <td>2017</td>\n",
       "      <td>Lunes</td>\n",
       "      <td>I</td>\n",
       "      <td>American Airlines</td>\n",
       "      <td>Santiago</td>\n",
       "      <td>Miami</td>\n",
       "    </tr>\n",
       "    <tr>\n",
       "      <th>2</th>\n",
       "      <td>2017-01-03 23:30:00</td>\n",
       "      <td>226</td>\n",
       "      <td>SCEL</td>\n",
       "      <td>KMIA</td>\n",
       "      <td>AAL</td>\n",
       "      <td>2017-01-03 23:39:00</td>\n",
       "      <td>226</td>\n",
       "      <td>SCEL</td>\n",
       "      <td>KMIA</td>\n",
       "      <td>AAL</td>\n",
       "      <td>3</td>\n",
       "      <td>1</td>\n",
       "      <td>2017</td>\n",
       "      <td>Martes</td>\n",
       "      <td>I</td>\n",
       "      <td>American Airlines</td>\n",
       "      <td>Santiago</td>\n",
       "      <td>Miami</td>\n",
       "    </tr>\n",
       "    <tr>\n",
       "      <th>3</th>\n",
       "      <td>2017-01-04 23:30:00</td>\n",
       "      <td>226</td>\n",
       "      <td>SCEL</td>\n",
       "      <td>KMIA</td>\n",
       "      <td>AAL</td>\n",
       "      <td>2017-01-04 23:33:00</td>\n",
       "      <td>226</td>\n",
       "      <td>SCEL</td>\n",
       "      <td>KMIA</td>\n",
       "      <td>AAL</td>\n",
       "      <td>4</td>\n",
       "      <td>1</td>\n",
       "      <td>2017</td>\n",
       "      <td>Miercoles</td>\n",
       "      <td>I</td>\n",
       "      <td>American Airlines</td>\n",
       "      <td>Santiago</td>\n",
       "      <td>Miami</td>\n",
       "    </tr>\n",
       "    <tr>\n",
       "      <th>4</th>\n",
       "      <td>2017-01-05 23:30:00</td>\n",
       "      <td>226</td>\n",
       "      <td>SCEL</td>\n",
       "      <td>KMIA</td>\n",
       "      <td>AAL</td>\n",
       "      <td>2017-01-05 23:28:00</td>\n",
       "      <td>226</td>\n",
       "      <td>SCEL</td>\n",
       "      <td>KMIA</td>\n",
       "      <td>AAL</td>\n",
       "      <td>5</td>\n",
       "      <td>1</td>\n",
       "      <td>2017</td>\n",
       "      <td>Jueves</td>\n",
       "      <td>I</td>\n",
       "      <td>American Airlines</td>\n",
       "      <td>Santiago</td>\n",
       "      <td>Miami</td>\n",
       "    </tr>\n",
       "  </tbody>\n",
       "</table>\n",
       "</div>"
      ],
      "text/plain": [
       "               fecha_i vlo_i ori_i des_i emp_i              fecha_o vlo_o  \\\n",
       "0  2017-01-01 23:30:00   226  SCEL  KMIA   AAL  2017-01-01 23:33:00   226   \n",
       "1  2017-01-02 23:30:00   226  SCEL  KMIA   AAL  2017-01-02 23:39:00   226   \n",
       "2  2017-01-03 23:30:00   226  SCEL  KMIA   AAL  2017-01-03 23:39:00   226   \n",
       "3  2017-01-04 23:30:00   226  SCEL  KMIA   AAL  2017-01-04 23:33:00   226   \n",
       "4  2017-01-05 23:30:00   226  SCEL  KMIA   AAL  2017-01-05 23:28:00   226   \n",
       "\n",
       "  ori_o des_o emp_o  dia  mes   ano     dianom tipovuelo              opera  \\\n",
       "0  SCEL  KMIA   AAL    1    1  2017    Domingo         I  American Airlines   \n",
       "1  SCEL  KMIA   AAL    2    1  2017      Lunes         I  American Airlines   \n",
       "2  SCEL  KMIA   AAL    3    1  2017     Martes         I  American Airlines   \n",
       "3  SCEL  KMIA   AAL    4    1  2017  Miercoles         I  American Airlines   \n",
       "4  SCEL  KMIA   AAL    5    1  2017     Jueves         I  American Airlines   \n",
       "\n",
       "   siglaori siglades  \n",
       "0  Santiago    Miami  \n",
       "1  Santiago    Miami  \n",
       "2  Santiago    Miami  \n",
       "3  Santiago    Miami  \n",
       "4  Santiago    Miami  "
      ]
     },
     "execution_count": 1035,
     "metadata": {},
     "output_type": "execute_result"
    }
   ],
   "source": [
    "# Veamos algunas observaciones de los datos\n",
    "vuelos.head()"
   ]
  },
  {
   "cell_type": "code",
   "execution_count": 1036,
   "metadata": {},
   "outputs": [
    {
     "name": "stdout",
     "output_type": "stream",
     "text": [
      "\n",
      " La base contiene 68206 observaciones y 18 columnas.\n"
     ]
    }
   ],
   "source": [
    "# Mostramos las dimensiones de los datos.\n",
    "print(f\"\\n La base contiene {filas} observaciones y {columnas} columnas.\")"
   ]
  },
  {
   "cell_type": "code",
   "execution_count": 1037,
   "metadata": {},
   "outputs": [
    {
     "name": "stdout",
     "output_type": "stream",
     "text": [
      "<class 'pandas.core.frame.DataFrame'>\n",
      "RangeIndex: 68206 entries, 0 to 68205\n",
      "Data columns (total 18 columns):\n",
      " #   Column     Non-Null Count  Dtype \n",
      "---  ------     --------------  ----- \n",
      " 0   fecha_i    68206 non-null  object\n",
      " 1   vlo_i      68206 non-null  object\n",
      " 2   ori_i      68206 non-null  object\n",
      " 3   des_i      68206 non-null  object\n",
      " 4   emp_i      68206 non-null  object\n",
      " 5   fecha_o    68206 non-null  object\n",
      " 6   vlo_o      68205 non-null  object\n",
      " 7   ori_o      68206 non-null  object\n",
      " 8   des_o      68206 non-null  object\n",
      " 9   emp_o      68206 non-null  object\n",
      " 10  dia        68206 non-null  int64 \n",
      " 11  mes        68206 non-null  int64 \n",
      " 12  ano        68206 non-null  int64 \n",
      " 13  dianom     68206 non-null  object\n",
      " 14  tipovuelo  68206 non-null  object\n",
      " 15  opera      68206 non-null  object\n",
      " 16  siglaori   68206 non-null  object\n",
      " 17  siglades   68206 non-null  object\n",
      "dtypes: int64(3), object(15)\n",
      "memory usage: 9.4+ MB\n"
     ]
    }
   ],
   "source": [
    "# Veamos si todas las variables tienen el tipo adecuado\n",
    "vuelos.info()"
   ]
  },
  {
   "attachments": {},
   "cell_type": "markdown",
   "metadata": {},
   "source": [
    "Notamos que no todas las columnas tienen el tipo adecuado, así que ahora las pasamos al tipo adecuado: "
   ]
  },
  {
   "cell_type": "code",
   "execution_count": 1038,
   "metadata": {},
   "outputs": [],
   "source": [
    "# Convertimos las variables en su tipo\n",
    "vuelos[\"fecha_i\"] = pd.to_datetime(vuelos[\"fecha_i\"], format=\"%Y-%m-%d\")\n",
    "vuelos[\"fecha_o\"] = pd.to_datetime(vuelos[\"fecha_o\"], format=\"%Y-%m-%d\")"
   ]
  },
  {
   "attachments": {},
   "cell_type": "markdown",
   "metadata": {},
   "source": [
    "#### Valores faltantes:"
   ]
  },
  {
   "attachments": {},
   "cell_type": "markdown",
   "metadata": {},
   "source": [
    "Ahora revisaremos si es que hay valores faltantes en alguna de las columnas, para luego ver como encargarse de ellos."
   ]
  },
  {
   "cell_type": "code",
   "execution_count": 1039,
   "metadata": {},
   "outputs": [
    {
     "data": {
      "text/plain": [
       "fecha_i      0\n",
       "vlo_i        0\n",
       "ori_i        0\n",
       "des_i        0\n",
       "emp_i        0\n",
       "fecha_o      0\n",
       "vlo_o        1\n",
       "ori_o        0\n",
       "des_o        0\n",
       "emp_o        0\n",
       "dia          0\n",
       "mes          0\n",
       "ano          0\n",
       "dianom       0\n",
       "tipovuelo    0\n",
       "opera        0\n",
       "siglaori     0\n",
       "siglades     0\n",
       "dtype: int64"
      ]
     },
     "execution_count": 1039,
     "metadata": {},
     "output_type": "execute_result"
    }
   ],
   "source": [
    "# Valores faltantes por columna\n",
    "vuelos.isna().sum()"
   ]
  },
  {
   "attachments": {},
   "cell_type": "markdown",
   "metadata": {},
   "source": [
    "Notamos que la única variable con valores faltantes es `vlo-o`. Veamos esa fila para tratar de entender porqué no tiene valor."
   ]
  },
  {
   "cell_type": "code",
   "execution_count": 1040,
   "metadata": {},
   "outputs": [
    {
     "data": {
      "text/html": [
       "<div>\n",
       "<style scoped>\n",
       "    .dataframe tbody tr th:only-of-type {\n",
       "        vertical-align: middle;\n",
       "    }\n",
       "\n",
       "    .dataframe tbody tr th {\n",
       "        vertical-align: top;\n",
       "    }\n",
       "\n",
       "    .dataframe thead th {\n",
       "        text-align: right;\n",
       "    }\n",
       "</style>\n",
       "<table border=\"1\" class=\"dataframe\">\n",
       "  <thead>\n",
       "    <tr style=\"text-align: right;\">\n",
       "      <th></th>\n",
       "      <th>fecha_i</th>\n",
       "      <th>vlo_i</th>\n",
       "      <th>ori_i</th>\n",
       "      <th>des_i</th>\n",
       "      <th>emp_i</th>\n",
       "      <th>fecha_o</th>\n",
       "      <th>vlo_o</th>\n",
       "      <th>ori_o</th>\n",
       "      <th>des_o</th>\n",
       "      <th>emp_o</th>\n",
       "      <th>dia</th>\n",
       "      <th>mes</th>\n",
       "      <th>ano</th>\n",
       "      <th>dianom</th>\n",
       "      <th>tipovuelo</th>\n",
       "      <th>opera</th>\n",
       "      <th>siglaori</th>\n",
       "      <th>siglades</th>\n",
       "    </tr>\n",
       "  </thead>\n",
       "  <tbody>\n",
       "    <tr>\n",
       "      <th>6068</th>\n",
       "      <td>2017-01-19 11:00:00</td>\n",
       "      <td>200</td>\n",
       "      <td>SCEL</td>\n",
       "      <td>SPJC</td>\n",
       "      <td>LAW</td>\n",
       "      <td>2017-01-19 11:03:00</td>\n",
       "      <td>NaN</td>\n",
       "      <td>SCEL</td>\n",
       "      <td>SPJC</td>\n",
       "      <td>56R</td>\n",
       "      <td>19</td>\n",
       "      <td>1</td>\n",
       "      <td>2017</td>\n",
       "      <td>Jueves</td>\n",
       "      <td>I</td>\n",
       "      <td>Latin American Wings</td>\n",
       "      <td>Santiago</td>\n",
       "      <td>Lima</td>\n",
       "    </tr>\n",
       "  </tbody>\n",
       "</table>\n",
       "</div>"
      ],
      "text/plain": [
       "                 fecha_i vlo_i ori_i des_i emp_i             fecha_o vlo_o  \\\n",
       "6068 2017-01-19 11:00:00   200  SCEL  SPJC   LAW 2017-01-19 11:03:00   NaN   \n",
       "\n",
       "     ori_o des_o emp_o  dia  mes   ano  dianom tipovuelo  \\\n",
       "6068  SCEL  SPJC   56R   19    1  2017  Jueves         I   \n",
       "\n",
       "                     opera  siglaori siglades  \n",
       "6068  Latin American Wings  Santiago     Lima  "
      ]
     },
     "execution_count": 1040,
     "metadata": {},
     "output_type": "execute_result"
    }
   ],
   "source": [
    "# Revisión fila con valor faltante\n",
    "vuelos[vuelos[\"vlo_o\"].isna()]"
   ]
  },
  {
   "attachments": {},
   "cell_type": "markdown",
   "metadata": {},
   "source": [
    "Es un vuelo de Santiago a Lima, que tiene un número de vuelo programado, pero no un número de vuelo real. Por lo tanto, podemos reemplazar el valor faltante por el valor de la columna `vlo-i`, es decir con el número de vuelo programado."
   ]
  },
  {
   "cell_type": "code",
   "execution_count": 1041,
   "metadata": {},
   "outputs": [],
   "source": [
    "# Reemplazamos por el número de vuelo programado\n",
    "vuelos.loc[vuelos[\"vlo_o\"].isna(), \"vlo_o\"] = vuelos.loc[vuelos[\"vlo_o\"].isna(), \"vlo_i\"]"
   ]
  },
  {
   "attachments": {},
   "cell_type": "markdown",
   "metadata": {},
   "source": [
    "<br>\n",
    "\n",
    "---\n",
    "\n",
    "<br>"
   ]
  },
  {
   "attachments": {},
   "cell_type": "markdown",
   "metadata": {},
   "source": [
    "# 1.) "
   ]
  },
  {
   "attachments": {},
   "cell_type": "markdown",
   "metadata": {},
   "source": [
    "## Distribución de los datos:"
   ]
  },
  {
   "attachments": {},
   "cell_type": "markdown",
   "metadata": {},
   "source": [
    "Observando cada columna, podemos ver que la mayorías de las variables son de texto, por lo que no podemos asociarle alguna distribución estadística. Además las que son numéricas son códigos de vuelo o fechas, por lo que tampoco podemos asociarle alguna distribución estadística. Lo que sí podemos hacer es ver la distribución de los datos en términos de cantidades por: `mes`, `día de la semana`, `ciudad de destino`, `nombre de la aerolinea`, etc, para ver si hay valores que se repitan más que otros.\n",
    "\n",
    "Definiremos una función que nos sirva para graficar la distribución de los datos en términos de cantidades por categoría."
   ]
  },
  {
   "cell_type": "code",
   "execution_count": 1042,
   "metadata": {},
   "outputs": [],
   "source": [
    "# Función para graficar las distintas variables\n",
    "def graph_bar(df: pd.DataFrame, col: str, quant: str, title: str, col_aux = None):\n",
    "    \"\"\"\n",
    "    Función para graficar barras.\n",
    "    \"\"\"\n",
    "    if col_aux:\n",
    "        df_graph = df.sort_values(col_aux, ascending = False)\n",
    "    else: \n",
    "        df_graph = df.sort_values(quant, ascending = True)\n",
    "\n",
    "    # Dejamos solamente 15 valores para que el gráfico no sea tan grande\n",
    "    df_graph = df_graph.iloc[-15:, :]\n",
    "\n",
    "    # Creamos el gráfico\n",
    "    fig, ax = plt.subplots(figsize=(8, 6))\n",
    "\n",
    "    # Hacemos el eje y\n",
    "    ax.set_yticks(range(len(df_graph)))\n",
    "    ax.set_yticklabels(df_graph[col])\n",
    "\n",
    "    # Definimos la etiqueta y el rango del eje x\n",
    "    ax.set_xlabel(\"Cantidad de vuelos\")\n",
    "    ax.set_xlim(0, df_graph[quant].max() + 1000)\n",
    "\n",
    "    # Definimos el título\n",
    "    ax.set_title(f\"Cantidad de vuelos por {title}\", fontsize=16)\n",
    "\n",
    "    # Graficamos las barras\n",
    "    bars = ax.barh(range(len(df_graph)), df_graph[quant], color=\"#2A0087\")\n",
    "\n",
    "    # Agregamos la cantidad de vuelos en cada barra\n",
    "    for i, bar in enumerate(bars):\n",
    "        ax.text(bar.get_width() + 5, bar.get_y() + bar.get_height() / 2, df_graph[quant].iloc[i], va=\"center\")\n",
    "\n",
    "    # Mostramos el gráfico\n",
    "    plt.show()"
   ]
  },
  {
   "attachments": {},
   "cell_type": "markdown",
   "metadata": {},
   "source": [
    "### Cantidad de vuelos por mes:"
   ]
  },
  {
   "cell_type": "code",
   "execution_count": 1043,
   "metadata": {},
   "outputs": [],
   "source": [
    "# Nombre del mes\n",
    "vuelos[\"mes_nom\"] = vuelos[\"mes\"].map({1: \"Enero\", 2: \"Febrero\", 3: \"Marzo\", 4: \"Abril\", 5: \"Mayo\", 6: \"Junio\", 7: \"Julio\", 8: \"Agosto\", 9: \"Septiembre\", \n",
    "    10: \"Octubre\", 11: \"Noviembre\", 12: \"Diciembre\"\n",
    "    })"
   ]
  },
  {
   "cell_type": "code",
   "execution_count": 1044,
   "metadata": {},
   "outputs": [],
   "source": [
    "# Vuelos por mes\n",
    "vuelos_mensuales = (\n",
    "    vuelos.groupby([\"mes_nom\", \"mes\"]).agg(\n",
    "        cantidad_vuelos = pd.NamedAgg(column=\"vlo_i\", aggfunc=\"count\")\n",
    "    ).reset_index()\n",
    ")"
   ]
  },
  {
   "cell_type": "code",
   "execution_count": 1045,
   "metadata": {},
   "outputs": [
    {
     "data": {
      "image/png": "[encoded data removed]",
      "text/plain": [
       "<Figure size 576x432 with 1 Axes>"
      ]
     },
     "metadata": {},
     "output_type": "display_data"
    }
   ],
   "source": [
    "# Graficamos\n",
    "graph_bar(vuelos_mensuales, \"mes_nom\", \"cantidad_vuelos\", \"mes\", \"mes\")"
   ]
  },
  {
   "attachments": {},
   "cell_type": "markdown",
   "metadata": {},
   "source": [
    "### Cantidad de vuelos por día de la semana:"
   ]
  },
  {
   "cell_type": "code",
   "execution_count": 1046,
   "metadata": {},
   "outputs": [],
   "source": [
    "# Día de la semana numérico\n",
    "vuelos[\"dia_semana_num\"] = vuelos[\"dianom\"].map({\"Lunes\": 1, \"Martes\": 2, \"Miercoles\": 3, \"Jueves\": 4, \"Viernes\": 5, \"Sabado\": 6, \"Domingo\": 7})"
   ]
  },
  {
   "cell_type": "code",
   "execution_count": 1047,
   "metadata": {},
   "outputs": [],
   "source": [
    "# Vuelos por día de la semana\n",
    "vuelos_sem = (\n",
    "    vuelos.groupby([\"dianom\", \"dia_semana_num\"]).agg(\n",
    "        cantidad_vuelos = pd.NamedAgg(column=\"vlo_i\", aggfunc=\"count\")\n",
    "    ).reset_index()\n",
    ")"
   ]
  },
  {
   "cell_type": "code",
   "execution_count": 1048,
   "metadata": {},
   "outputs": [
    {
     "data": {
      "image/png": "[encoded data removed]",
      "text/plain": [
       "<Figure size 576x432 with 1 Axes>"
      ]
     },
     "metadata": {},
     "output_type": "display_data"
    }
   ],
   "source": [
    "# Graficamos\n",
    "graph_bar(vuelos_sem, \"dianom\", \"cantidad_vuelos\", \"día de la semana\", \"dia_semana_num\")"
   ]
  },
  {
   "attachments": {},
   "cell_type": "markdown",
   "metadata": {},
   "source": [
    "### Cantidad de vuelos por ciudad de destino:"
   ]
  },
  {
   "cell_type": "code",
   "execution_count": 1049,
   "metadata": {},
   "outputs": [],
   "source": [
    "# Vuelos por ciudad de destino\n",
    "vuelos_dest = (\n",
    "    vuelos.groupby(\"siglades\").agg(\n",
    "        cantidad_vuelos = pd.NamedAgg(column=\"vlo_i\", aggfunc=\"count\")\n",
    "    ).reset_index()\n",
    ")"
   ]
  },
  {
   "cell_type": "code",
   "execution_count": 1050,
   "metadata": {},
   "outputs": [
    {
     "data": {
      "image/png": "[encoded data removed]",
      "text/plain": [
       "<Figure size 576x432 with 1 Axes>"
      ]
     },
     "metadata": {},
     "output_type": "display_data"
    }
   ],
   "source": [
    "# Graficamos\n",
    "graph_bar(vuelos_dest, \"siglades\", \"cantidad_vuelos\", \"ciudad de destino\")"
   ]
  },
  {
   "attachments": {},
   "cell_type": "markdown",
   "metadata": {},
   "source": [
    "### Cantidad de vuelos por aerolínea:"
   ]
  },
  {
   "cell_type": "code",
   "execution_count": 1051,
   "metadata": {},
   "outputs": [],
   "source": [
    "# Vuelos por aerolínea\n",
    "vuelos_aero = (\n",
    "    vuelos.groupby(\"opera\").agg(\n",
    "        cantidad_vuelos = pd.NamedAgg(column=\"vlo_i\", aggfunc=\"count\")\n",
    "    ).reset_index()\n",
    ")"
   ]
  },
  {
   "cell_type": "code",
   "execution_count": 1052,
   "metadata": {},
   "outputs": [
    {
     "data": {
      "image/png": "[encoded data removed]",
      "text/plain": [
       "<Figure size 576x432 with 1 Axes>"
      ]
     },
     "metadata": {},
     "output_type": "display_data"
    }
   ],
   "source": [
    "# Graficamos\n",
    "graph_bar(vuelos_aero, \"opera\", \"cantidad_vuelos\", \"aerolínea\")"
   ]
  },
  {
   "attachments": {},
   "cell_type": "markdown",
   "metadata": {},
   "source": [
    "### Cantidad de vuelos por tipo de vuelo:"
   ]
  },
  {
   "cell_type": "code",
   "execution_count": 1053,
   "metadata": {},
   "outputs": [],
   "source": [
    "# Vuelos por aerolínea\n",
    "vuelos_tipo = (\n",
    "    vuelos.groupby(\"tipovuelo\").agg(\n",
    "        cantidad_vuelos = pd.NamedAgg(column=\"vlo_i\", aggfunc=\"count\")\n",
    "    ).reset_index()\n",
    ")\n",
    "\n",
    "# Agregamos el nombre completo para que se vea mejor en el gráfico\n",
    "vuelos_tipo[\"tipovuelo\"] = vuelos_tipo[\"tipovuelo\"].map({\"N\": \"Nacional\", \"I\": \"Internacional\"})"
   ]
  },
  {
   "cell_type": "code",
   "execution_count": 1054,
   "metadata": {},
   "outputs": [
    {
     "data": {
      "image/png": "[encoded data removed]",
      "text/plain": [
       "<Figure size 576x432 with 1 Axes>"
      ]
     },
     "metadata": {},
     "output_type": "display_data"
    }
   ],
   "source": [
    "# Graficamos\n",
    "graph_bar(vuelos_tipo, \"tipovuelo\", \"cantidad_vuelos\", \"aerolínea\")"
   ]
  },
  {
   "attachments": {},
   "cell_type": "markdown",
   "metadata": {},
   "source": [
    "## Ideas importantes"
   ]
  },
  {
   "attachments": {},
   "cell_type": "markdown",
   "metadata": {},
   "source": [
    "Viendo las 4 figuras podemos notar lo siguiente:\n",
    "\n",
    "- Diciembre es el mes donde más vuelos tuvieron lugar en el aeropuerto de Santiago. Mientras que Junio fue el mes con menor cantidad de vuelos.\n",
    "- El día de la semana con mayor cantidad de viajes es el viernes, mientras que el día con menor cantidad de viajes es el sábado. Parece extraño de todas maneras que el sábado haya tan poca cantidad de vuelos.\n",
    "- También podemos notar que la ciudad de destino con mayor cantidad de vuelos es Buenos Aires, lo siguen Antofagasta Lima y Calama. \n",
    "- Por último, la aerolínea con mayor cantidad de vuelos es LATAM, seguida de Sky Airline y Aerolíneas Argentinas. Notamos también que la diferencia entre la cantidad de vuelos de LATAM y todas las demás aerolíneas es muy grande."
   ]
  },
  {
   "attachments": {},
   "cell_type": "markdown",
   "metadata": {},
   "source": [
    "## Conclusiones"
   ]
  },
  {
   "attachments": {},
   "cell_type": "markdown",
   "metadata": {},
   "source": [
    "Por el momento no podemos sacar muchas conclusiones del análisis, pero lo que se puede concluir hasta el momento es lo siguiente:\n",
    "- El flujo del aeropuerto entre Octubre y Enero es mayor que el flujo los demás meses del año. Además parece ser que los meses de vacaciones son los que tienen mayor cantidad de vuelos, lo cual es lógico, pero vemos que los datos se condicen con lo que se esperaría.\n",
    "- Los jueves y viernes son los días más concurridos. Tiene sentido pues la gente suele viajar los fines de semana para ver a sus familiares o amigos que viven en otra ciudad/país. \n",
    "- La aerolínea LATAM demuestra ser la más popular en el aeropuerto de Santiago.\n",
    "- Viendo que en todos los casos la ciudad de origen es Santiago, podemos concluir que los datos son todos de despegue en Santiago y aterrizaje en otra ciudad.\n",
    "\n",
    "Por el momento no hay información que nos sirva para determinar el por qué del retraso de los vuelos, pero más adelante veremos si podemos sacar alguna conclusión sobre eso."
   ]
  },
  {
   "attachments": {},
   "cell_type": "markdown",
   "metadata": {},
   "source": [
    "<br>\n",
    "\n",
    "---\n",
    "\n",
    "<br>"
   ]
  },
  {
   "attachments": {},
   "cell_type": "markdown",
   "metadata": {},
   "source": [
    "# 2.) "
   ]
  },
  {
   "attachments": {},
   "cell_type": "markdown",
   "metadata": {},
   "source": [
    "## Creación de columnas adicionales\n",
    "\n",
    "Ahora crearemos las columnas adicionales que se piden, para luego exportarlas a un archivo csv."
   ]
  },
  {
   "cell_type": "code",
   "execution_count": 1055,
   "metadata": {},
   "outputs": [],
   "source": [
    "# high_season\n",
    "vuelos[\"high_season\"] = vuelos[\"fecha_i\"].apply(lambda x: \n",
    "1 if (x.month == 12 and x.day >= 15) or \\\n",
    "    x.month == 1 or x.month == 2 or \\\n",
    "        (x.month == 3 and x.day <= 3) or \\\n",
    "            (x.month == 7 and x.day >= 15) or \\\n",
    "                (x.month == 9 and x.day >= 11) else 0)\n",
    "\n",
    "# min_diff\n",
    "vuelos[\"min_diff\"] = vuelos.apply(lambda x: (x[\"fecha_o\"] - x[\"fecha_i\"]).seconds / 60 if (x[\"fecha_o\"] > x[\"fecha_i\"]) else 0, axis = 1).astype(int)\n",
    "\n",
    "# delay_15\n",
    "vuelos[\"delay_15\"] = vuelos[\"min_diff\"].apply(lambda x: 1 if x >= 15 else 0)\n",
    "\n",
    "# period_day\n",
    "vuelos[\"period_day\"] = vuelos[\"fecha_i\"].apply(lambda x: \"Morning\" if (x.hour < 12 and x.hour >= 5) else \"Afternoon\" if (x.hour < 19 and x.hour >= 12) else \"Night\")"
   ]
  },
  {
   "attachments": {},
   "cell_type": "markdown",
   "metadata": {},
   "source": [
    "Para el cálculo de la variable `min_diff`, se tuvo en consideración que hay bastantes fecha_o menores a fecha_i, es decir, vuelos que salieron antes de lo planeado, por lo que se tomó la decisión de dejar el valor de `min_diff` como 0 en estos casos, pues estos no serán retrasos. De todas maneras es extraño que un vuelo salga antes de lo planeado, por lo que es extraño que hayan tantos casos de estos (17.910 de 68.206)."
   ]
  },
  {
   "attachments": {},
   "cell_type": "markdown",
   "metadata": {},
   "source": [
    "Ahora guardamos las columnas en un archivo csv como se pide:"
   ]
  },
  {
   "cell_type": "code",
   "execution_count": 1056,
   "metadata": {},
   "outputs": [],
   "source": [
    "# Guardamos las columnas creadas en un archivo csv\n",
    "vuelos[[\"high_season\", \"min_diff\", \"delay_15\", \"period_day\"]].to_csv(os.path.join(output_path, \"synthetic_features.csv\"), index = False, sep = \";\")"
   ]
  },
  {
   "attachments": {},
   "cell_type": "markdown",
   "metadata": {},
   "source": [
    "<br>\n",
    "\n",
    "---\n",
    "\n",
    "<br>"
   ]
  },
  {
   "attachments": {},
   "cell_type": "markdown",
   "metadata": {},
   "source": [
    "# 3.)"
   ]
  },
  {
   "attachments": {},
   "cell_type": "markdown",
   "metadata": {},
   "source": [
    "## Relación entre algunas variables y el retraso del vuelo"
   ]
  },
  {
   "attachments": {},
   "cell_type": "markdown",
   "metadata": {},
   "source": [
    "Se pide ver la tasa de retraso para distintos factores, por lo que crearemos una función que nos permita calcular esta tasa para las distintas variables."
   ]
  },
  {
   "cell_type": "code",
   "execution_count": 1057,
   "metadata": {},
   "outputs": [],
   "source": [
    "# Creamos la función\n",
    "def delay_rate(df: pd.DataFrame, col: str, col_aux: str, col_name: str):\n",
    "\n",
    "    # Creamos el dataframe con la tasa de demora por variable\n",
    "    t_demora = (\n",
    "    vuelos.groupby(col).agg(\n",
    "    cantidad_vuelos = pd.NamedAgg(column=col_aux, aggfunc=\"count\"),\n",
    "    tasa_demora = pd.NamedAgg(column=\"delay_15\", aggfunc=lambda x: x.mean())\n",
    "    ).reset_index().round(2).sort_values(\"tasa_demora\", ascending = False).rename(columns = {col: col_name})\n",
    "    )\n",
    "\n",
    "    # Retornamos el dataframe\n",
    "    return t_demora"
   ]
  },
  {
   "attachments": {},
   "cell_type": "markdown",
   "metadata": {},
   "source": [
    "### Destino:"
   ]
  },
  {
   "cell_type": "code",
   "execution_count": 1058,
   "metadata": {},
   "outputs": [
    {
     "data": {
      "text/html": [
       "<div>\n",
       "<style scoped>\n",
       "    .dataframe tbody tr th:only-of-type {\n",
       "        vertical-align: middle;\n",
       "    }\n",
       "\n",
       "    .dataframe tbody tr th {\n",
       "        vertical-align: top;\n",
       "    }\n",
       "\n",
       "    .dataframe thead th {\n",
       "        text-align: right;\n",
       "    }\n",
       "</style>\n",
       "<table border=\"1\" class=\"dataframe\">\n",
       "  <thead>\n",
       "    <tr style=\"text-align: right;\">\n",
       "      <th></th>\n",
       "      <th>Destino</th>\n",
       "      <th>cantidad_vuelos</th>\n",
       "      <th>tasa_demora</th>\n",
       "    </tr>\n",
       "  </thead>\n",
       "  <tbody>\n",
       "    <tr>\n",
       "      <th>18</th>\n",
       "      <td>Cordoba</td>\n",
       "      <td>1023</td>\n",
       "      <td>0.33</td>\n",
       "    </tr>\n",
       "    <tr>\n",
       "      <th>49</th>\n",
       "      <td>Rio de Janeiro</td>\n",
       "      <td>1435</td>\n",
       "      <td>0.31</td>\n",
       "    </tr>\n",
       "    <tr>\n",
       "      <th>33</th>\n",
       "      <td>Mendoza</td>\n",
       "      <td>1625</td>\n",
       "      <td>0.29</td>\n",
       "    </tr>\n",
       "    <tr>\n",
       "      <th>8</th>\n",
       "      <td>Buenos Aires</td>\n",
       "      <td>6335</td>\n",
       "      <td>0.28</td>\n",
       "    </tr>\n",
       "    <tr>\n",
       "      <th>54</th>\n",
       "      <td>Sao Paulo</td>\n",
       "      <td>3569</td>\n",
       "      <td>0.27</td>\n",
       "    </tr>\n",
       "    <tr>\n",
       "      <th>7</th>\n",
       "      <td>Bogota</td>\n",
       "      <td>1604</td>\n",
       "      <td>0.27</td>\n",
       "    </tr>\n",
       "    <tr>\n",
       "      <th>28</th>\n",
       "      <td>Lima</td>\n",
       "      <td>5270</td>\n",
       "      <td>0.25</td>\n",
       "    </tr>\n",
       "    <tr>\n",
       "      <th>35</th>\n",
       "      <td>Montevideo</td>\n",
       "      <td>1066</td>\n",
       "      <td>0.23</td>\n",
       "    </tr>\n",
       "    <tr>\n",
       "      <th>34</th>\n",
       "      <td>Miami</td>\n",
       "      <td>1016</td>\n",
       "      <td>0.20</td>\n",
       "    </tr>\n",
       "    <tr>\n",
       "      <th>24</th>\n",
       "      <td>Iquique</td>\n",
       "      <td>3747</td>\n",
       "      <td>0.19</td>\n",
       "    </tr>\n",
       "  </tbody>\n",
       "</table>\n",
       "</div>"
      ],
      "text/plain": [
       "           Destino  cantidad_vuelos  tasa_demora\n",
       "18         Cordoba             1023         0.33\n",
       "49  Rio de Janeiro             1435         0.31\n",
       "33         Mendoza             1625         0.29\n",
       "8     Buenos Aires             6335         0.28\n",
       "54       Sao Paulo             3569         0.27\n",
       "7           Bogota             1604         0.27\n",
       "28            Lima             5270         0.25\n",
       "35      Montevideo             1066         0.23\n",
       "34           Miami             1016         0.20\n",
       "24         Iquique             3747         0.19"
      ]
     },
     "execution_count": 1058,
     "metadata": {},
     "output_type": "execute_result"
    }
   ],
   "source": [
    "# Calculamos la tasa de demora por destino\n",
    "t_demora_destino = delay_rate(vuelos, \"siglades\", \"vlo_i\", \"Destino\")\n",
    "\n",
    "# Mostramos el top 10 de los destinos con mayor tasa de demora (para los que hay más de 1000 vuelos)\n",
    "t_demora_destino[t_demora_destino[\"cantidad_vuelos\"] > 1000].head(10)"
   ]
  },
  {
   "attachments": {},
   "cell_type": "markdown",
   "metadata": {},
   "source": [
    "En este caso se tomaron solamente los destinos que tengan más de 1.000 vuelos, pues si el destino tiene muy pocos vuelos, la tasa no es muy representativa. Podemos notar que algunas de las ciudades de Brasil y Argentina son las mayor tasa de retraso tienen. Esto puede deberse a que los vuelos a estas ciudades son más largos que los vuelos a otras ciudades, por lo que es más probable que se retrasen, puede ser por lo mismo que aparecen pocos destinos naciales en este top."
   ]
  },
  {
   "attachments": {},
   "cell_type": "markdown",
   "metadata": {},
   "source": [
    "### Aerolínea:"
   ]
  },
  {
   "cell_type": "code",
   "execution_count": 1059,
   "metadata": {},
   "outputs": [
    {
     "data": {
      "text/html": [
       "<div>\n",
       "<style scoped>\n",
       "    .dataframe tbody tr th:only-of-type {\n",
       "        vertical-align: middle;\n",
       "    }\n",
       "\n",
       "    .dataframe tbody tr th {\n",
       "        vertical-align: top;\n",
       "    }\n",
       "\n",
       "    .dataframe thead th {\n",
       "        text-align: right;\n",
       "    }\n",
       "</style>\n",
       "<table border=\"1\" class=\"dataframe\">\n",
       "  <thead>\n",
       "    <tr style=\"text-align: right;\">\n",
       "      <th></th>\n",
       "      <th>Aerolínea</th>\n",
       "      <th>cantidad_vuelos</th>\n",
       "      <th>tasa_demora</th>\n",
       "    </tr>\n",
       "  </thead>\n",
       "  <tbody>\n",
       "    <tr>\n",
       "      <th>20</th>\n",
       "      <td>Qantas Airways</td>\n",
       "      <td>195</td>\n",
       "      <td>0.60</td>\n",
       "    </tr>\n",
       "    <tr>\n",
       "      <th>2</th>\n",
       "      <td>Air Canada</td>\n",
       "      <td>565</td>\n",
       "      <td>0.47</td>\n",
       "    </tr>\n",
       "    <tr>\n",
       "      <th>17</th>\n",
       "      <td>Latin American Wings</td>\n",
       "      <td>1674</td>\n",
       "      <td>0.42</td>\n",
       "    </tr>\n",
       "    <tr>\n",
       "      <th>11</th>\n",
       "      <td>Gol Trans</td>\n",
       "      <td>806</td>\n",
       "      <td>0.37</td>\n",
       "    </tr>\n",
       "    <tr>\n",
       "      <th>7</th>\n",
       "      <td>Avianca</td>\n",
       "      <td>1152</td>\n",
       "      <td>0.28</td>\n",
       "    </tr>\n",
       "    <tr>\n",
       "      <th>0</th>\n",
       "      <td>Aerolineas Argentinas</td>\n",
       "      <td>1949</td>\n",
       "      <td>0.26</td>\n",
       "    </tr>\n",
       "    <tr>\n",
       "      <th>12</th>\n",
       "      <td>Grupo LATAM</td>\n",
       "      <td>40892</td>\n",
       "      <td>0.19</td>\n",
       "    </tr>\n",
       "    <tr>\n",
       "      <th>14</th>\n",
       "      <td>JetSmart SPA</td>\n",
       "      <td>1095</td>\n",
       "      <td>0.19</td>\n",
       "    </tr>\n",
       "    <tr>\n",
       "      <th>21</th>\n",
       "      <td>Sky Airline</td>\n",
       "      <td>14298</td>\n",
       "      <td>0.19</td>\n",
       "    </tr>\n",
       "    <tr>\n",
       "      <th>8</th>\n",
       "      <td>British Airways</td>\n",
       "      <td>205</td>\n",
       "      <td>0.15</td>\n",
       "    </tr>\n",
       "  </tbody>\n",
       "</table>\n",
       "</div>"
      ],
      "text/plain": [
       "                Aerolínea  cantidad_vuelos  tasa_demora\n",
       "20         Qantas Airways              195         0.60\n",
       "2              Air Canada              565         0.47\n",
       "17   Latin American Wings             1674         0.42\n",
       "11              Gol Trans              806         0.37\n",
       "7                 Avianca             1152         0.28\n",
       "0   Aerolineas Argentinas             1949         0.26\n",
       "12            Grupo LATAM            40892         0.19\n",
       "14           JetSmart SPA             1095         0.19\n",
       "21            Sky Airline            14298         0.19\n",
       "8         British Airways              205         0.15"
      ]
     },
     "execution_count": 1059,
     "metadata": {},
     "output_type": "execute_result"
    }
   ],
   "source": [
    "# Calculamos la tasa de demora por aerolínea\n",
    "t_demora_aerolinea = delay_rate(vuelos, \"opera\", \"vlo_i\", \"Aerolínea\")\n",
    "\n",
    "# Mostramos el top 10 de las aerolíneas con mayor tasa de demora (para las que hay más de 100 vuelos)\n",
    "t_demora_aerolinea[t_demora_aerolinea[\"cantidad_vuelos\"] > 100].head(10)"
   ]
  },
  {
   "attachments": {},
   "cell_type": "markdown",
   "metadata": {},
   "source": [
    "En esta caso se tomaron las aerolíneas con más de 100 vuelos, por la misma razón de antes. Se ve que `Qantas Airways` tiene una alta tasa de retraso (60%) y notamos que LATAM se encuentra en el top 10 (de 20) de las aerolíneas con mayor tasa de retraso con un 19%. "
   ]
  },
  {
   "attachments": {},
   "cell_type": "markdown",
   "metadata": {},
   "source": [
    "### Mes del año:"
   ]
  },
  {
   "cell_type": "code",
   "execution_count": 1060,
   "metadata": {},
   "outputs": [
    {
     "data": {
      "text/html": [
       "<div>\n",
       "<style scoped>\n",
       "    .dataframe tbody tr th:only-of-type {\n",
       "        vertical-align: middle;\n",
       "    }\n",
       "\n",
       "    .dataframe tbody tr th {\n",
       "        vertical-align: top;\n",
       "    }\n",
       "\n",
       "    .dataframe thead th {\n",
       "        text-align: right;\n",
       "    }\n",
       "</style>\n",
       "<table border=\"1\" class=\"dataframe\">\n",
       "  <thead>\n",
       "    <tr style=\"text-align: right;\">\n",
       "      <th></th>\n",
       "      <th>Mes</th>\n",
       "      <th>cantidad_vuelos</th>\n",
       "      <th>tasa_demora</th>\n",
       "    </tr>\n",
       "  </thead>\n",
       "  <tbody>\n",
       "    <tr>\n",
       "      <th>5</th>\n",
       "      <td>Julio</td>\n",
       "      <td>5992</td>\n",
       "      <td>0.31</td>\n",
       "    </tr>\n",
       "    <tr>\n",
       "      <th>2</th>\n",
       "      <td>Diciembre</td>\n",
       "      <td>6356</td>\n",
       "      <td>0.27</td>\n",
       "    </tr>\n",
       "    <tr>\n",
       "      <th>10</th>\n",
       "      <td>Octubre</td>\n",
       "      <td>6032</td>\n",
       "      <td>0.24</td>\n",
       "    </tr>\n",
       "    <tr>\n",
       "      <th>9</th>\n",
       "      <td>Noviembre</td>\n",
       "      <td>6080</td>\n",
       "      <td>0.21</td>\n",
       "    </tr>\n",
       "    <tr>\n",
       "      <th>1</th>\n",
       "      <td>Agosto</td>\n",
       "      <td>5744</td>\n",
       "      <td>0.19</td>\n",
       "    </tr>\n",
       "    <tr>\n",
       "      <th>6</th>\n",
       "      <td>Junio</td>\n",
       "      <td>4981</td>\n",
       "      <td>0.19</td>\n",
       "    </tr>\n",
       "    <tr>\n",
       "      <th>11</th>\n",
       "      <td>Septiembre</td>\n",
       "      <td>5610</td>\n",
       "      <td>0.19</td>\n",
       "    </tr>\n",
       "    <tr>\n",
       "      <th>3</th>\n",
       "      <td>Enero</td>\n",
       "      <td>6108</td>\n",
       "      <td>0.18</td>\n",
       "    </tr>\n",
       "    <tr>\n",
       "      <th>8</th>\n",
       "      <td>Mayo</td>\n",
       "      <td>5240</td>\n",
       "      <td>0.17</td>\n",
       "    </tr>\n",
       "    <tr>\n",
       "      <th>4</th>\n",
       "      <td>Febrero</td>\n",
       "      <td>5561</td>\n",
       "      <td>0.16</td>\n",
       "    </tr>\n",
       "    <tr>\n",
       "      <th>0</th>\n",
       "      <td>Abril</td>\n",
       "      <td>5020</td>\n",
       "      <td>0.13</td>\n",
       "    </tr>\n",
       "    <tr>\n",
       "      <th>7</th>\n",
       "      <td>Marzo</td>\n",
       "      <td>5482</td>\n",
       "      <td>0.12</td>\n",
       "    </tr>\n",
       "  </tbody>\n",
       "</table>\n",
       "</div>"
      ],
      "text/plain": [
       "           Mes  cantidad_vuelos  tasa_demora\n",
       "5        Julio             5992         0.31\n",
       "2    Diciembre             6356         0.27\n",
       "10     Octubre             6032         0.24\n",
       "9    Noviembre             6080         0.21\n",
       "1       Agosto             5744         0.19\n",
       "6        Junio             4981         0.19\n",
       "11  Septiembre             5610         0.19\n",
       "3        Enero             6108         0.18\n",
       "8         Mayo             5240         0.17\n",
       "4      Febrero             5561         0.16\n",
       "0        Abril             5020         0.13\n",
       "7        Marzo             5482         0.12"
      ]
     },
     "execution_count": 1060,
     "metadata": {},
     "output_type": "execute_result"
    }
   ],
   "source": [
    "# Calculamos la tasa de demora por mes del año\n",
    "t_demora_mes = delay_rate(vuelos, \"mes_nom\", \"vlo_i\", \"Mes\")\n",
    "\n",
    "# Mostramos los meses con mayor tasa de demora.\n",
    "t_demora_mes"
   ]
  },
  {
   "attachments": {},
   "cell_type": "markdown",
   "metadata": {},
   "source": [
    "En este caso se tomaron todos los meses. Se puede notar que en general las tasas de retraso son bastante parecidas, siendo julio el mayor y marzo el menor."
   ]
  },
  {
   "attachments": {},
   "cell_type": "markdown",
   "metadata": {},
   "source": [
    "### Día de la semana:"
   ]
  },
  {
   "cell_type": "code",
   "execution_count": 1061,
   "metadata": {},
   "outputs": [
    {
     "data": {
      "text/html": [
       "<div>\n",
       "<style scoped>\n",
       "    .dataframe tbody tr th:only-of-type {\n",
       "        vertical-align: middle;\n",
       "    }\n",
       "\n",
       "    .dataframe tbody tr th {\n",
       "        vertical-align: top;\n",
       "    }\n",
       "\n",
       "    .dataframe thead th {\n",
       "        text-align: right;\n",
       "    }\n",
       "</style>\n",
       "<table border=\"1\" class=\"dataframe\">\n",
       "  <thead>\n",
       "    <tr style=\"text-align: right;\">\n",
       "      <th></th>\n",
       "      <th>Día de la semana</th>\n",
       "      <th>cantidad_vuelos</th>\n",
       "      <th>tasa_demora</th>\n",
       "    </tr>\n",
       "  </thead>\n",
       "  <tbody>\n",
       "    <tr>\n",
       "      <th>6</th>\n",
       "      <td>Viernes</td>\n",
       "      <td>10292</td>\n",
       "      <td>0.24</td>\n",
       "    </tr>\n",
       "    <tr>\n",
       "      <th>1</th>\n",
       "      <td>Jueves</td>\n",
       "      <td>10251</td>\n",
       "      <td>0.22</td>\n",
       "    </tr>\n",
       "    <tr>\n",
       "      <th>2</th>\n",
       "      <td>Lunes</td>\n",
       "      <td>10131</td>\n",
       "      <td>0.22</td>\n",
       "    </tr>\n",
       "    <tr>\n",
       "      <th>0</th>\n",
       "      <td>Domingo</td>\n",
       "      <td>9796</td>\n",
       "      <td>0.18</td>\n",
       "    </tr>\n",
       "    <tr>\n",
       "      <th>3</th>\n",
       "      <td>Martes</td>\n",
       "      <td>9662</td>\n",
       "      <td>0.18</td>\n",
       "    </tr>\n",
       "    <tr>\n",
       "      <th>4</th>\n",
       "      <td>Miercoles</td>\n",
       "      <td>9722</td>\n",
       "      <td>0.18</td>\n",
       "    </tr>\n",
       "    <tr>\n",
       "      <th>5</th>\n",
       "      <td>Sabado</td>\n",
       "      <td>8352</td>\n",
       "      <td>0.18</td>\n",
       "    </tr>\n",
       "  </tbody>\n",
       "</table>\n",
       "</div>"
      ],
      "text/plain": [
       "  Día de la semana  cantidad_vuelos  tasa_demora\n",
       "6          Viernes            10292         0.24\n",
       "1           Jueves            10251         0.22\n",
       "2            Lunes            10131         0.22\n",
       "0          Domingo             9796         0.18\n",
       "3           Martes             9662         0.18\n",
       "4        Miercoles             9722         0.18\n",
       "5           Sabado             8352         0.18"
      ]
     },
     "execution_count": 1061,
     "metadata": {},
     "output_type": "execute_result"
    }
   ],
   "source": [
    "# Calculamos la tasa de demora por día de la semana\n",
    "t_demora_sem = delay_rate(vuelos, \"dianom\", \"vlo_i\", \"Día de la semana\")\n",
    "\n",
    "# Mostramos los días con mayor tasa de demora.\n",
    "t_demora_sem"
   ]
  },
  {
   "attachments": {},
   "cell_type": "markdown",
   "metadata": {},
   "source": [
    "Al igual que los meses, los días de la semana tienen tasas de retraso bastante parecidas, siendo el sábado el día con menor tasa de retraso y el viernes el día con mayor tasa de retraso."
   ]
  },
  {
   "attachments": {},
   "cell_type": "markdown",
   "metadata": {},
   "source": [
    "### Temporada:"
   ]
  },
  {
   "cell_type": "code",
   "execution_count": 1062,
   "metadata": {},
   "outputs": [
    {
     "data": {
      "text/html": [
       "<div>\n",
       "<style scoped>\n",
       "    .dataframe tbody tr th:only-of-type {\n",
       "        vertical-align: middle;\n",
       "    }\n",
       "\n",
       "    .dataframe tbody tr th {\n",
       "        vertical-align: top;\n",
       "    }\n",
       "\n",
       "    .dataframe thead th {\n",
       "        text-align: right;\n",
       "    }\n",
       "</style>\n",
       "<table border=\"1\" class=\"dataframe\">\n",
       "  <thead>\n",
       "    <tr style=\"text-align: right;\">\n",
       "      <th></th>\n",
       "      <th>Temporada</th>\n",
       "      <th>cantidad_vuelos</th>\n",
       "      <th>tasa_demora</th>\n",
       "    </tr>\n",
       "  </thead>\n",
       "  <tbody>\n",
       "    <tr>\n",
       "      <th>1</th>\n",
       "      <td>1</td>\n",
       "      <td>22762</td>\n",
       "      <td>0.21</td>\n",
       "    </tr>\n",
       "    <tr>\n",
       "      <th>0</th>\n",
       "      <td>0</td>\n",
       "      <td>45444</td>\n",
       "      <td>0.19</td>\n",
       "    </tr>\n",
       "  </tbody>\n",
       "</table>\n",
       "</div>"
      ],
      "text/plain": [
       "   Temporada  cantidad_vuelos  tasa_demora\n",
       "1          1            22762         0.21\n",
       "0          0            45444         0.19"
      ]
     },
     "execution_count": 1062,
     "metadata": {},
     "output_type": "execute_result"
    }
   ],
   "source": [
    "# Calculamos la tasa de demora por período\n",
    "t_demora_seas = delay_rate(vuelos, \"high_season\", \"vlo_i\", \"Temporada\")\n",
    "\n",
    "# Mostramos las tasas de demora para la temporada alta \"1\" y baja \"0\".\n",
    "t_demora_seas"
   ]
  },
  {
   "attachments": {},
   "cell_type": "markdown",
   "metadata": {},
   "source": [
    "Para las temporadas alta y baja, podemos observar tasas casi iguales, siendo la temporada alta un poco mayor. Es interesante este dato, porque hay una gran diferencia en la cantidad de vuelos entre temporada alta y baja, siendo la baja bastante mayor. Aún así se mantiene con una tasa menor, lo que nos sirve para concluir que en las temporadas altas, los vuelos se atrasan más."
   ]
  },
  {
   "attachments": {},
   "cell_type": "markdown",
   "metadata": {},
   "source": [
    "### Tipo de vuelo:"
   ]
  },
  {
   "cell_type": "code",
   "execution_count": 1063,
   "metadata": {},
   "outputs": [
    {
     "data": {
      "text/html": [
       "<div>\n",
       "<style scoped>\n",
       "    .dataframe tbody tr th:only-of-type {\n",
       "        vertical-align: middle;\n",
       "    }\n",
       "\n",
       "    .dataframe tbody tr th {\n",
       "        vertical-align: top;\n",
       "    }\n",
       "\n",
       "    .dataframe thead th {\n",
       "        text-align: right;\n",
       "    }\n",
       "</style>\n",
       "<table border=\"1\" class=\"dataframe\">\n",
       "  <thead>\n",
       "    <tr style=\"text-align: right;\">\n",
       "      <th></th>\n",
       "      <th>Tipo de vuelo</th>\n",
       "      <th>cantidad_vuelos</th>\n",
       "      <th>tasa_demora</th>\n",
       "    </tr>\n",
       "  </thead>\n",
       "  <tbody>\n",
       "    <tr>\n",
       "      <th>0</th>\n",
       "      <td>I</td>\n",
       "      <td>31240</td>\n",
       "      <td>0.24</td>\n",
       "    </tr>\n",
       "    <tr>\n",
       "      <th>1</th>\n",
       "      <td>N</td>\n",
       "      <td>36966</td>\n",
       "      <td>0.16</td>\n",
       "    </tr>\n",
       "  </tbody>\n",
       "</table>\n",
       "</div>"
      ],
      "text/plain": [
       "  Tipo de vuelo  cantidad_vuelos  tasa_demora\n",
       "0             I            31240         0.24\n",
       "1             N            36966         0.16"
      ]
     },
     "execution_count": 1063,
     "metadata": {},
     "output_type": "execute_result"
    }
   ],
   "source": [
    "# Calculamos la tasa de demora por tipo de vuelo\n",
    "t_demora_tipo_v = delay_rate(vuelos, \"tipovuelo\", \"vlo_i\", \"Tipo de vuelo\")\n",
    "\n",
    "# Mostramos las tasas de demora para los distintos tipos de vuelo (I: internacional, N: nacional).\n",
    "t_demora_tipo_v"
   ]
  },
  {
   "attachments": {},
   "cell_type": "markdown",
   "metadata": {},
   "source": [
    "Por último, si observamos las tasas por tipo de vuelo, podemos observar que hay aproximadamente 5.000 vuelos más de tipo `Nacional` que de tipo `Internacional`. Sin embargo, la tasa de retraso de los vuelos internacionales es bastante mayor que la de los vuelos nacionales (un 8%) . Esto puede deberse a que los vuelos internacionales son más largos que los vuelos nacionales, por lo que es más probable que se retrasen, misma conclusión que obtuvimos con las distancias, ahora con los tipos de vuelo."
   ]
  },
  {
   "attachments": {},
   "cell_type": "markdown",
   "metadata": {},
   "source": [
    "## Variables que podrían tener más influencia en la predicción de la demora"
   ]
  },
  {
   "attachments": {},
   "cell_type": "markdown",
   "metadata": {},
   "source": [
    "Retomando los resultados del análisis anterior, yo creo que las variables que podrían ser más influyentes para predecir la demora de un vuelo son:\n",
    "- Destino: Esta variable tiene una gran influencia en la demora de un vuelo, pues los vuelos a ciudades más lejanas parecen tienen una mayor tasa de retraso en general (aunque esto no es siempre, no es una generalización, pero podría sernos de ayuda).\n",
    "- Tipo de vuelo: Esta variable mostró que los vuelos internacionales tienen una tasa de retraso mayor que los vuelos nacionales, por lo que podría ser una variable que nos sirva para predecir la demora de un vuelo.\n",
    "\n",
    "Ojo también con el período del día, que no se revisó en este análisis, pero a mi parecer podría ser una variable útil a la hora de predecir las demoras."
   ]
  },
  {
   "attachments": {},
   "cell_type": "markdown",
   "metadata": {},
   "source": [
    "<br>\n",
    "\n",
    "---\n",
    "\n",
    "<br>"
   ]
  },
  {
   "attachments": {},
   "cell_type": "markdown",
   "metadata": {},
   "source": [
    "# 4.)"
   ]
  },
  {
   "attachments": {},
   "cell_type": "markdown",
   "metadata": {},
   "source": [
    "## Entrenamiento de modelos"
   ]
  },
  {
   "attachments": {},
   "cell_type": "markdown",
   "metadata": {},
   "source": [
    "Antes de entrenar los modelos, mostraremos cuales serán las variables que usaremos para predecir la demora de un vuelo:\n",
    "- `dianom`: El día de la semana, pues este parece influir un poco en el retraso.\n",
    "- `tipo_vuelo`: El tipo de vuelo, pues se ve que los vuelos internacionales tienen una tasa de retraso mayor que los vuelos nacionales.\n",
    "- `opera`: La aerolínea que efectúa el vuelo, pues se ve que hay diferencias en la tasa de retraso entre las aerolíneas.\n",
    "- `mes_nom`: El mes del año, pues se nota que hay diferencias de tasas de retraso entre los meses.\n",
    "- `high_season`: La temporada alta o baja, pues se ve que hay una diferencia en la tasa de retraso entre estas temporadas.\n",
    "- `period_day`: El período del día, pues podría tener una influencia en la demora de un vuelo."
   ]
  },
  {
   "attachments": {},
   "cell_type": "markdown",
   "metadata": {},
   "source": [
    "Es importante mencionar que nos encontramos frente a un problema de `clasificación binaria`, pues la variable objetivo es una variable binaria 0 si el vuelo no se retrasó (o al menos no superó los 15 minutos) o 1 si es que se retrasó. \n",
    "\n",
    "Antes de hacer los modelos, haremos un `Random Forest`, para ver la importancia que tiene cada una de las variables, así podríamos evitar algunas variables que no estén aportando al modelo y solamente ocupen memoria. Luego, los modelos que usaremos serán modelos de clasificación binaria, más específicamente se utilizará un `Random Forest` y contrastaremos los resultados con una `Red Neuronal Densa`, esta última no tiene mucha interpretación, por lo que para ver la importancia de las variables utilizaremos el Random Forest.\n",
    "\n",
    "### **Importante**: \n",
    "Para cada modelo se calcularán las probabilidades de que un vuelo se retrase o no, lo que responde a la descripción del problema. No se ahonda mucho en estos valores más adelante, pero es importante tener en cuenta que estos cálculos se hacen para cada modelo."
   ]
  },
  {
   "attachments": {},
   "cell_type": "markdown",
   "metadata": {},
   "source": [
    "Ahora separamos los datos en `X` e `y`, donde `X` son las variables independientes y `y` la variable dependiente:"
   ]
  },
  {
   "cell_type": "code",
   "execution_count": 1064,
   "metadata": {},
   "outputs": [],
   "source": [
    "# Definimos los predictores\n",
    "X = vuelos[[\"dianom\", \"tipovuelo\", \"opera\", \"mes_nom\", \"high_season\", \"period_day\"]]\n",
    "\n",
    "# Definimos la variable respuesta\n",
    "y = vuelos[\"delay_15\"]"
   ]
  },
  {
   "attachments": {},
   "cell_type": "markdown",
   "metadata": {},
   "source": [
    "Creamos las variables dummy para las variables categóricas:"
   ]
  },
  {
   "cell_type": "code",
   "execution_count": 1065,
   "metadata": {},
   "outputs": [],
   "source": [
    "# Pasamos las variables categóricas a dummies\n",
    "X = pd.get_dummies(X, columns=[\"dianom\", \"tipovuelo\", \"opera\", \"mes_nom\", \"high_season\", \"period_day\"])\n",
    "\n",
    "# Tomamos los nombres de las columnas para usarlos después\n",
    "col_names = X.columns"
   ]
  },
  {
   "attachments": {},
   "cell_type": "markdown",
   "metadata": {},
   "source": [
    "Convertimos X en un array de numpy, para luego usarlo en los modelos:"
   ]
  },
  {
   "cell_type": "code",
   "execution_count": 1066,
   "metadata": {},
   "outputs": [],
   "source": [
    "# Pasamos X a un array\n",
    "X = np.array(X)"
   ]
  },
  {
   "attachments": {},
   "cell_type": "markdown",
   "metadata": {},
   "source": [
    "Veamos cuantos valores por clase hay en la variable objetivo:"
   ]
  },
  {
   "cell_type": "code",
   "execution_count": 1067,
   "metadata": {},
   "outputs": [
    {
     "data": {
      "text/plain": [
       "0    54590\n",
       "1    13616\n",
       "Name: delay_15, dtype: int64"
      ]
     },
     "metadata": {},
     "output_type": "display_data"
    },
    {
     "data": {
      "text/plain": [
       "0    0.8\n",
       "1    0.2\n",
       "Name: delay_15, dtype: float64"
      ]
     },
     "metadata": {},
     "output_type": "display_data"
    }
   ],
   "source": [
    "# Contamos la cantidad de 1's y 0's en la variable respuesta\n",
    "display(y.value_counts())\n",
    "display(y.value_counts(normalize = True).round(2))"
   ]
  },
  {
   "attachments": {},
   "cell_type": "markdown",
   "metadata": {},
   "source": [
    "Es importante darnos cuenta que estamos frente a un problema de desbalance de clases, pues hay un 80% de vuelos no retrasados y un 20% de vuelos retrasados. Al momento de separar los datos, nos aseguraremos de que haya un 80% de vuelos no retrasados y un 20% de vuelos retrasados en el conjunto de entrenamiento, en el conjunto de prueba y en el conjunto de validación."
   ]
  },
  {
   "attachments": {},
   "cell_type": "markdown",
   "metadata": {},
   "source": [
    "### Separación en entrenamiento, testeo y validación:"
   ]
  },
  {
   "attachments": {},
   "cell_type": "markdown",
   "metadata": {},
   "source": [
    "Como se mencionó anteriormente, se usará un `Random Forest` y una `Red Neuronal Densa` para predecir la demora de un vuelo. Para esto, lo primero que haremos será separar los datos en entrenamiento 80% y testeo 10%. Estos porcentajes se decidieron arbitrariamente, tomando en consideración que contamos con una cantidad decente de datos."
   ]
  },
  {
   "cell_type": "code",
   "execution_count": 1068,
   "metadata": {},
   "outputs": [],
   "source": [
    "# Separamos en entrenamiento, testeo y validación.\n",
    "# Definimos las proporciones de cada base\n",
    "train_prop = 0.8\n",
    "test_prop = 0.2\n",
    "\n",
    "# Separamos nuestras variables en entrenamiento y testeo\n",
    "X_train, X_test, y_train, y_test = train_test_split(X, y, test_size = test_prop, random_state = 201212189, stratify = y)"
   ]
  },
  {
   "cell_type": "code",
   "execution_count": 1069,
   "metadata": {},
   "outputs": [],
   "source": [
    "# Cambiamos las dimensiones de \"y\" para que la red los pueda procesar de buena manera.\n",
    "y_train_nn = to_categorical(y_train)\n",
    "y_test_nn = to_categorical(y_test)"
   ]
  },
  {
   "attachments": {},
   "cell_type": "markdown",
   "metadata": {},
   "source": [
    "### Random Forest como selector de variables:"
   ]
  },
  {
   "attachments": {},
   "cell_type": "markdown",
   "metadata": {},
   "source": [
    "Es importante mencionar que se utilizará el argumento `class_weight = 'balanced'` en los modelos, pues estamos frente a un problema de desbalance de clases, esto reducirá el accuracy general de los modelos, pero nos ayudará a que los modelos sean más precisos en la predicción de la clase minoritaria que en este caso es la que más nos interesa (los vuelos con retraso)."
   ]
  },
  {
   "cell_type": "code",
   "execution_count": 1070,
   "metadata": {},
   "outputs": [
    {
     "name": "stdout",
     "output_type": "stream",
     "text": [
      "\n",
      "El accuracy del modelo fue de un 65.44%\n"
     ]
    }
   ],
   "source": [
    "# Inicializamos el modelo\n",
    "rf = RandomForestClassifier(random_state = 201212189, class_weight=\"balanced\")\n",
    "\n",
    "# Ajustamos el modelo con los datos de entrenamiento\n",
    "rf.fit(X_train, y_train)\n",
    "\n",
    "# Predecimos con los datos de testeo\n",
    "y_pred_rf = rf.predict(X_test)\n",
    "\n",
    "# Predecimos las probabilidades de cada clase\n",
    "y_pred_rf_prob = rf.predict_proba(X_test)\n",
    "\n",
    "# Calculamos el accuracy que obtuvo el modelo\n",
    "print(f\"\\nEl accuracy del modelo fue de un {round(accuracy_score(y_test, y_pred_rf)*100, 2)}%\")"
   ]
  },
  {
   "attachments": {},
   "cell_type": "markdown",
   "metadata": {},
   "source": [
    "Se obtuvo un sobre un 65% de accuracy en la base de testeo, luego veremos si esto se mantiene si quitamos las variables con menor importancia."
   ]
  },
  {
   "cell_type": "code",
   "execution_count": 1071,
   "metadata": {},
   "outputs": [
    {
     "data": {
      "text/html": [
       "<div>\n",
       "<style scoped>\n",
       "    .dataframe tbody tr th:only-of-type {\n",
       "        vertical-align: middle;\n",
       "    }\n",
       "\n",
       "    .dataframe tbody tr th {\n",
       "        vertical-align: top;\n",
       "    }\n",
       "\n",
       "    .dataframe thead th {\n",
       "        text-align: right;\n",
       "    }\n",
       "</style>\n",
       "<table border=\"1\" class=\"dataframe\">\n",
       "  <thead>\n",
       "    <tr style=\"text-align: right;\">\n",
       "      <th></th>\n",
       "      <th>Nombre variable</th>\n",
       "      <th>importancia</th>\n",
       "    </tr>\n",
       "  </thead>\n",
       "  <tbody>\n",
       "    <tr>\n",
       "      <th>37</th>\n",
       "      <td>mes_nom_Julio</td>\n",
       "      <td>0.043887</td>\n",
       "    </tr>\n",
       "    <tr>\n",
       "      <th>2</th>\n",
       "      <td>dianom_Lunes</td>\n",
       "      <td>0.037451</td>\n",
       "    </tr>\n",
       "    <tr>\n",
       "      <th>21</th>\n",
       "      <td>opera_Grupo LATAM</td>\n",
       "      <td>0.037291</td>\n",
       "    </tr>\n",
       "    <tr>\n",
       "      <th>0</th>\n",
       "      <td>dianom_Domingo</td>\n",
       "      <td>0.037290</td>\n",
       "    </tr>\n",
       "    <tr>\n",
       "      <th>47</th>\n",
       "      <td>period_day_Morning</td>\n",
       "      <td>0.036920</td>\n",
       "    </tr>\n",
       "    <tr>\n",
       "      <th>3</th>\n",
       "      <td>dianom_Martes</td>\n",
       "      <td>0.036798</td>\n",
       "    </tr>\n",
       "    <tr>\n",
       "      <th>4</th>\n",
       "      <td>dianom_Miercoles</td>\n",
       "      <td>0.033438</td>\n",
       "    </tr>\n",
       "    <tr>\n",
       "      <th>1</th>\n",
       "      <td>dianom_Jueves</td>\n",
       "      <td>0.033095</td>\n",
       "    </tr>\n",
       "    <tr>\n",
       "      <th>5</th>\n",
       "      <td>dianom_Sabado</td>\n",
       "      <td>0.032640</td>\n",
       "    </tr>\n",
       "    <tr>\n",
       "      <th>6</th>\n",
       "      <td>dianom_Viernes</td>\n",
       "      <td>0.032169</td>\n",
       "    </tr>\n",
       "  </tbody>\n",
       "</table>\n",
       "</div>"
      ],
      "text/plain": [
       "       Nombre variable  importancia\n",
       "37       mes_nom_Julio     0.043887\n",
       "2         dianom_Lunes     0.037451\n",
       "21   opera_Grupo LATAM     0.037291\n",
       "0       dianom_Domingo     0.037290\n",
       "47  period_day_Morning     0.036920\n",
       "3        dianom_Martes     0.036798\n",
       "4     dianom_Miercoles     0.033438\n",
       "1        dianom_Jueves     0.033095\n",
       "5        dianom_Sabado     0.032640\n",
       "6       dianom_Viernes     0.032169"
      ]
     },
     "execution_count": 1071,
     "metadata": {},
     "output_type": "execute_result"
    }
   ],
   "source": [
    "# Definimos un dataframe con las variables y su importancia\n",
    "importancia_variables = pd.DataFrame(data = {\"Nombre variable\": col_names, \"importancia\": rf.feature_importances_})\n",
    "\n",
    "# Mostramos las variables más importantes\n",
    "importancia_variables.sort_values(\"importancia\", ascending = False).head(10)"
   ]
  },
  {
   "attachments": {},
   "cell_type": "markdown",
   "metadata": {},
   "source": [
    "Notamos que el mes de julio y la aerolínea LATAM son las más influyentes, ambas con un 4% de importancia aproximadamente.\n",
    "\n",
    "Ahora eliminaremos las variables que aporten menos de un 1% de importancia al modelo, para tener un modelo más simple que siga siendo preciso:"
   ]
  },
  {
   "cell_type": "code",
   "execution_count": 1072,
   "metadata": {},
   "outputs": [],
   "source": [
    "# Solo tomamos las variables con importancia mayor a 0.01\n",
    "X_clean = X[:, importancia_variables[\"importancia\"] > 0.01]"
   ]
  },
  {
   "attachments": {},
   "cell_type": "markdown",
   "metadata": {},
   "source": [
    "Ahora volvemos a separar:"
   ]
  },
  {
   "cell_type": "code",
   "execution_count": 1073,
   "metadata": {},
   "outputs": [],
   "source": [
    "# Separamos en entrenamiento, testeo y validación.\n",
    "# Definimos las proporciones de cada base\n",
    "train_prop = 0.8\n",
    "test_prop = 0.2\n",
    "\n",
    "# Separamos nuestras variables en entrenamiento y testeo\n",
    "X_train, X_test, y_train, y_test = train_test_split(X_clean, y, test_size = test_prop, random_state = 201212189, stratify = y)"
   ]
  },
  {
   "attachments": {},
   "cell_type": "markdown",
   "metadata": {},
   "source": [
    "Volvemos a entrenar el modelo con las variables seleccionadas:"
   ]
  },
  {
   "cell_type": "code",
   "execution_count": 1074,
   "metadata": {},
   "outputs": [
    {
     "name": "stdout",
     "output_type": "stream",
     "text": [
      "\n",
      "El accuracy del modelo fue de un 65.33%\n"
     ]
    }
   ],
   "source": [
    "# Inicializamos el modelo\n",
    "rf = RandomForestClassifier(random_state = 201212189, class_weight=\"balanced\")\n",
    "\n",
    "# Ajustamos el modelo con los datos de entrenamiento\n",
    "rf.fit(X_train, y_train)\n",
    "\n",
    "# Predecimos con los datos de testeo\n",
    "y_pred_rf = rf.predict(X_test)\n",
    "\n",
    "# Predecimos las probabilidades de cada clase\n",
    "y_pred_rf_prob = rf.predict_proba(X_test)\n",
    "\n",
    "# Calculamos el accuracy que obtuvo el modelo\n",
    "print(f\"\\nEl accuracy del modelo fue de un {round(accuracy_score(y_test, y_pred_rf)*100, 2)}%\")"
   ]
  },
  {
   "attachments": {},
   "cell_type": "markdown",
   "metadata": {},
   "source": [
    "Perfecto, ahora tenemos un modelo más simple, pero que sigue siendo preciso. Veamos si es posible mejorar las métricas de este modelo, para esto utilizaremos una grilla aleatoria (de pocos valores por tema de tiempo) y luego, viendo esos valores haremos otra grilla pero esta vez que vea todas las combinaciones de hiper-parámetros. "
   ]
  },
  {
   "cell_type": "code",
   "execution_count": 1075,
   "metadata": {},
   "outputs": [
    {
     "name": "stdout",
     "output_type": "stream",
     "text": [
      "{'n_estimators': [10, 82, 155, 227, 300], 'max_depth': [10, 20, 30, 40, 50, 60, 70, 80, 90, 100, 110, None], 'min_samples_split': [2, 5, 10], 'min_samples_leaf': [1, 2, 4, 6], 'bootstrap': [True, False]}\n"
     ]
    }
   ],
   "source": [
    "# Cantidad de árboles\n",
    "n_estimators = [int(x) for x in np.linspace(start = 10, stop = 300, num = 5)]\n",
    "\n",
    "# Profundidad máxima de cada árbol\n",
    "max_depth = [int(x) for x in np.linspace(10, 110, num = 11)] + [None]\n",
    "\n",
    "# Mínimo número de muestras requeridas para dividir un nodo\n",
    "min_samples_split = [2, 5, 10]\n",
    "\n",
    "# Mínimo número de muestras requeridas en cada hoja\n",
    "min_samples_leaf = [1, 2, 4, 6]\n",
    "\n",
    "# Método de selección de muestras para entrenar cada árbol\n",
    "bootstrap = [True, False]\n",
    "\n",
    "# Creamos el diccionario con los parámetros\n",
    "random_grid = {'n_estimators': n_estimators,\n",
    "               'max_depth': max_depth,\n",
    "               'min_samples_split': min_samples_split,\n",
    "               'min_samples_leaf': min_samples_leaf,\n",
    "               'bootstrap': bootstrap}\n",
    "\n",
    "# Veamos como queda la grilla\n",
    "print(random_grid)"
   ]
  },
  {
   "cell_type": "code",
   "execution_count": 1076,
   "metadata": {},
   "outputs": [
    {
     "data": {
      "text/html": [
       "<style>#sk-container-id-10 {color: black;background-color: white;}#sk-container-id-10 pre{padding: 0;}#sk-container-id-10 div.sk-toggleable {background-color: white;}#sk-container-id-10 label.sk-toggleable__label {cursor: pointer;display: block;width: 100%;margin-bottom: 0;padding: 0.3em;box-sizing: border-box;text-align: center;}#sk-container-id-10 label.sk-toggleable__label-arrow:before {content: \"▸\";float: left;margin-right: 0.25em;color: #696969;}#sk-container-id-10 label.sk-toggleable__label-arrow:hover:before {color: black;}#sk-container-id-10 div.sk-estimator:hover label.sk-toggleable__label-arrow:before {color: black;}#sk-container-id-10 div.sk-toggleable__content {max-height: 0;max-width: 0;overflow: hidden;text-align: left;background-color: #f0f8ff;}#sk-container-id-10 div.sk-toggleable__content pre {margin: 0.2em;color: black;border-radius: 0.25em;background-color: #f0f8ff;}#sk-container-id-10 input.sk-toggleable__control:checked~div.sk-toggleable__content {max-height: 200px;max-width: 100%;overflow: auto;}#sk-container-id-10 input.sk-toggleable__control:checked~label.sk-toggleable__label-arrow:before {content: \"▾\";}#sk-container-id-10 div.sk-estimator input.sk-toggleable__control:checked~label.sk-toggleable__label {background-color: #d4ebff;}#sk-container-id-10 div.sk-label input.sk-toggleable__control:checked~label.sk-toggleable__label {background-color: #d4ebff;}#sk-container-id-10 input.sk-hidden--visually {border: 0;clip: rect(1px 1px 1px 1px);clip: rect(1px, 1px, 1px, 1px);height: 1px;margin: -1px;overflow: hidden;padding: 0;position: absolute;width: 1px;}#sk-container-id-10 div.sk-estimator {font-family: monospace;background-color: #f0f8ff;border: 1px dotted black;border-radius: 0.25em;box-sizing: border-box;margin-bottom: 0.5em;}#sk-container-id-10 div.sk-estimator:hover {background-color: #d4ebff;}#sk-container-id-10 div.sk-parallel-item::after {content: \"\";width: 100%;border-bottom: 1px solid gray;flex-grow: 1;}#sk-container-id-10 div.sk-label:hover label.sk-toggleable__label {background-color: #d4ebff;}#sk-container-id-10 div.sk-serial::before {content: \"\";position: absolute;border-left: 1px solid gray;box-sizing: border-box;top: 0;bottom: 0;left: 50%;z-index: 0;}#sk-container-id-10 div.sk-serial {display: flex;flex-direction: column;align-items: center;background-color: white;padding-right: 0.2em;padding-left: 0.2em;position: relative;}#sk-container-id-10 div.sk-item {position: relative;z-index: 1;}#sk-container-id-10 div.sk-parallel {display: flex;align-items: stretch;justify-content: center;background-color: white;position: relative;}#sk-container-id-10 div.sk-item::before, #sk-container-id-10 div.sk-parallel-item::before {content: \"\";position: absolute;border-left: 1px solid gray;box-sizing: border-box;top: 0;bottom: 0;left: 50%;z-index: -1;}#sk-container-id-10 div.sk-parallel-item {display: flex;flex-direction: column;z-index: 1;position: relative;background-color: white;}#sk-container-id-10 div.sk-parallel-item:first-child::after {align-self: flex-end;width: 50%;}#sk-container-id-10 div.sk-parallel-item:last-child::after {align-self: flex-start;width: 50%;}#sk-container-id-10 div.sk-parallel-item:only-child::after {width: 0;}#sk-container-id-10 div.sk-dashed-wrapped {border: 1px dashed gray;margin: 0 0.4em 0.5em 0.4em;box-sizing: border-box;padding-bottom: 0.4em;background-color: white;}#sk-container-id-10 div.sk-label label {font-family: monospace;font-weight: bold;display: inline-block;line-height: 1.2em;}#sk-container-id-10 div.sk-label-container {text-align: center;}#sk-container-id-10 div.sk-container {/* jupyter's `normalize.less` sets `[hidden] { display: none; }` but bootstrap.min.css set `[hidden] { display: none !important; }` so we also need the `!important` here to be able to override the default hidden behavior on the sphinx rendered scikit-learn.org. See: https://github.com/scikit-learn/scikit-learn/issues/21755 */display: inline-block !important;position: relative;}#sk-container-id-10 div.sk-text-repr-fallback {display: none;}</style><div id=\"sk-container-id-10\" class=\"sk-top-container\"><div class=\"sk-text-repr-fallback\"><pre>RandomizedSearchCV(cv=5,\n",
       "                   estimator=RandomForestClassifier(class_weight=&#x27;balanced&#x27;,\n",
       "                                                    random_state=201212189),\n",
       "                   n_jobs=-1,\n",
       "                   param_distributions={&#x27;bootstrap&#x27;: [True, False],\n",
       "                                        &#x27;max_depth&#x27;: [10, 20, 30, 40, 50, 60,\n",
       "                                                      70, 80, 90, 100, 110,\n",
       "                                                      None],\n",
       "                                        &#x27;min_samples_leaf&#x27;: [1, 2, 4, 6],\n",
       "                                        &#x27;min_samples_split&#x27;: [2, 5, 10],\n",
       "                                        &#x27;n_estimators&#x27;: [10, 82, 155, 227,\n",
       "                                                         300]},\n",
       "                   random_state=201212189)</pre><b>In a Jupyter environment, please rerun this cell to show the HTML representation or trust the notebook. <br />On GitHub, the HTML representation is unable to render, please try loading this page with nbviewer.org.</b></div><div class=\"sk-container\" hidden><div class=\"sk-item sk-dashed-wrapped\"><div class=\"sk-label-container\"><div class=\"sk-label sk-toggleable\"><input class=\"sk-toggleable__control sk-hidden--visually\" id=\"sk-estimator-id-22\" type=\"checkbox\" ><label for=\"sk-estimator-id-22\" class=\"sk-toggleable__label sk-toggleable__label-arrow\">RandomizedSearchCV</label><div class=\"sk-toggleable__content\"><pre>RandomizedSearchCV(cv=5,\n",
       "                   estimator=RandomForestClassifier(class_weight=&#x27;balanced&#x27;,\n",
       "                                                    random_state=201212189),\n",
       "                   n_jobs=-1,\n",
       "                   param_distributions={&#x27;bootstrap&#x27;: [True, False],\n",
       "                                        &#x27;max_depth&#x27;: [10, 20, 30, 40, 50, 60,\n",
       "                                                      70, 80, 90, 100, 110,\n",
       "                                                      None],\n",
       "                                        &#x27;min_samples_leaf&#x27;: [1, 2, 4, 6],\n",
       "                                        &#x27;min_samples_split&#x27;: [2, 5, 10],\n",
       "                                        &#x27;n_estimators&#x27;: [10, 82, 155, 227,\n",
       "                                                         300]},\n",
       "                   random_state=201212189)</pre></div></div></div><div class=\"sk-parallel\"><div class=\"sk-parallel-item\"><div class=\"sk-item\"><div class=\"sk-label-container\"><div class=\"sk-label sk-toggleable\"><input class=\"sk-toggleable__control sk-hidden--visually\" id=\"sk-estimator-id-23\" type=\"checkbox\" ><label for=\"sk-estimator-id-23\" class=\"sk-toggleable__label sk-toggleable__label-arrow\">estimator: RandomForestClassifier</label><div class=\"sk-toggleable__content\"><pre>RandomForestClassifier(class_weight=&#x27;balanced&#x27;, random_state=201212189)</pre></div></div></div><div class=\"sk-serial\"><div class=\"sk-item\"><div class=\"sk-estimator sk-toggleable\"><input class=\"sk-toggleable__control sk-hidden--visually\" id=\"sk-estimator-id-24\" type=\"checkbox\" ><label for=\"sk-estimator-id-24\" class=\"sk-toggleable__label sk-toggleable__label-arrow\">RandomForestClassifier</label><div class=\"sk-toggleable__content\"><pre>RandomForestClassifier(class_weight=&#x27;balanced&#x27;, random_state=201212189)</pre></div></div></div></div></div></div></div></div></div></div>"
      ],
      "text/plain": [
       "RandomizedSearchCV(cv=5,\n",
       "                   estimator=RandomForestClassifier(class_weight='balanced',\n",
       "                                                    random_state=201212189),\n",
       "                   n_jobs=-1,\n",
       "                   param_distributions={'bootstrap': [True, False],\n",
       "                                        'max_depth': [10, 20, 30, 40, 50, 60,\n",
       "                                                      70, 80, 90, 100, 110,\n",
       "                                                      None],\n",
       "                                        'min_samples_leaf': [1, 2, 4, 6],\n",
       "                                        'min_samples_split': [2, 5, 10],\n",
       "                                        'n_estimators': [10, 82, 155, 227,\n",
       "                                                         300]},\n",
       "                   random_state=201212189)"
      ]
     },
     "execution_count": 1076,
     "metadata": {},
     "output_type": "execute_result"
    }
   ],
   "source": [
    "# Inicializamos el modelo\n",
    "rscv = RandomizedSearchCV(estimator = rf, param_distributions = random_grid, cv = 5, random_state=201212189, n_jobs = -1)\n",
    "rscv.fit(X_train, y_train)"
   ]
  },
  {
   "cell_type": "code",
   "execution_count": 1077,
   "metadata": {},
   "outputs": [],
   "source": [
    "# Predecimos con los datos de testeo\n",
    "y_pred_rf_rg = rscv.predict(X_test)\n",
    "\n",
    "# Predecimos las probabilidades de cada clase\n",
    "y_pred_rf_rg_prob = rscv.predict_proba(X_test)"
   ]
  },
  {
   "cell_type": "code",
   "execution_count": 1078,
   "metadata": {},
   "outputs": [
    {
     "data": {
      "text/plain": [
       "{'n_estimators': 155,\n",
       " 'min_samples_split': 10,\n",
       " 'min_samples_leaf': 1,\n",
       " 'max_depth': 110,\n",
       " 'bootstrap': True}"
      ]
     },
     "execution_count": 1078,
     "metadata": {},
     "output_type": "execute_result"
    }
   ],
   "source": [
    "# Veamos los mejores parámetros que encontró\n",
    "rscv.best_params_"
   ]
  },
  {
   "attachments": {},
   "cell_type": "markdown",
   "metadata": {},
   "source": [
    "Ahora utilizaremos estos parámetros como punto de inicio para hacer una grilla que vea todas las combinaciones de hiper-parámetros:"
   ]
  },
  {
   "cell_type": "code",
   "execution_count": 1079,
   "metadata": {},
   "outputs": [
    {
     "data": {
      "text/html": [
       "<style>#sk-container-id-11 {color: black;background-color: white;}#sk-container-id-11 pre{padding: 0;}#sk-container-id-11 div.sk-toggleable {background-color: white;}#sk-container-id-11 label.sk-toggleable__label {cursor: pointer;display: block;width: 100%;margin-bottom: 0;padding: 0.3em;box-sizing: border-box;text-align: center;}#sk-container-id-11 label.sk-toggleable__label-arrow:before {content: \"▸\";float: left;margin-right: 0.25em;color: #696969;}#sk-container-id-11 label.sk-toggleable__label-arrow:hover:before {color: black;}#sk-container-id-11 div.sk-estimator:hover label.sk-toggleable__label-arrow:before {color: black;}#sk-container-id-11 div.sk-toggleable__content {max-height: 0;max-width: 0;overflow: hidden;text-align: left;background-color: #f0f8ff;}#sk-container-id-11 div.sk-toggleable__content pre {margin: 0.2em;color: black;border-radius: 0.25em;background-color: #f0f8ff;}#sk-container-id-11 input.sk-toggleable__control:checked~div.sk-toggleable__content {max-height: 200px;max-width: 100%;overflow: auto;}#sk-container-id-11 input.sk-toggleable__control:checked~label.sk-toggleable__label-arrow:before {content: \"▾\";}#sk-container-id-11 div.sk-estimator input.sk-toggleable__control:checked~label.sk-toggleable__label {background-color: #d4ebff;}#sk-container-id-11 div.sk-label input.sk-toggleable__control:checked~label.sk-toggleable__label {background-color: #d4ebff;}#sk-container-id-11 input.sk-hidden--visually {border: 0;clip: rect(1px 1px 1px 1px);clip: rect(1px, 1px, 1px, 1px);height: 1px;margin: -1px;overflow: hidden;padding: 0;position: absolute;width: 1px;}#sk-container-id-11 div.sk-estimator {font-family: monospace;background-color: #f0f8ff;border: 1px dotted black;border-radius: 0.25em;box-sizing: border-box;margin-bottom: 0.5em;}#sk-container-id-11 div.sk-estimator:hover {background-color: #d4ebff;}#sk-container-id-11 div.sk-parallel-item::after {content: \"\";width: 100%;border-bottom: 1px solid gray;flex-grow: 1;}#sk-container-id-11 div.sk-label:hover label.sk-toggleable__label {background-color: #d4ebff;}#sk-container-id-11 div.sk-serial::before {content: \"\";position: absolute;border-left: 1px solid gray;box-sizing: border-box;top: 0;bottom: 0;left: 50%;z-index: 0;}#sk-container-id-11 div.sk-serial {display: flex;flex-direction: column;align-items: center;background-color: white;padding-right: 0.2em;padding-left: 0.2em;position: relative;}#sk-container-id-11 div.sk-item {position: relative;z-index: 1;}#sk-container-id-11 div.sk-parallel {display: flex;align-items: stretch;justify-content: center;background-color: white;position: relative;}#sk-container-id-11 div.sk-item::before, #sk-container-id-11 div.sk-parallel-item::before {content: \"\";position: absolute;border-left: 1px solid gray;box-sizing: border-box;top: 0;bottom: 0;left: 50%;z-index: -1;}#sk-container-id-11 div.sk-parallel-item {display: flex;flex-direction: column;z-index: 1;position: relative;background-color: white;}#sk-container-id-11 div.sk-parallel-item:first-child::after {align-self: flex-end;width: 50%;}#sk-container-id-11 div.sk-parallel-item:last-child::after {align-self: flex-start;width: 50%;}#sk-container-id-11 div.sk-parallel-item:only-child::after {width: 0;}#sk-container-id-11 div.sk-dashed-wrapped {border: 1px dashed gray;margin: 0 0.4em 0.5em 0.4em;box-sizing: border-box;padding-bottom: 0.4em;background-color: white;}#sk-container-id-11 div.sk-label label {font-family: monospace;font-weight: bold;display: inline-block;line-height: 1.2em;}#sk-container-id-11 div.sk-label-container {text-align: center;}#sk-container-id-11 div.sk-container {/* jupyter's `normalize.less` sets `[hidden] { display: none; }` but bootstrap.min.css set `[hidden] { display: none !important; }` so we also need the `!important` here to be able to override the default hidden behavior on the sphinx rendered scikit-learn.org. See: https://github.com/scikit-learn/scikit-learn/issues/21755 */display: inline-block !important;position: relative;}#sk-container-id-11 div.sk-text-repr-fallback {display: none;}</style><div id=\"sk-container-id-11\" class=\"sk-top-container\"><div class=\"sk-text-repr-fallback\"><pre>GridSearchCV(cv=5,\n",
       "             estimator=RandomForestClassifier(class_weight=&#x27;balanced&#x27;,\n",
       "                                              random_state=201212189),\n",
       "             n_jobs=-1,\n",
       "             param_grid={&#x27;bootstrap&#x27;: [True], &#x27;max_depth&#x27;: [70, 80],\n",
       "                         &#x27;min_samples_leaf&#x27;: [1, 2, 3],\n",
       "                         &#x27;min_samples_split&#x27;: [5, 6, 7],\n",
       "                         &#x27;n_estimators&#x27;: [200, 300, 400]})</pre><b>In a Jupyter environment, please rerun this cell to show the HTML representation or trust the notebook. <br />On GitHub, the HTML representation is unable to render, please try loading this page with nbviewer.org.</b></div><div class=\"sk-container\" hidden><div class=\"sk-item sk-dashed-wrapped\"><div class=\"sk-label-container\"><div class=\"sk-label sk-toggleable\"><input class=\"sk-toggleable__control sk-hidden--visually\" id=\"sk-estimator-id-25\" type=\"checkbox\" ><label for=\"sk-estimator-id-25\" class=\"sk-toggleable__label sk-toggleable__label-arrow\">GridSearchCV</label><div class=\"sk-toggleable__content\"><pre>GridSearchCV(cv=5,\n",
       "             estimator=RandomForestClassifier(class_weight=&#x27;balanced&#x27;,\n",
       "                                              random_state=201212189),\n",
       "             n_jobs=-1,\n",
       "             param_grid={&#x27;bootstrap&#x27;: [True], &#x27;max_depth&#x27;: [70, 80],\n",
       "                         &#x27;min_samples_leaf&#x27;: [1, 2, 3],\n",
       "                         &#x27;min_samples_split&#x27;: [5, 6, 7],\n",
       "                         &#x27;n_estimators&#x27;: [200, 300, 400]})</pre></div></div></div><div class=\"sk-parallel\"><div class=\"sk-parallel-item\"><div class=\"sk-item\"><div class=\"sk-label-container\"><div class=\"sk-label sk-toggleable\"><input class=\"sk-toggleable__control sk-hidden--visually\" id=\"sk-estimator-id-26\" type=\"checkbox\" ><label for=\"sk-estimator-id-26\" class=\"sk-toggleable__label sk-toggleable__label-arrow\">estimator: RandomForestClassifier</label><div class=\"sk-toggleable__content\"><pre>RandomForestClassifier(class_weight=&#x27;balanced&#x27;, random_state=201212189)</pre></div></div></div><div class=\"sk-serial\"><div class=\"sk-item\"><div class=\"sk-estimator sk-toggleable\"><input class=\"sk-toggleable__control sk-hidden--visually\" id=\"sk-estimator-id-27\" type=\"checkbox\" ><label for=\"sk-estimator-id-27\" class=\"sk-toggleable__label sk-toggleable__label-arrow\">RandomForestClassifier</label><div class=\"sk-toggleable__content\"><pre>RandomForestClassifier(class_weight=&#x27;balanced&#x27;, random_state=201212189)</pre></div></div></div></div></div></div></div></div></div></div>"
      ],
      "text/plain": [
       "GridSearchCV(cv=5,\n",
       "             estimator=RandomForestClassifier(class_weight='balanced',\n",
       "                                              random_state=201212189),\n",
       "             n_jobs=-1,\n",
       "             param_grid={'bootstrap': [True], 'max_depth': [70, 80],\n",
       "                         'min_samples_leaf': [1, 2, 3],\n",
       "                         'min_samples_split': [5, 6, 7],\n",
       "                         'n_estimators': [200, 300, 400]})"
      ]
     },
     "execution_count": 1079,
     "metadata": {},
     "output_type": "execute_result"
    }
   ],
   "source": [
    "\n",
    "param_grid = {\n",
    "    'bootstrap': [True],\n",
    "    'max_depth': [70, 80],\n",
    "    'min_samples_leaf': [1, 2, 3],\n",
    "    'min_samples_split': [5, 6, 7],\n",
    "    'n_estimators': [200, 300, 400]\n",
    "}\n",
    "\n",
    "# Inicializamos el modelo\n",
    "gscv = GridSearchCV(estimator = rf, param_grid = param_grid, cv = 5, n_jobs = -1)\n",
    "\n",
    "# Ajustamos el modelo con los datos de entrenamiento\n",
    "gscv.fit(X_train, y_train)"
   ]
  },
  {
   "cell_type": "code",
   "execution_count": 1080,
   "metadata": {},
   "outputs": [],
   "source": [
    "# Predecimos con los datos de testeo\n",
    "y_pred_rf_gs = gscv.predict(X_test)\n",
    "\n",
    "# Predecimos las probabilidades de cada clase\n",
    "y_pred_rf_rg_gs = gscv.predict_proba(X_test)"
   ]
  },
  {
   "cell_type": "code",
   "execution_count": 1081,
   "metadata": {},
   "outputs": [
    {
     "data": {
      "text/plain": [
       "{'bootstrap': True,\n",
       " 'max_depth': 70,\n",
       " 'min_samples_leaf': 1,\n",
       " 'min_samples_split': 7,\n",
       " 'n_estimators': 400}"
      ]
     },
     "execution_count": 1081,
     "metadata": {},
     "output_type": "execute_result"
    }
   ],
   "source": [
    "# Veamos los mejores parámetros que encontró\n",
    "gscv.best_params_"
   ]
  },
  {
   "cell_type": "code",
   "execution_count": 1082,
   "metadata": {},
   "outputs": [
    {
     "name": "stdout",
     "output_type": "stream",
     "text": [
      "\n",
      "El accuracy del modelo sin tuneo de hiper-parámetros fue de un 65.33%\n",
      "\n",
      "El accuracy del modelo con muestra de la grilla fue de un 65.45%\n",
      "\n",
      "El accuracy del modelo con grilla completa fue de un 65.54%\n"
     ]
    }
   ],
   "source": [
    "# Calculamos el accuracy que obtuvo el modelo normal\n",
    "print(f\"\\nEl accuracy del modelo sin tuneo de hiper-parámetros fue de un {round(accuracy_score(y_test, y_pred_rf)*100, 2)}%\")\n",
    "# Calculamos el accuracy que obtuvo el modelo con grilla random\n",
    "print(f\"\\nEl accuracy del modelo con muestra de la grilla fue de un {round(rscv.score(X_test, y_test)*100, 2)}%\")\n",
    "# Calculamos el accuracy que obtuvo el modelo con grilla\n",
    "print(f\"\\nEl accuracy del modelo con grilla completa fue de un {round(gscv.score(X_test, y_test)*100, 2)}%\")"
   ]
  },
  {
   "attachments": {},
   "cell_type": "markdown",
   "metadata": {},
   "source": [
    "Observamos que el mejor fue el último modelo, aunque la diferencia no es muy grande y el tiempo es de ejecución del último fue bastante mayor al de los demás. Aún así nos quedaremos con este último porque no tenemos problemas de tiempo de ejecución en este caso."
   ]
  },
  {
   "attachments": {},
   "cell_type": "markdown",
   "metadata": {},
   "source": [
    "### Red Neuronal Densa:"
   ]
  },
  {
   "cell_type": "code",
   "execution_count": 1083,
   "metadata": {},
   "outputs": [
    {
     "name": "stdout",
     "output_type": "stream",
     "text": [
      "Model: \"sequential_14\"\n",
      "_________________________________________________________________\n",
      " Layer (type)                Output Shape              Param #   \n",
      "=================================================================\n",
      " dense_47 (Dense)            (None, 200)               7200      \n",
      "                                                                 \n",
      " dense_48 (Dense)            (None, 100)               20100     \n",
      "                                                                 \n",
      " dense_49 (Dense)            (None, 2)                 202       \n",
      "                                                                 \n",
      "=================================================================\n",
      "Total params: 27,502\n",
      "Trainable params: 27,502\n",
      "Non-trainable params: 0\n",
      "_________________________________________________________________\n"
     ]
    }
   ],
   "source": [
    "# Creamos el modelo\n",
    "model = Sequential()\n",
    "\n",
    "# Agregamos las capas\n",
    "model.add(Dense(200, input_dim = X_train.shape[1], activation = \"relu\", kernel_initializer = \"he_normal\"))\n",
    "model.add(Dense(100, input_dim = X_train.shape[1], activation = \"relu\", kernel_initializer = \"he_normal\"))\n",
    "model.add(Dense(2, activation = \"softmax\"))\n",
    "\n",
    "# Mostramos un resumen del modelo\n",
    "model.summary() "
   ]
  },
  {
   "cell_type": "code",
   "execution_count": 1084,
   "metadata": {},
   "outputs": [],
   "source": [
    "# Compilamos el modelo\n",
    "model.compile(loss = \"categorical_crossentropy\", optimizer = \"adam\", metrics = [\"accuracy\"])"
   ]
  },
  {
   "cell_type": "code",
   "execution_count": 1085,
   "metadata": {},
   "outputs": [
    {
     "name": "stdout",
     "output_type": "stream",
     "text": [
      "Epoch 1/20\n",
      "1706/1706 [==============================] - 2s 949us/step - loss: 0.2087 - accuracy: 0.6095\n",
      "Epoch 2/20\n",
      "1706/1706 [==============================] - 2s 881us/step - loss: 0.2029 - accuracy: 0.6341\n",
      "Epoch 3/20\n",
      "1706/1706 [==============================] - 2s 905us/step - loss: 0.2008 - accuracy: 0.6390\n",
      "Epoch 4/20\n",
      "1706/1706 [==============================] - 2s 941us/step - loss: 0.1994 - accuracy: 0.6435\n",
      "Epoch 5/20\n",
      "1706/1706 [==============================] - 2s 896us/step - loss: 0.1983 - accuracy: 0.6459\n",
      "Epoch 6/20\n",
      "1706/1706 [==============================] - 2s 978us/step - loss: 0.1976 - accuracy: 0.6480\n",
      "Epoch 7/20\n",
      "1706/1706 [==============================] - 2s 959us/step - loss: 0.1966 - accuracy: 0.6511\n",
      "Epoch 8/20\n",
      "1706/1706 [==============================] - 2s 907us/step - loss: 0.1958 - accuracy: 0.6499\n",
      "Epoch 9/20\n",
      "1706/1706 [==============================] - 2s 921us/step - loss: 0.1954 - accuracy: 0.6526\n",
      "Epoch 10/20\n",
      "1706/1706 [==============================] - 2s 967us/step - loss: 0.1947 - accuracy: 0.6561\n",
      "Epoch 11/20\n",
      "1706/1706 [==============================] - 2s 976us/step - loss: 0.1945 - accuracy: 0.6542\n",
      "Epoch 12/20\n",
      "1706/1706 [==============================] - 2s 960us/step - loss: 0.1938 - accuracy: 0.6564\n",
      "Epoch 13/20\n",
      "1706/1706 [==============================] - 2s 994us/step - loss: 0.1933 - accuracy: 0.6544\n",
      "Epoch 14/20\n",
      "1706/1706 [==============================] - 2s 963us/step - loss: 0.1930 - accuracy: 0.6593\n",
      "Epoch 15/20\n",
      "1706/1706 [==============================] - 2s 926us/step - loss: 0.1929 - accuracy: 0.6566\n",
      "Epoch 16/20\n",
      "1706/1706 [==============================] - 2s 992us/step - loss: 0.1924 - accuracy: 0.6561\n",
      "Epoch 17/20\n",
      "1706/1706 [==============================] - 2s 928us/step - loss: 0.1921 - accuracy: 0.6559\n",
      "Epoch 18/20\n",
      "1706/1706 [==============================] - 2s 1ms/step - loss: 0.1917 - accuracy: 0.6606\n",
      "Epoch 19/20\n",
      "1706/1706 [==============================] - 2s 1ms/step - loss: 0.1916 - accuracy: 0.6627\n",
      "Epoch 20/20\n",
      "1706/1706 [==============================] - 2s 923us/step - loss: 0.1913 - accuracy: 0.6586\n"
     ]
    }
   ],
   "source": [
    "# Entrenamos el modelo\n",
    "history = model.fit(X_train, y_train_nn, epochs = 20, batch_size = 32, class_weight={0: 0.2, 1: 0.8})"
   ]
  },
  {
   "cell_type": "code",
   "execution_count": 1086,
   "metadata": {},
   "outputs": [
    {
     "name": "stdout",
     "output_type": "stream",
     "text": [
      "\n",
      "El accuracy que se obtuvo en el set de test para la red neuronal fue de: 64.32%\n",
      "\n"
     ]
    }
   ],
   "source": [
    "# Predecimos las probabilidades de cada clase en la base de testeo\n",
    "y_pred_proba_nn = model.predict(X_test)\n",
    "\n",
    "# Predecimos las clases de la base de testeo\n",
    "y_pred_nn = np.argmax(y_pred_proba_nn, axis = 1)\n",
    "\n",
    "\n",
    "# Mostramos el accuracy que obtuvo la red neuronal en la base de testeo\n",
    "_, accuracy_cnn = model.evaluate(X_test, y_test_nn, verbose = 0)\n",
    "\n",
    "print(f\"\\nEl accuracy que se obtuvo en el set de test para la red neuronal fue de: %.2f%%\\n\" % (100 * accuracy_cnn))"
   ]
  },
  {
   "attachments": {},
   "cell_type": "markdown",
   "metadata": {},
   "source": [
    "Es un poco menor que el obtenido por el `Random Forest`. Cabe recalcar que esta es una red simple, con una sola capa oculta, por lo que no es de extrañar que no sea tan precisa como el `Random Forest`."
   ]
  },
  {
   "attachments": {},
   "cell_type": "markdown",
   "metadata": {},
   "source": [
    "<br>\n",
    "\n",
    "---\n",
    "\n",
    "<br>"
   ]
  },
  {
   "attachments": {},
   "cell_type": "markdown",
   "metadata": {},
   "source": [
    "# 5.)"
   ]
  },
  {
   "attachments": {},
   "cell_type": "markdown",
   "metadata": {},
   "source": [
    "## Desempeño de los modelos"
   ]
  },
  {
   "attachments": {},
   "cell_type": "markdown",
   "metadata": {},
   "source": [
    "### Accuracy:"
   ]
  },
  {
   "cell_type": "code",
   "execution_count": 1087,
   "metadata": {},
   "outputs": [
    {
     "data": {
      "text/html": [
       "<div>\n",
       "<style scoped>\n",
       "    .dataframe tbody tr th:only-of-type {\n",
       "        vertical-align: middle;\n",
       "    }\n",
       "\n",
       "    .dataframe tbody tr th {\n",
       "        vertical-align: top;\n",
       "    }\n",
       "\n",
       "    .dataframe thead th {\n",
       "        text-align: right;\n",
       "    }\n",
       "</style>\n",
       "<table border=\"1\" class=\"dataframe\">\n",
       "  <thead>\n",
       "    <tr style=\"text-align: right;\">\n",
       "      <th></th>\n",
       "      <th>Modelo</th>\n",
       "      <th>Accuracy</th>\n",
       "    </tr>\n",
       "  </thead>\n",
       "  <tbody>\n",
       "    <tr>\n",
       "      <th>0</th>\n",
       "      <td>Random Forest best</td>\n",
       "      <td>65.45</td>\n",
       "    </tr>\n",
       "    <tr>\n",
       "      <th>1</th>\n",
       "      <td>Red Neuronal</td>\n",
       "      <td>64.32</td>\n",
       "    </tr>\n",
       "  </tbody>\n",
       "</table>\n",
       "</div>"
      ],
      "text/plain": [
       "               Modelo  Accuracy\n",
       "0  Random Forest best     65.45\n",
       "1        Red Neuronal     64.32"
      ]
     },
     "execution_count": 1087,
     "metadata": {},
     "output_type": "execute_result"
    }
   ],
   "source": [
    "# Creamos el dataframe con los resultados\n",
    "desempenio_modelos = pd.DataFrame({\"Modelo\": [\"Random Forest best\", \"Red Neuronal\"], \"Accuracy\": [round(rscv.score(X_test, y_test)*100, 2), round(accuracy_cnn*100, 2)]})\n",
    "\n",
    "# Mostramos el dataframe\n",
    "desempenio_modelos"
   ]
  },
  {
   "attachments": {},
   "cell_type": "markdown",
   "metadata": {},
   "source": [
    "Como se comentó antes, el `Random Forest` obtuvo un accuracy un poco superior a la `Red neuronal Densa`."
   ]
  },
  {
   "attachments": {},
   "cell_type": "markdown",
   "metadata": {},
   "source": [
    "### Matriz de confusión:"
   ]
  },
  {
   "attachments": {},
   "cell_type": "markdown",
   "metadata": {},
   "source": [
    "Veamos la matriz de confusión de ambos modelos para compararlas:"
   ]
  },
  {
   "cell_type": "code",
   "execution_count": 1088,
   "metadata": {},
   "outputs": [
    {
     "data": {
      "image/png": "[encoded data removed]",
      "text/plain": [
       "<Figure size 720x720 with 2 Axes>"
      ]
     },
     "metadata": {},
     "output_type": "display_data"
    }
   ],
   "source": [
    "# Mostramos al matriz de confusión\n",
    "fig, ax = plt.subplots(figsize = (10, 10))\n",
    "skplt.metrics.plot_confusion_matrix(y_test, y_pred_rf_rg, ax = ax, normalize = True, cmap = \"Reds\")\n",
    "plt.title(\"Matriz de confusión Random forest best\")\n",
    "plt.xlabel(\"Etiqueta predicha\")\n",
    "plt.ylabel(\"Etiqueta real\")\n",
    "plt.show()"
   ]
  },
  {
   "cell_type": "code",
   "execution_count": 1089,
   "metadata": {},
   "outputs": [
    {
     "data": {
      "image/png": "[encoded data removed]",
      "text/plain": [
       "<Figure size 720x720 with 2 Axes>"
      ]
     },
     "metadata": {},
     "output_type": "display_data"
    }
   ],
   "source": [
    "# Mostramos al matriz de confusión\n",
    "fig, ax = plt.subplots(figsize = (10, 10))\n",
    "skplt.metrics.plot_confusion_matrix(y_test, y_pred_nn, ax = ax, normalize = True, cmap=\"Reds\")\n",
    "plt.title(\"Matriz de confusión ANN\")\n",
    "plt.xlabel(\"Etiqueta predicha\")\n",
    "plt.ylabel(\"Etiqueta real\")\n",
    "plt.show()"
   ]
  },
  {
   "attachments": {},
   "cell_type": "markdown",
   "metadata": {},
   "source": [
    "Observando las matrices de confusión, podemos notar que la red neuronal tiene un mejor desempeño en la predicción de la clase minoritaria, es decir que predice de mejor manera los vuelos con retraso. Aunque tiene una pequeña mayor cantidad de falsos negativos, es decir que es más propensa a predecir que un vuelo no se retrasará cuando en realidad sí se retrasará."
   ]
  },
  {
   "attachments": {},
   "cell_type": "markdown",
   "metadata": {},
   "source": [
    "### AUC score:"
   ]
  },
  {
   "cell_type": "code",
   "execution_count": 1090,
   "metadata": {},
   "outputs": [
    {
     "name": "stdout",
     "output_type": "stream",
     "text": [
      "\n",
      " El área bajo la curva del random forest es de un: 68.32%\n",
      "\n",
      " El área bajo la curva de la red neuronal es de un: 68.87%\n"
     ]
    }
   ],
   "source": [
    "print(f\"\\n El área bajo la curva del random forest es de un: {round(roc_auc_score(y_test, y_pred_rf_rg_prob[:, 1]) * 100, 2)}%\")\n",
    "print(f\"\\n El área bajo la curva de la red neuronal es de un: {round(roc_auc_score(y_test, y_pred_proba_nn[:, 1]) * 100, 2)}%\")"
   ]
  },
  {
   "attachments": {},
   "cell_type": "markdown",
   "metadata": {},
   "source": [
    "Notamos que el área bajo la curva es un poco mayor para la `Red Neuronal Densa` aunque no es una diferencia muy significativa."
   ]
  },
  {
   "attachments": {},
   "cell_type": "markdown",
   "metadata": {},
   "source": [
    "## Variables más importantes"
   ]
  },
  {
   "attachments": {},
   "cell_type": "markdown",
   "metadata": {},
   "source": [
    "Por último, tomaremos el Random Forest como modelo con mejores resultados y veremos cuales son las variables más importantes para predecir la demora de un vuelo:"
   ]
  },
  {
   "cell_type": "code",
   "execution_count": 1091,
   "metadata": {},
   "outputs": [
    {
     "data": {
      "text/html": [
       "<div>\n",
       "<style scoped>\n",
       "    .dataframe tbody tr th:only-of-type {\n",
       "        vertical-align: middle;\n",
       "    }\n",
       "\n",
       "    .dataframe tbody tr th {\n",
       "        vertical-align: top;\n",
       "    }\n",
       "\n",
       "    .dataframe thead th {\n",
       "        text-align: right;\n",
       "    }\n",
       "</style>\n",
       "<table border=\"1\" class=\"dataframe\">\n",
       "  <thead>\n",
       "    <tr style=\"text-align: right;\">\n",
       "      <th></th>\n",
       "      <th>Nombre variable</th>\n",
       "      <th>Importancia</th>\n",
       "    </tr>\n",
       "  </thead>\n",
       "  <tbody>\n",
       "    <tr>\n",
       "      <th>15</th>\n",
       "      <td>opera_Austral</td>\n",
       "      <td>0.060508</td>\n",
       "    </tr>\n",
       "    <tr>\n",
       "      <th>17</th>\n",
       "      <td>opera_British Airways</td>\n",
       "      <td>0.049895</td>\n",
       "    </tr>\n",
       "    <tr>\n",
       "      <th>23</th>\n",
       "      <td>opera_JetSmart SPA</td>\n",
       "      <td>0.048884</td>\n",
       "    </tr>\n",
       "    <tr>\n",
       "      <th>16</th>\n",
       "      <td>opera_Avianca</td>\n",
       "      <td>0.041545</td>\n",
       "    </tr>\n",
       "    <tr>\n",
       "      <th>7</th>\n",
       "      <td>tipovuelo_I</td>\n",
       "      <td>0.038150</td>\n",
       "    </tr>\n",
       "    <tr>\n",
       "      <th>8</th>\n",
       "      <td>tipovuelo_N</td>\n",
       "      <td>0.037594</td>\n",
       "    </tr>\n",
       "    <tr>\n",
       "      <th>33</th>\n",
       "      <td>mes_nom_Agosto</td>\n",
       "      <td>0.037553</td>\n",
       "    </tr>\n",
       "    <tr>\n",
       "      <th>2</th>\n",
       "      <td>dianom_Lunes</td>\n",
       "      <td>0.034985</td>\n",
       "    </tr>\n",
       "    <tr>\n",
       "      <th>0</th>\n",
       "      <td>dianom_Domingo</td>\n",
       "      <td>0.033830</td>\n",
       "    </tr>\n",
       "    <tr>\n",
       "      <th>20</th>\n",
       "      <td>opera_Gol Trans</td>\n",
       "      <td>0.033637</td>\n",
       "    </tr>\n",
       "  </tbody>\n",
       "</table>\n",
       "</div>"
      ],
      "text/plain": [
       "          Nombre variable  Importancia\n",
       "15          opera_Austral     0.060508\n",
       "17  opera_British Airways     0.049895\n",
       "23     opera_JetSmart SPA     0.048884\n",
       "16          opera_Avianca     0.041545\n",
       "7             tipovuelo_I     0.038150\n",
       "8             tipovuelo_N     0.037594\n",
       "33         mes_nom_Agosto     0.037553\n",
       "2            dianom_Lunes     0.034985\n",
       "0          dianom_Domingo     0.033830\n",
       "20        opera_Gol Trans     0.033637"
      ]
     },
     "execution_count": 1091,
     "metadata": {},
     "output_type": "execute_result"
    }
   ],
   "source": [
    "# Calculamos la importancia de cada variable\n",
    "# Definimos un dataframe con las variables y su importancia\n",
    "importancia_variables_rf = pd.DataFrame(data = {\"Nombre variable\": col_names[0:X_clean.shape[1]], \"Importancia\": rscv.best_estimator_.feature_importances_})\n",
    "\n",
    "# Mostramos las variables más importantes\n",
    "importancia_variables_rf.sort_values(\"Importancia\", ascending = False).head(10)"
   ]
  },
  {
   "attachments": {},
   "cell_type": "markdown",
   "metadata": {},
   "source": [
    "Vemos que las variables más importantes son algunas de las aerolíneas, el mes agosto, el tipo de vuelo nacional y algunos días de la semana.\n",
    "\n",
    "Observemos lo mismo, pero de manera gráfica y ahora para todas las variables:"
   ]
  },
  {
   "cell_type": "code",
   "execution_count": 1092,
   "metadata": {},
   "outputs": [
    {
     "data": {
      "image/png": "[encoded data removed]",
      "text/plain": [
       "<Figure size 720x1080 with 1 Axes>"
      ]
     },
     "metadata": {},
     "output_type": "display_data"
    }
   ],
   "source": [
    "# Ordenamos las variables por importancia\n",
    "importancia_variables_rf_sorted = importancia_variables_rf.sort_values(\"Importancia\", ascending = True)\n",
    "\n",
    "# Definimos la paleta de colores\n",
    "colors = plt.cm.Blues(np.linspace(0, 1, len(importancia_variables_rf_sorted)))\n",
    "\n",
    "# Creamos la figura y el eje\n",
    "fig, ax = plt.subplots(figsize = (10, 15))\n",
    "\n",
    "# Creamos el gráfico de barras\n",
    "ax.barh(importancia_variables_rf_sorted['Nombre variable'], importancia_variables_rf_sorted['Importancia'], color=colors)\n",
    "\n",
    "# Añadimos etiquetas al gráfico\n",
    "ax.set_xlabel('Importancia')\n",
    "ax.set_ylabel('Nombre variable')\n",
    "ax.set_title('Importancia de cada variable del modelo')\n",
    "\n",
    "# Agregamos los valores del eje x\n",
    "for i, v in enumerate(importancia_variables_rf_sorted['Importancia']):\n",
    "    ax.text(v + 0.0005, i, str(round(v, 2)), color='black', fontweight='bold', ha='left', va='center')\n",
    "\n",
    "# Mostramos el gráfico\n",
    "plt.show()\n"
   ]
  },
  {
   "attachments": {},
   "cell_type": "markdown",
   "metadata": {},
   "source": [
    "Ahora se notan variables más importantes que anteriormente."
   ]
  },
  {
   "attachments": {},
   "cell_type": "markdown",
   "metadata": {},
   "source": [
    "## Posibles incorporaciones futuras al modelo que podrían mejorar el desempeño de este"
   ]
  },
  {
   "attachments": {},
   "cell_type": "markdown",
   "metadata": {},
   "source": [
    "- Se podría agregar la variable `condiciones_climaticas` al modelo. Donde la variable `condiciones_climaticas` es una variable categórica que indica si el día del vuelo estaba soleado, nublado, lluvioso, etc. Así podríamos ver si el clima influye en el retraso de los vuelos.\n",
    "- También se podría agregar una variable `distancia` que indique la distancia entre el aeropuerto de origen y el aeropuerto de destino. Así podríamos ver de mejor manera si la distancia influye en el retraso de los vuelos.\n",
    "- Algunas otras variables que posiblemente puedan mejorar el desempeño podrían ser: \n",
    "  - `cantidad pasajeros`: que indique la cantidad de pasajeros que viajan en el vuelo.\n",
    "  - `tamaño del avión`: que indique el tamaño del avión que realiza el vuelo. \n",
    "  - `estado de la carretera aérea`: que indique si a la hora del vuelo, la carretera aérea por la que pasaba el avión estaba congestionada o no.\n",
    "- Otra cosa que se podría hacer es utilizar una red neuronal más robusta, con más capas ocultas y más neuronas por capa, así es posible que aumente el desempeño de esta.\n",
    "- Por último, se podría tomar también data de años anteriores, así se tendría más data para entrenar el modelo lo que probablemente mejoraría el desempeño de este."
   ]
  },
  {
   "attachments": {},
   "cell_type": "markdown",
   "metadata": {},
   "source": [
    "<br>\n",
    "\n",
    "---\n",
    "\n",
    "<br>"
   ]
  }
 ],
 "metadata": {
  "kernelspec": {
   "display_name": "Python 3",
   "language": "python",
   "name": "python3"
  },
  "language_info": {
   "codemirror_mode": {
    "name": "ipython",
    "version": 3
   },
   "file_extension": ".py",
   "mimetype": "text/x-python",
   "name": "python",
   "nbconvert_exporter": "python",
   "pygments_lexer": "ipython3",
   "version": "3.9.6"
  },
  "orig_nbformat": 4,
  "vscode": {
   "interpreter": {
    "hash": "1a0efc7ed7210c8daa9aadd584bbae766f571d407ba1506112b0e572af6a4d67"
   }
  }
 },
 "nbformat": 4,
 "nbformat_minor": 2
}
