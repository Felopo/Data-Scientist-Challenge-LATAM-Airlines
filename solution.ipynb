{
 "cells": [
  {
   "attachments": {},
   "cell_type": "markdown",
   "metadata": {},
   "source": [
    "# Solución del desafío LATAM - Felipe Moya González"
   ]
  },
  {
   "attachments": {},
   "cell_type": "markdown",
   "metadata": {},
   "source": [
    "<br>\n",
    "\n",
    "---\n",
    "\n",
    "<br>"
   ]
  },
  {
   "attachments": {},
   "cell_type": "markdown",
   "metadata": {},
   "source": [
    "## Librerías necesarias"
   ]
  },
  {
   "cell_type": "code",
   "execution_count": 522,
   "metadata": {},
   "outputs": [],
   "source": [
    "# Importamos las librerías a utilizar\n",
    "import os\n",
    "import pandas as pd\n",
    "import numpy as np\n",
    "import matplotlib.pyplot as plt\n",
    "plt.style.use(\"ggplot\")\n",
    "import seaborn as sns\n",
    "from janitor import clean_names\n",
    "pd.set_option(\"display.max_columns\", None)\n",
    "from sklearn.model_selection import train_test_split, GridSearchCV\n",
    "from sklearn.metrics import roc_auc_score, roc_curve, confusion_matrix, classification_report, accuracy_score\n",
    "from sklearn.ensemble import RandomForestClassifier\n",
    "import tensorflow.keras as keras\n",
    "import tensorflow as tf\n",
    "from tensorflow.keras.utils import to_categorical\n",
    "from tensorflow.keras.models import Sequential\n",
    "from tensorflow.keras.layers import Dense, Dropout"
   ]
  },
  {
   "attachments": {},
   "cell_type": "markdown",
   "metadata": {},
   "source": [
    "Dejaremos una semilla para que los resultados obtenidos sean reproducibles."
   ]
  },
  {
   "cell_type": "code",
   "execution_count": 523,
   "metadata": {},
   "outputs": [],
   "source": [
    "np.random.seed(201212189)"
   ]
  },
  {
   "attachments": {},
   "cell_type": "markdown",
   "metadata": {},
   "source": [
    "<br>\n",
    "\n",
    "---\n",
    "\n",
    "<br>"
   ]
  },
  {
   "attachments": {},
   "cell_type": "markdown",
   "metadata": {},
   "source": [
    "## Carga de datos"
   ]
  },
  {
   "attachments": {},
   "cell_type": "markdown",
   "metadata": {},
   "source": [
    "Lo primero que debemos hacer es cargar los datos. Cargamos `Vlo-I` y `Vlo-O` como texto, pues hay algunos valores que contienen la letra P."
   ]
  },
  {
   "cell_type": "code",
   "execution_count": 524,
   "metadata": {},
   "outputs": [],
   "source": [
    "# Definimos variables para las rutas de los archivo\n",
    "input_path = \"data/input\"\n",
    "output_path = \"data/output\" \n",
    "\n",
    "# Cargamos los datos entregados\n",
    "vuelos = pd.read_csv(os.path.join(input_path, \"dataset_SCL.csv\"), dtype={1: object, 6: object}).clean_names()\n",
    "\n",
    "# Definimos la cantidad de filas y de columnas de la base\n",
    "filas, columnas = vuelos.shape"
   ]
  },
  {
   "attachments": {},
   "cell_type": "markdown",
   "metadata": {},
   "source": [
    "<br>\n",
    "\n",
    "---\n",
    "\n",
    "<br>"
   ]
  },
  {
   "attachments": {},
   "cell_type": "markdown",
   "metadata": {},
   "source": [
    "## Limpieza de datos y análisis exploratorio"
   ]
  },
  {
   "attachments": {},
   "cell_type": "markdown",
   "metadata": {},
   "source": [
    "Veamos alguna información de los datos:"
   ]
  },
  {
   "cell_type": "code",
   "execution_count": 525,
   "metadata": {},
   "outputs": [
    {
     "data": {
      "text/html": [
       "<div>\n",
       "<style scoped>\n",
       "    .dataframe tbody tr th:only-of-type {\n",
       "        vertical-align: middle;\n",
       "    }\n",
       "\n",
       "    .dataframe tbody tr th {\n",
       "        vertical-align: top;\n",
       "    }\n",
       "\n",
       "    .dataframe thead th {\n",
       "        text-align: right;\n",
       "    }\n",
       "</style>\n",
       "<table border=\"1\" class=\"dataframe\">\n",
       "  <thead>\n",
       "    <tr style=\"text-align: right;\">\n",
       "      <th></th>\n",
       "      <th>fecha_i</th>\n",
       "      <th>vlo_i</th>\n",
       "      <th>ori_i</th>\n",
       "      <th>des_i</th>\n",
       "      <th>emp_i</th>\n",
       "      <th>fecha_o</th>\n",
       "      <th>vlo_o</th>\n",
       "      <th>ori_o</th>\n",
       "      <th>des_o</th>\n",
       "      <th>emp_o</th>\n",
       "      <th>dia</th>\n",
       "      <th>mes</th>\n",
       "      <th>ano</th>\n",
       "      <th>dianom</th>\n",
       "      <th>tipovuelo</th>\n",
       "      <th>opera</th>\n",
       "      <th>siglaori</th>\n",
       "      <th>siglades</th>\n",
       "    </tr>\n",
       "  </thead>\n",
       "  <tbody>\n",
       "    <tr>\n",
       "      <th>0</th>\n",
       "      <td>2017-01-01 23:30:00</td>\n",
       "      <td>226</td>\n",
       "      <td>SCEL</td>\n",
       "      <td>KMIA</td>\n",
       "      <td>AAL</td>\n",
       "      <td>2017-01-01 23:33:00</td>\n",
       "      <td>226</td>\n",
       "      <td>SCEL</td>\n",
       "      <td>KMIA</td>\n",
       "      <td>AAL</td>\n",
       "      <td>1</td>\n",
       "      <td>1</td>\n",
       "      <td>2017</td>\n",
       "      <td>Domingo</td>\n",
       "      <td>I</td>\n",
       "      <td>American Airlines</td>\n",
       "      <td>Santiago</td>\n",
       "      <td>Miami</td>\n",
       "    </tr>\n",
       "    <tr>\n",
       "      <th>1</th>\n",
       "      <td>2017-01-02 23:30:00</td>\n",
       "      <td>226</td>\n",
       "      <td>SCEL</td>\n",
       "      <td>KMIA</td>\n",
       "      <td>AAL</td>\n",
       "      <td>2017-01-02 23:39:00</td>\n",
       "      <td>226</td>\n",
       "      <td>SCEL</td>\n",
       "      <td>KMIA</td>\n",
       "      <td>AAL</td>\n",
       "      <td>2</td>\n",
       "      <td>1</td>\n",
       "      <td>2017</td>\n",
       "      <td>Lunes</td>\n",
       "      <td>I</td>\n",
       "      <td>American Airlines</td>\n",
       "      <td>Santiago</td>\n",
       "      <td>Miami</td>\n",
       "    </tr>\n",
       "    <tr>\n",
       "      <th>2</th>\n",
       "      <td>2017-01-03 23:30:00</td>\n",
       "      <td>226</td>\n",
       "      <td>SCEL</td>\n",
       "      <td>KMIA</td>\n",
       "      <td>AAL</td>\n",
       "      <td>2017-01-03 23:39:00</td>\n",
       "      <td>226</td>\n",
       "      <td>SCEL</td>\n",
       "      <td>KMIA</td>\n",
       "      <td>AAL</td>\n",
       "      <td>3</td>\n",
       "      <td>1</td>\n",
       "      <td>2017</td>\n",
       "      <td>Martes</td>\n",
       "      <td>I</td>\n",
       "      <td>American Airlines</td>\n",
       "      <td>Santiago</td>\n",
       "      <td>Miami</td>\n",
       "    </tr>\n",
       "    <tr>\n",
       "      <th>3</th>\n",
       "      <td>2017-01-04 23:30:00</td>\n",
       "      <td>226</td>\n",
       "      <td>SCEL</td>\n",
       "      <td>KMIA</td>\n",
       "      <td>AAL</td>\n",
       "      <td>2017-01-04 23:33:00</td>\n",
       "      <td>226</td>\n",
       "      <td>SCEL</td>\n",
       "      <td>KMIA</td>\n",
       "      <td>AAL</td>\n",
       "      <td>4</td>\n",
       "      <td>1</td>\n",
       "      <td>2017</td>\n",
       "      <td>Miercoles</td>\n",
       "      <td>I</td>\n",
       "      <td>American Airlines</td>\n",
       "      <td>Santiago</td>\n",
       "      <td>Miami</td>\n",
       "    </tr>\n",
       "    <tr>\n",
       "      <th>4</th>\n",
       "      <td>2017-01-05 23:30:00</td>\n",
       "      <td>226</td>\n",
       "      <td>SCEL</td>\n",
       "      <td>KMIA</td>\n",
       "      <td>AAL</td>\n",
       "      <td>2017-01-05 23:28:00</td>\n",
       "      <td>226</td>\n",
       "      <td>SCEL</td>\n",
       "      <td>KMIA</td>\n",
       "      <td>AAL</td>\n",
       "      <td>5</td>\n",
       "      <td>1</td>\n",
       "      <td>2017</td>\n",
       "      <td>Jueves</td>\n",
       "      <td>I</td>\n",
       "      <td>American Airlines</td>\n",
       "      <td>Santiago</td>\n",
       "      <td>Miami</td>\n",
       "    </tr>\n",
       "  </tbody>\n",
       "</table>\n",
       "</div>"
      ],
      "text/plain": [
       "               fecha_i vlo_i ori_i des_i emp_i              fecha_o vlo_o  \\\n",
       "0  2017-01-01 23:30:00   226  SCEL  KMIA   AAL  2017-01-01 23:33:00   226   \n",
       "1  2017-01-02 23:30:00   226  SCEL  KMIA   AAL  2017-01-02 23:39:00   226   \n",
       "2  2017-01-03 23:30:00   226  SCEL  KMIA   AAL  2017-01-03 23:39:00   226   \n",
       "3  2017-01-04 23:30:00   226  SCEL  KMIA   AAL  2017-01-04 23:33:00   226   \n",
       "4  2017-01-05 23:30:00   226  SCEL  KMIA   AAL  2017-01-05 23:28:00   226   \n",
       "\n",
       "  ori_o des_o emp_o  dia  mes   ano     dianom tipovuelo              opera  \\\n",
       "0  SCEL  KMIA   AAL    1    1  2017    Domingo         I  American Airlines   \n",
       "1  SCEL  KMIA   AAL    2    1  2017      Lunes         I  American Airlines   \n",
       "2  SCEL  KMIA   AAL    3    1  2017     Martes         I  American Airlines   \n",
       "3  SCEL  KMIA   AAL    4    1  2017  Miercoles         I  American Airlines   \n",
       "4  SCEL  KMIA   AAL    5    1  2017     Jueves         I  American Airlines   \n",
       "\n",
       "   siglaori siglades  \n",
       "0  Santiago    Miami  \n",
       "1  Santiago    Miami  \n",
       "2  Santiago    Miami  \n",
       "3  Santiago    Miami  \n",
       "4  Santiago    Miami  "
      ]
     },
     "execution_count": 525,
     "metadata": {},
     "output_type": "execute_result"
    }
   ],
   "source": [
    "# Veamos algunas observaciones de los datos\n",
    "vuelos.head()"
   ]
  },
  {
   "cell_type": "code",
   "execution_count": 526,
   "metadata": {},
   "outputs": [
    {
     "name": "stdout",
     "output_type": "stream",
     "text": [
      "\n",
      " La base contiene 68206 observaciones y 18 columnas.\n"
     ]
    }
   ],
   "source": [
    "# Mostramos las dimensiones de los datos.\n",
    "print(f\"\\n La base contiene {filas} observaciones y {columnas} columnas.\")"
   ]
  },
  {
   "cell_type": "code",
   "execution_count": 527,
   "metadata": {},
   "outputs": [
    {
     "name": "stdout",
     "output_type": "stream",
     "text": [
      "<class 'pandas.core.frame.DataFrame'>\n",
      "RangeIndex: 68206 entries, 0 to 68205\n",
      "Data columns (total 18 columns):\n",
      " #   Column     Non-Null Count  Dtype \n",
      "---  ------     --------------  ----- \n",
      " 0   fecha_i    68206 non-null  object\n",
      " 1   vlo_i      68206 non-null  object\n",
      " 2   ori_i      68206 non-null  object\n",
      " 3   des_i      68206 non-null  object\n",
      " 4   emp_i      68206 non-null  object\n",
      " 5   fecha_o    68206 non-null  object\n",
      " 6   vlo_o      68205 non-null  object\n",
      " 7   ori_o      68206 non-null  object\n",
      " 8   des_o      68206 non-null  object\n",
      " 9   emp_o      68206 non-null  object\n",
      " 10  dia        68206 non-null  int64 \n",
      " 11  mes        68206 non-null  int64 \n",
      " 12  ano        68206 non-null  int64 \n",
      " 13  dianom     68206 non-null  object\n",
      " 14  tipovuelo  68206 non-null  object\n",
      " 15  opera      68206 non-null  object\n",
      " 16  siglaori   68206 non-null  object\n",
      " 17  siglades   68206 non-null  object\n",
      "dtypes: int64(3), object(15)\n",
      "memory usage: 9.4+ MB\n"
     ]
    }
   ],
   "source": [
    "# Veamos si todas las variables tienen el tipo adecuado\n",
    "vuelos.info()"
   ]
  },
  {
   "attachments": {},
   "cell_type": "markdown",
   "metadata": {},
   "source": [
    "Notamos que no todas las columnas tienen el tipo adecuado, así que ahora las pasamos al tipo adecuado: "
   ]
  },
  {
   "cell_type": "code",
   "execution_count": 528,
   "metadata": {},
   "outputs": [],
   "source": [
    "# Convertimos las variables en su tipo\n",
    "vuelos[\"fecha_i\"] = pd.to_datetime(vuelos[\"fecha_i\"], format=\"%Y-%m-%d\")\n",
    "vuelos[\"fecha_o\"] = pd.to_datetime(vuelos[\"fecha_o\"], format=\"%Y-%m-%d\")"
   ]
  },
  {
   "attachments": {},
   "cell_type": "markdown",
   "metadata": {},
   "source": [
    "#### Valores faltantes:"
   ]
  },
  {
   "attachments": {},
   "cell_type": "markdown",
   "metadata": {},
   "source": [
    "Ahora revisaremos si es que hay valores faltantes en alguna de las columnas, para luego ver como encargarse de ellos."
   ]
  },
  {
   "cell_type": "code",
   "execution_count": 529,
   "metadata": {},
   "outputs": [
    {
     "data": {
      "text/plain": [
       "fecha_i      0\n",
       "vlo_i        0\n",
       "ori_i        0\n",
       "des_i        0\n",
       "emp_i        0\n",
       "fecha_o      0\n",
       "vlo_o        1\n",
       "ori_o        0\n",
       "des_o        0\n",
       "emp_o        0\n",
       "dia          0\n",
       "mes          0\n",
       "ano          0\n",
       "dianom       0\n",
       "tipovuelo    0\n",
       "opera        0\n",
       "siglaori     0\n",
       "siglades     0\n",
       "dtype: int64"
      ]
     },
     "execution_count": 529,
     "metadata": {},
     "output_type": "execute_result"
    }
   ],
   "source": [
    "# Valores faltantes por columna\n",
    "vuelos.isna().sum()"
   ]
  },
  {
   "attachments": {},
   "cell_type": "markdown",
   "metadata": {},
   "source": [
    "Notamos que la única variable con valores faltantes es `vlo-o`. Veamos esa fila para tratar de entender porqué no tiene valor."
   ]
  },
  {
   "cell_type": "code",
   "execution_count": 530,
   "metadata": {},
   "outputs": [
    {
     "data": {
      "text/html": [
       "<div>\n",
       "<style scoped>\n",
       "    .dataframe tbody tr th:only-of-type {\n",
       "        vertical-align: middle;\n",
       "    }\n",
       "\n",
       "    .dataframe tbody tr th {\n",
       "        vertical-align: top;\n",
       "    }\n",
       "\n",
       "    .dataframe thead th {\n",
       "        text-align: right;\n",
       "    }\n",
       "</style>\n",
       "<table border=\"1\" class=\"dataframe\">\n",
       "  <thead>\n",
       "    <tr style=\"text-align: right;\">\n",
       "      <th></th>\n",
       "      <th>fecha_i</th>\n",
       "      <th>vlo_i</th>\n",
       "      <th>ori_i</th>\n",
       "      <th>des_i</th>\n",
       "      <th>emp_i</th>\n",
       "      <th>fecha_o</th>\n",
       "      <th>vlo_o</th>\n",
       "      <th>ori_o</th>\n",
       "      <th>des_o</th>\n",
       "      <th>emp_o</th>\n",
       "      <th>dia</th>\n",
       "      <th>mes</th>\n",
       "      <th>ano</th>\n",
       "      <th>dianom</th>\n",
       "      <th>tipovuelo</th>\n",
       "      <th>opera</th>\n",
       "      <th>siglaori</th>\n",
       "      <th>siglades</th>\n",
       "    </tr>\n",
       "  </thead>\n",
       "  <tbody>\n",
       "    <tr>\n",
       "      <th>6068</th>\n",
       "      <td>2017-01-19 11:00:00</td>\n",
       "      <td>200</td>\n",
       "      <td>SCEL</td>\n",
       "      <td>SPJC</td>\n",
       "      <td>LAW</td>\n",
       "      <td>2017-01-19 11:03:00</td>\n",
       "      <td>NaN</td>\n",
       "      <td>SCEL</td>\n",
       "      <td>SPJC</td>\n",
       "      <td>56R</td>\n",
       "      <td>19</td>\n",
       "      <td>1</td>\n",
       "      <td>2017</td>\n",
       "      <td>Jueves</td>\n",
       "      <td>I</td>\n",
       "      <td>Latin American Wings</td>\n",
       "      <td>Santiago</td>\n",
       "      <td>Lima</td>\n",
       "    </tr>\n",
       "  </tbody>\n",
       "</table>\n",
       "</div>"
      ],
      "text/plain": [
       "                 fecha_i vlo_i ori_i des_i emp_i             fecha_o vlo_o  \\\n",
       "6068 2017-01-19 11:00:00   200  SCEL  SPJC   LAW 2017-01-19 11:03:00   NaN   \n",
       "\n",
       "     ori_o des_o emp_o  dia  mes   ano  dianom tipovuelo  \\\n",
       "6068  SCEL  SPJC   56R   19    1  2017  Jueves         I   \n",
       "\n",
       "                     opera  siglaori siglades  \n",
       "6068  Latin American Wings  Santiago     Lima  "
      ]
     },
     "execution_count": 530,
     "metadata": {},
     "output_type": "execute_result"
    }
   ],
   "source": [
    "# Revisión fila con valor faltante\n",
    "vuelos[vuelos[\"vlo_o\"].isna()]"
   ]
  },
  {
   "attachments": {},
   "cell_type": "markdown",
   "metadata": {},
   "source": [
    "Es un vuelo de Santiago a Lima, que tiene un número de vuelo programado, pero no un número de vuelo real. Por lo tanto, podemos reemplazar el valor faltante por el valor de la columna `vlo-i`, es decir con el número de vuelo programado."
   ]
  },
  {
   "cell_type": "code",
   "execution_count": 531,
   "metadata": {},
   "outputs": [],
   "source": [
    "# Reemplazamos por el número de vuelo programado\n",
    "vuelos.loc[vuelos[\"vlo_o\"].isna(), \"vlo_o\"] = vuelos.loc[vuelos[\"vlo_o\"].isna(), \"vlo_i\"]"
   ]
  },
  {
   "attachments": {},
   "cell_type": "markdown",
   "metadata": {},
   "source": [
    "<br>\n",
    "\n",
    "---\n",
    "\n",
    "<br>"
   ]
  },
  {
   "attachments": {},
   "cell_type": "markdown",
   "metadata": {},
   "source": [
    "# 1.) "
   ]
  },
  {
   "attachments": {},
   "cell_type": "markdown",
   "metadata": {},
   "source": [
    "## Distribución de los datos:"
   ]
  },
  {
   "attachments": {},
   "cell_type": "markdown",
   "metadata": {},
   "source": [
    "Observando cada columna, podemos ver que la mayorías de las variables son de texto, por lo que no podemos asociarle alguna distribución estadística. Además las que son numéricas son códigos de vuelo o fechas, por lo que tampoco podemos asociarle alguna distribución estadística. Lo que sí podemos hacer es ver la distribución de los datos en términos de cantidades por: `mes`, `día de la semana`, `ciudad de destino`, `nombre de la aerolinea`, etc, para ver si hay valores que se repitan más que otros.\n",
    "\n",
    "Definiremos una función que nos sirva para graficar la distribución de los datos en términos de cantidades por categoría."
   ]
  },
  {
   "cell_type": "code",
   "execution_count": 532,
   "metadata": {},
   "outputs": [],
   "source": [
    "# Función para graficar las distintas variables\n",
    "def graph_bar(df: pd.DataFrame, col: str, quant: str, title: str, col_aux = None):\n",
    "    \"\"\"\n",
    "    Función para graficar barras.\n",
    "    \"\"\"\n",
    "    if col_aux:\n",
    "        df_graph = df.sort_values(col_aux, ascending = False)\n",
    "    else: \n",
    "        df_graph = df.sort_values(quant, ascending = True)\n",
    "\n",
    "    # Dejamos solamente 15 valores para que el gráfico no sea tan grande\n",
    "    df_graph = df_graph.iloc[-15:, :]\n",
    "\n",
    "    # Creamos el gráfico\n",
    "    fig, ax = plt.subplots(figsize=(8, 6))\n",
    "\n",
    "    # Hacemos el eje y\n",
    "    ax.set_yticks(range(len(df_graph)))\n",
    "    ax.set_yticklabels(df_graph[col])\n",
    "\n",
    "    # Definimos la etiqueta y el rango del eje x\n",
    "    ax.set_xlabel(\"Cantidad de vuelos\")\n",
    "    ax.set_xlim(0, df_graph[quant].max() + 1000)\n",
    "\n",
    "    # Definimos el título\n",
    "    ax.set_title(f\"Cantidad de vuelos por {title}\", fontsize=16)\n",
    "\n",
    "    # Graficamos las barras\n",
    "    bars = ax.barh(range(len(df_graph)), df_graph[quant], color=\"#2A0087\")\n",
    "\n",
    "    # Agregamos la cantidad de vuelos en cada barra\n",
    "    for i, bar in enumerate(bars):\n",
    "        ax.text(bar.get_width() + 5, bar.get_y() + bar.get_height() / 2, df_graph[quant].iloc[i], va=\"center\")\n",
    "\n",
    "    # Mostramos el gráfico\n",
    "    plt.show()"
   ]
  },
  {
   "attachments": {},
   "cell_type": "markdown",
   "metadata": {},
   "source": [
    "### Cantidad de vuelos por mes:"
   ]
  },
  {
   "cell_type": "code",
   "execution_count": 533,
   "metadata": {},
   "outputs": [],
   "source": [
    "# Nombre del mes\n",
    "vuelos[\"mes_nom\"] = vuelos[\"mes\"].map({1: \"Enero\", 2: \"Febrero\", 3: \"Marzo\", 4: \"Abril\", 5: \"Mayo\", 6: \"Junio\", 7: \"Julio\", 8: \"Agosto\", 9: \"Septiembre\", \n",
    "    10: \"Octubre\", 11: \"Noviembre\", 12: \"Diciembre\"\n",
    "    })"
   ]
  },
  {
   "cell_type": "code",
   "execution_count": 534,
   "metadata": {},
   "outputs": [],
   "source": [
    "# Vuelos por mes\n",
    "vuelos_mensuales = (\n",
    "    vuelos.groupby([\"mes_nom\", \"mes\"]).agg(\n",
    "        cantidad_vuelos = pd.NamedAgg(column=\"vlo_i\", aggfunc=\"count\")\n",
    "    ).reset_index()\n",
    ")"
   ]
  },
  {
   "cell_type": "code",
   "execution_count": 535,
   "metadata": {},
   "outputs": [
    {
     "data": {
      "image/png": "[encoded data removed]",
      "text/plain": [
       "<Figure size 576x432 with 1 Axes>"
      ]
     },
     "metadata": {},
     "output_type": "display_data"
    }
   ],
   "source": [
    "# Graficamos\n",
    "graph_bar(vuelos_mensuales, \"mes_nom\", \"cantidad_vuelos\", \"mes\", \"mes\")"
   ]
  },
  {
   "attachments": {},
   "cell_type": "markdown",
   "metadata": {},
   "source": [
    "### Cantidad de vuelos por día de la semana:"
   ]
  },
  {
   "cell_type": "code",
   "execution_count": 536,
   "metadata": {},
   "outputs": [],
   "source": [
    "# Día de la semana numérico\n",
    "vuelos[\"dia_semana_num\"] = vuelos[\"dianom\"].map({\"Lunes\": 1, \"Martes\": 2, \"Miercoles\": 3, \"Jueves\": 4, \"Viernes\": 5, \"Sabado\": 6, \"Domingo\": 7})"
   ]
  },
  {
   "cell_type": "code",
   "execution_count": 537,
   "metadata": {},
   "outputs": [],
   "source": [
    "# Vuelos por día de la semana\n",
    "vuelos_sem = (\n",
    "    vuelos.groupby([\"dianom\", \"dia_semana_num\"]).agg(\n",
    "        cantidad_vuelos = pd.NamedAgg(column=\"vlo_i\", aggfunc=\"count\")\n",
    "    ).reset_index()\n",
    ")"
   ]
  },
  {
   "cell_type": "code",
   "execution_count": 538,
   "metadata": {},
   "outputs": [
    {
     "data": {
      "image/png": "[encoded data removed]",
      "text/plain": [
       "<Figure size 576x432 with 1 Axes>"
      ]
     },
     "metadata": {},
     "output_type": "display_data"
    }
   ],
   "source": [
    "# Graficamos\n",
    "graph_bar(vuelos_sem, \"dianom\", \"cantidad_vuelos\", \"día de la semana\", \"dia_semana_num\")"
   ]
  },
  {
   "attachments": {},
   "cell_type": "markdown",
   "metadata": {},
   "source": [
    "### Cantidad de vuelos por ciudad de destino:"
   ]
  },
  {
   "cell_type": "code",
   "execution_count": 539,
   "metadata": {},
   "outputs": [],
   "source": [
    "# Vuelos por ciudad de destino\n",
    "vuelos_dest = (\n",
    "    vuelos.groupby(\"siglades\").agg(\n",
    "        cantidad_vuelos = pd.NamedAgg(column=\"vlo_i\", aggfunc=\"count\")\n",
    "    ).reset_index()\n",
    ")"
   ]
  },
  {
   "cell_type": "code",
   "execution_count": 540,
   "metadata": {},
   "outputs": [
    {
     "data": {
      "image/png": "[encoded data removed]",
      "text/plain": [
       "<Figure size 576x432 with 1 Axes>"
      ]
     },
     "metadata": {},
     "output_type": "display_data"
    }
   ],
   "source": [
    "# Graficamos\n",
    "graph_bar(vuelos_dest, \"siglades\", \"cantidad_vuelos\", \"ciudad de destino\")"
   ]
  },
  {
   "attachments": {},
   "cell_type": "markdown",
   "metadata": {},
   "source": [
    "### Cantidad de vuelos por aerolínea:"
   ]
  },
  {
   "cell_type": "code",
   "execution_count": 541,
   "metadata": {},
   "outputs": [],
   "source": [
    "# Vuelos por aerolínea\n",
    "vuelos_aero = (\n",
    "    vuelos.groupby(\"opera\").agg(\n",
    "        cantidad_vuelos = pd.NamedAgg(column=\"vlo_i\", aggfunc=\"count\")\n",
    "    ).reset_index()\n",
    ")"
   ]
  },
  {
   "cell_type": "code",
   "execution_count": 542,
   "metadata": {},
   "outputs": [
    {
     "data": {
      "image/png": "[encoded data removed]",
      "text/plain": [
       "<Figure size 576x432 with 1 Axes>"
      ]
     },
     "metadata": {},
     "output_type": "display_data"
    }
   ],
   "source": [
    "# Graficamos\n",
    "graph_bar(vuelos_aero, \"opera\", \"cantidad_vuelos\", \"aerolínea\")"
   ]
  },
  {
   "attachments": {},
   "cell_type": "markdown",
   "metadata": {},
   "source": [
    "### Cantidad de vuelos por tipo de vuelo:"
   ]
  },
  {
   "cell_type": "code",
   "execution_count": 543,
   "metadata": {},
   "outputs": [],
   "source": [
    "# Vuelos por aerolínea\n",
    "vuelos_tipo = (\n",
    "    vuelos.groupby(\"tipovuelo\").agg(\n",
    "        cantidad_vuelos = pd.NamedAgg(column=\"vlo_i\", aggfunc=\"count\")\n",
    "    ).reset_index()\n",
    ")\n",
    "\n",
    "# Agregamos el nombre completo para que se vea mejor en el gráfico\n",
    "vuelos_tipo[\"tipovuelo\"] = vuelos_tipo[\"tipovuelo\"].map({\"N\": \"Nacional\", \"I\": \"Internacional\"})"
   ]
  },
  {
   "cell_type": "code",
   "execution_count": 544,
   "metadata": {},
   "outputs": [
    {
     "data": {
      "image/png": "[encoded data removed]",
      "text/plain": [
       "<Figure size 576x432 with 1 Axes>"
      ]
     },
     "metadata": {},
     "output_type": "display_data"
    }
   ],
   "source": [
    "# Graficamos\n",
    "graph_bar(vuelos_tipo, \"tipovuelo\", \"cantidad_vuelos\", \"aerolínea\")"
   ]
  },
  {
   "attachments": {},
   "cell_type": "markdown",
   "metadata": {},
   "source": [
    "## Ideas importantes"
   ]
  },
  {
   "attachments": {},
   "cell_type": "markdown",
   "metadata": {},
   "source": [
    "Viendo las 4 figuras podemos notar lo siguiente:\n",
    "\n",
    "- Diciembre es el mes donde más vuelos tuvieron lugar en el aeropuerto de Santiago. Mientras que Junio fue el mes con menor cantidad de vuelos.\n",
    "- El día de la semana con mayor cantidad de viajes es el viernes, mientras que el día con menor cantidad de viajes es el sábado. Parece extraño de todas maneras que el sábado haya tan poca cantidad de vuelos.\n",
    "- También podemos notar que la ciudad de destino con mayor cantidad de vuelos es Buenos Aires, lo siguen Antofagasta Lima y Calama. \n",
    "- Por último, la aerolínea con mayor cantidad de vuelos es LATAM, seguida de Sky Airline y Aerolíneas Argentinas. Notamos también que la diferencia entre la cantidad de vuelos de LATAM y todas las demás aerolíneas es muy grande."
   ]
  },
  {
   "attachments": {},
   "cell_type": "markdown",
   "metadata": {},
   "source": [
    "## Conclusiones"
   ]
  },
  {
   "attachments": {},
   "cell_type": "markdown",
   "metadata": {},
   "source": [
    "Por el momento no podemos sacar muchas conclusiones del análisis, pero lo que se puede concluir hasta el momento es lo siguiente:\n",
    "- El flujo del aeropuerto entre Octubre y Enero es mayor que el flujo los demás meses del año. Además parece ser que los meses de vacaciones son los que tienen mayor cantidad de vuelos, lo cual es lógico, pero vemos que los datos se condicen con lo que se esperaría.\n",
    "- Los jueves y viernes son los días más concurridos. Tiene sentido pues la gente suele viajar los fines de semana para ver a sus familiares o amigos que viven en otra ciudad/país. \n",
    "- La aerolínea LATAM demuestra ser la más popular en el aeropuerto de Santiago.\n",
    "- Viendo que en todos los casos la ciudad de origen es Santiago, podemos concluir que los datos son todos de despegue en Santiago y aterrizaje en otra ciudad.\n",
    "\n",
    "Por el momento no hay información que nos sirva para determinar el por qué del retraso de los vuelos, pero más adelante veremos si podemos sacar alguna conclusión sobre eso."
   ]
  },
  {
   "attachments": {},
   "cell_type": "markdown",
   "metadata": {},
   "source": [
    "<br>\n",
    "\n",
    "---\n",
    "\n",
    "<br>"
   ]
  },
  {
   "attachments": {},
   "cell_type": "markdown",
   "metadata": {},
   "source": [
    "# 2.) "
   ]
  },
  {
   "attachments": {},
   "cell_type": "markdown",
   "metadata": {},
   "source": [
    "## Creación de columnas adicionales\n",
    "\n",
    "Ahora crearemos las columnas adicionales que se piden, para luego exportarlas a un archivo csv."
   ]
  },
  {
   "cell_type": "code",
   "execution_count": 545,
   "metadata": {},
   "outputs": [],
   "source": [
    "# high_season\n",
    "vuelos[\"high_season\"] = vuelos[\"fecha_i\"].apply(lambda x: \n",
    "1 if (x.month == 12 and x.day >= 15) or \\\n",
    "    x.month == 1 or x.month == 2 or \\\n",
    "        (x.month == 3 and x.day <= 3) or \\\n",
    "            (x.month == 7 and x.day >= 15) or \\\n",
    "                (x.month == 9 and x.day >= 11) else 0)\n",
    "\n",
    "# min_diff\n",
    "vuelos[\"min_diff\"] = vuelos.apply(lambda x: (x[\"fecha_o\"] - x[\"fecha_i\"]).seconds / 60 if (x[\"fecha_o\"] > x[\"fecha_i\"]) else 0, axis = 1).astype(int)\n",
    "\n",
    "# delay_15\n",
    "vuelos[\"delay_15\"] = vuelos[\"min_diff\"].apply(lambda x: 1 if x >= 15 else 0)\n",
    "\n",
    "# period_day\n",
    "vuelos[\"period_day\"] = vuelos[\"fecha_i\"].apply(lambda x: \"Morning\" if (x.hour < 12 and x.hour >= 5) else \"Afternoon\" if (x.hour < 19 and x.hour >= 12) else \"Night\")"
   ]
  },
  {
   "attachments": {},
   "cell_type": "markdown",
   "metadata": {},
   "source": [
    "Para el cálculo de la variable `min_diff`, se tuvo en consideración que hay bastantes fecha_o menores a fecha_i, es decir, vuelos que salieron antes de lo planeado, por lo que se tomó la decisión de dejar el valor de `min_diff` como 0 en estos casos, pues estos no serán retrasos. De todas maneras es extraño que un vuelo salga antes de lo planeado, por lo que es extraño que hayan tantos casos de estos (17.910 de 68.206)."
   ]
  },
  {
   "attachments": {},
   "cell_type": "markdown",
   "metadata": {},
   "source": [
    "Ahora guardamos las columnas en un archivo csv como se pide:"
   ]
  },
  {
   "cell_type": "code",
   "execution_count": 546,
   "metadata": {},
   "outputs": [],
   "source": [
    "# Guardamos las columnas creadas en un archivo csv\n",
    "vuelos[[\"high_season\", \"min_diff\", \"delay_15\", \"period_day\"]].to_csv(os.path.join(output_path, \"synthetic_features.csv\"), index = False, sep = \";\")"
   ]
  },
  {
   "attachments": {},
   "cell_type": "markdown",
   "metadata": {},
   "source": [
    "<br>\n",
    "\n",
    "---\n",
    "\n",
    "<br>"
   ]
  },
  {
   "attachments": {},
   "cell_type": "markdown",
   "metadata": {},
   "source": [
    "# 3.)"
   ]
  },
  {
   "attachments": {},
   "cell_type": "markdown",
   "metadata": {},
   "source": [
    "## Relación entre algunas variables y el retraso del vuelo"
   ]
  },
  {
   "attachments": {},
   "cell_type": "markdown",
   "metadata": {},
   "source": [
    "Se pide ver la tasa de retraso para distintos factores, por lo que crearemos una función que nos permita calcular esta tasa para las distintas variables."
   ]
  },
  {
   "cell_type": "code",
   "execution_count": 547,
   "metadata": {},
   "outputs": [],
   "source": [
    "# Creamos la función\n",
    "def delay_rate(df: pd.DataFrame, col: str, col_aux: str, col_name: str):\n",
    "\n",
    "    # Creamos el dataframe con la tasa de demora por variable\n",
    "    t_demora = (\n",
    "    vuelos.groupby(col).agg(\n",
    "    cantidad_vuelos = pd.NamedAgg(column=col_aux, aggfunc=\"count\"),\n",
    "    tasa_demora = pd.NamedAgg(column=\"delay_15\", aggfunc=lambda x: x.mean())\n",
    "    ).reset_index().round(2).sort_values(\"tasa_demora\", ascending = False).rename(columns = {col: col_name})\n",
    "    )\n",
    "\n",
    "    # Retornamos el dataframe\n",
    "    return t_demora"
   ]
  },
  {
   "attachments": {},
   "cell_type": "markdown",
   "metadata": {},
   "source": [
    "### Destino:"
   ]
  },
  {
   "cell_type": "code",
   "execution_count": 548,
   "metadata": {},
   "outputs": [
    {
     "data": {
      "text/html": [
       "<div>\n",
       "<style scoped>\n",
       "    .dataframe tbody tr th:only-of-type {\n",
       "        vertical-align: middle;\n",
       "    }\n",
       "\n",
       "    .dataframe tbody tr th {\n",
       "        vertical-align: top;\n",
       "    }\n",
       "\n",
       "    .dataframe thead th {\n",
       "        text-align: right;\n",
       "    }\n",
       "</style>\n",
       "<table border=\"1\" class=\"dataframe\">\n",
       "  <thead>\n",
       "    <tr style=\"text-align: right;\">\n",
       "      <th></th>\n",
       "      <th>Destino</th>\n",
       "      <th>cantidad_vuelos</th>\n",
       "      <th>tasa_demora</th>\n",
       "    </tr>\n",
       "  </thead>\n",
       "  <tbody>\n",
       "    <tr>\n",
       "      <th>18</th>\n",
       "      <td>Cordoba</td>\n",
       "      <td>1023</td>\n",
       "      <td>0.33</td>\n",
       "    </tr>\n",
       "    <tr>\n",
       "      <th>49</th>\n",
       "      <td>Rio de Janeiro</td>\n",
       "      <td>1435</td>\n",
       "      <td>0.31</td>\n",
       "    </tr>\n",
       "    <tr>\n",
       "      <th>33</th>\n",
       "      <td>Mendoza</td>\n",
       "      <td>1625</td>\n",
       "      <td>0.29</td>\n",
       "    </tr>\n",
       "    <tr>\n",
       "      <th>8</th>\n",
       "      <td>Buenos Aires</td>\n",
       "      <td>6335</td>\n",
       "      <td>0.28</td>\n",
       "    </tr>\n",
       "    <tr>\n",
       "      <th>54</th>\n",
       "      <td>Sao Paulo</td>\n",
       "      <td>3569</td>\n",
       "      <td>0.27</td>\n",
       "    </tr>\n",
       "    <tr>\n",
       "      <th>7</th>\n",
       "      <td>Bogota</td>\n",
       "      <td>1604</td>\n",
       "      <td>0.27</td>\n",
       "    </tr>\n",
       "    <tr>\n",
       "      <th>28</th>\n",
       "      <td>Lima</td>\n",
       "      <td>5270</td>\n",
       "      <td>0.25</td>\n",
       "    </tr>\n",
       "    <tr>\n",
       "      <th>35</th>\n",
       "      <td>Montevideo</td>\n",
       "      <td>1066</td>\n",
       "      <td>0.23</td>\n",
       "    </tr>\n",
       "    <tr>\n",
       "      <th>34</th>\n",
       "      <td>Miami</td>\n",
       "      <td>1016</td>\n",
       "      <td>0.20</td>\n",
       "    </tr>\n",
       "    <tr>\n",
       "      <th>24</th>\n",
       "      <td>Iquique</td>\n",
       "      <td>3747</td>\n",
       "      <td>0.19</td>\n",
       "    </tr>\n",
       "  </tbody>\n",
       "</table>\n",
       "</div>"
      ],
      "text/plain": [
       "           Destino  cantidad_vuelos  tasa_demora\n",
       "18         Cordoba             1023         0.33\n",
       "49  Rio de Janeiro             1435         0.31\n",
       "33         Mendoza             1625         0.29\n",
       "8     Buenos Aires             6335         0.28\n",
       "54       Sao Paulo             3569         0.27\n",
       "7           Bogota             1604         0.27\n",
       "28            Lima             5270         0.25\n",
       "35      Montevideo             1066         0.23\n",
       "34           Miami             1016         0.20\n",
       "24         Iquique             3747         0.19"
      ]
     },
     "execution_count": 548,
     "metadata": {},
     "output_type": "execute_result"
    }
   ],
   "source": [
    "# Calculamos la tasa de demora por destino\n",
    "t_demora_destino = delay_rate(vuelos, \"siglades\", \"vlo_i\", \"Destino\")\n",
    "\n",
    "# Mostramos el top 10 de los destinos con mayor tasa de demora (para los que hay más de 1000 vuelos)\n",
    "t_demora_destino[t_demora_destino[\"cantidad_vuelos\"] > 1000].head(10)"
   ]
  },
  {
   "attachments": {},
   "cell_type": "markdown",
   "metadata": {},
   "source": [
    "En este caso se tomaron solamente los destinos que tengan más de 1.000 vuelos, pues si el destino tiene muy pocos vuelos, la tasa no es muy representativa. Podemos notar que algunas de las ciudades de Brasil y Argentina son las mayor tasa de retraso tienen. Esto puede deberse a que los vuelos a estas ciudades son más largos que los vuelos a otras ciudades, por lo que es más probable que se retrasen, puede ser por lo mismo que aparecen pocos destinos naciales en este top."
   ]
  },
  {
   "attachments": {},
   "cell_type": "markdown",
   "metadata": {},
   "source": [
    "### Aerolínea:"
   ]
  },
  {
   "cell_type": "code",
   "execution_count": 549,
   "metadata": {},
   "outputs": [
    {
     "data": {
      "text/html": [
       "<div>\n",
       "<style scoped>\n",
       "    .dataframe tbody tr th:only-of-type {\n",
       "        vertical-align: middle;\n",
       "    }\n",
       "\n",
       "    .dataframe tbody tr th {\n",
       "        vertical-align: top;\n",
       "    }\n",
       "\n",
       "    .dataframe thead th {\n",
       "        text-align: right;\n",
       "    }\n",
       "</style>\n",
       "<table border=\"1\" class=\"dataframe\">\n",
       "  <thead>\n",
       "    <tr style=\"text-align: right;\">\n",
       "      <th></th>\n",
       "      <th>Aerolínea</th>\n",
       "      <th>cantidad_vuelos</th>\n",
       "      <th>tasa_demora</th>\n",
       "    </tr>\n",
       "  </thead>\n",
       "  <tbody>\n",
       "    <tr>\n",
       "      <th>20</th>\n",
       "      <td>Qantas Airways</td>\n",
       "      <td>195</td>\n",
       "      <td>0.60</td>\n",
       "    </tr>\n",
       "    <tr>\n",
       "      <th>2</th>\n",
       "      <td>Air Canada</td>\n",
       "      <td>565</td>\n",
       "      <td>0.47</td>\n",
       "    </tr>\n",
       "    <tr>\n",
       "      <th>17</th>\n",
       "      <td>Latin American Wings</td>\n",
       "      <td>1674</td>\n",
       "      <td>0.42</td>\n",
       "    </tr>\n",
       "    <tr>\n",
       "      <th>11</th>\n",
       "      <td>Gol Trans</td>\n",
       "      <td>806</td>\n",
       "      <td>0.37</td>\n",
       "    </tr>\n",
       "    <tr>\n",
       "      <th>7</th>\n",
       "      <td>Avianca</td>\n",
       "      <td>1152</td>\n",
       "      <td>0.28</td>\n",
       "    </tr>\n",
       "    <tr>\n",
       "      <th>0</th>\n",
       "      <td>Aerolineas Argentinas</td>\n",
       "      <td>1949</td>\n",
       "      <td>0.26</td>\n",
       "    </tr>\n",
       "    <tr>\n",
       "      <th>12</th>\n",
       "      <td>Grupo LATAM</td>\n",
       "      <td>40892</td>\n",
       "      <td>0.19</td>\n",
       "    </tr>\n",
       "    <tr>\n",
       "      <th>14</th>\n",
       "      <td>JetSmart SPA</td>\n",
       "      <td>1095</td>\n",
       "      <td>0.19</td>\n",
       "    </tr>\n",
       "    <tr>\n",
       "      <th>21</th>\n",
       "      <td>Sky Airline</td>\n",
       "      <td>14298</td>\n",
       "      <td>0.19</td>\n",
       "    </tr>\n",
       "    <tr>\n",
       "      <th>8</th>\n",
       "      <td>British Airways</td>\n",
       "      <td>205</td>\n",
       "      <td>0.15</td>\n",
       "    </tr>\n",
       "  </tbody>\n",
       "</table>\n",
       "</div>"
      ],
      "text/plain": [
       "                Aerolínea  cantidad_vuelos  tasa_demora\n",
       "20         Qantas Airways              195         0.60\n",
       "2              Air Canada              565         0.47\n",
       "17   Latin American Wings             1674         0.42\n",
       "11              Gol Trans              806         0.37\n",
       "7                 Avianca             1152         0.28\n",
       "0   Aerolineas Argentinas             1949         0.26\n",
       "12            Grupo LATAM            40892         0.19\n",
       "14           JetSmart SPA             1095         0.19\n",
       "21            Sky Airline            14298         0.19\n",
       "8         British Airways              205         0.15"
      ]
     },
     "execution_count": 549,
     "metadata": {},
     "output_type": "execute_result"
    }
   ],
   "source": [
    "# Calculamos la tasa de demora por aerolínea\n",
    "t_demora_aerolinea = delay_rate(vuelos, \"opera\", \"vlo_i\", \"Aerolínea\")\n",
    "\n",
    "# Mostramos el top 10 de las aerolíneas con mayor tasa de demora (para las que hay más de 100 vuelos)\n",
    "t_demora_aerolinea[t_demora_aerolinea[\"cantidad_vuelos\"] > 100].head(10)"
   ]
  },
  {
   "attachments": {},
   "cell_type": "markdown",
   "metadata": {},
   "source": [
    "En esta caso se tomaron las aerolíneas con más de 100 vuelos, por la misma razón de antes. Se ve que `Qantas Airways` tiene una alta tasa de retraso (60%) y notamos que LATAM se encuentra en el top 10 (de 20) de las aerolíneas con mayor tasa de retraso con un 19%. "
   ]
  },
  {
   "attachments": {},
   "cell_type": "markdown",
   "metadata": {},
   "source": [
    "### Mes del año:"
   ]
  },
  {
   "cell_type": "code",
   "execution_count": 550,
   "metadata": {},
   "outputs": [
    {
     "data": {
      "text/html": [
       "<div>\n",
       "<style scoped>\n",
       "    .dataframe tbody tr th:only-of-type {\n",
       "        vertical-align: middle;\n",
       "    }\n",
       "\n",
       "    .dataframe tbody tr th {\n",
       "        vertical-align: top;\n",
       "    }\n",
       "\n",
       "    .dataframe thead th {\n",
       "        text-align: right;\n",
       "    }\n",
       "</style>\n",
       "<table border=\"1\" class=\"dataframe\">\n",
       "  <thead>\n",
       "    <tr style=\"text-align: right;\">\n",
       "      <th></th>\n",
       "      <th>Mes</th>\n",
       "      <th>cantidad_vuelos</th>\n",
       "      <th>tasa_demora</th>\n",
       "    </tr>\n",
       "  </thead>\n",
       "  <tbody>\n",
       "    <tr>\n",
       "      <th>5</th>\n",
       "      <td>Julio</td>\n",
       "      <td>5992</td>\n",
       "      <td>0.31</td>\n",
       "    </tr>\n",
       "    <tr>\n",
       "      <th>2</th>\n",
       "      <td>Diciembre</td>\n",
       "      <td>6356</td>\n",
       "      <td>0.27</td>\n",
       "    </tr>\n",
       "    <tr>\n",
       "      <th>10</th>\n",
       "      <td>Octubre</td>\n",
       "      <td>6032</td>\n",
       "      <td>0.24</td>\n",
       "    </tr>\n",
       "    <tr>\n",
       "      <th>9</th>\n",
       "      <td>Noviembre</td>\n",
       "      <td>6080</td>\n",
       "      <td>0.21</td>\n",
       "    </tr>\n",
       "    <tr>\n",
       "      <th>1</th>\n",
       "      <td>Agosto</td>\n",
       "      <td>5744</td>\n",
       "      <td>0.19</td>\n",
       "    </tr>\n",
       "    <tr>\n",
       "      <th>6</th>\n",
       "      <td>Junio</td>\n",
       "      <td>4981</td>\n",
       "      <td>0.19</td>\n",
       "    </tr>\n",
       "    <tr>\n",
       "      <th>11</th>\n",
       "      <td>Septiembre</td>\n",
       "      <td>5610</td>\n",
       "      <td>0.19</td>\n",
       "    </tr>\n",
       "    <tr>\n",
       "      <th>3</th>\n",
       "      <td>Enero</td>\n",
       "      <td>6108</td>\n",
       "      <td>0.18</td>\n",
       "    </tr>\n",
       "    <tr>\n",
       "      <th>8</th>\n",
       "      <td>Mayo</td>\n",
       "      <td>5240</td>\n",
       "      <td>0.17</td>\n",
       "    </tr>\n",
       "    <tr>\n",
       "      <th>4</th>\n",
       "      <td>Febrero</td>\n",
       "      <td>5561</td>\n",
       "      <td>0.16</td>\n",
       "    </tr>\n",
       "    <tr>\n",
       "      <th>0</th>\n",
       "      <td>Abril</td>\n",
       "      <td>5020</td>\n",
       "      <td>0.13</td>\n",
       "    </tr>\n",
       "    <tr>\n",
       "      <th>7</th>\n",
       "      <td>Marzo</td>\n",
       "      <td>5482</td>\n",
       "      <td>0.12</td>\n",
       "    </tr>\n",
       "  </tbody>\n",
       "</table>\n",
       "</div>"
      ],
      "text/plain": [
       "           Mes  cantidad_vuelos  tasa_demora\n",
       "5        Julio             5992         0.31\n",
       "2    Diciembre             6356         0.27\n",
       "10     Octubre             6032         0.24\n",
       "9    Noviembre             6080         0.21\n",
       "1       Agosto             5744         0.19\n",
       "6        Junio             4981         0.19\n",
       "11  Septiembre             5610         0.19\n",
       "3        Enero             6108         0.18\n",
       "8         Mayo             5240         0.17\n",
       "4      Febrero             5561         0.16\n",
       "0        Abril             5020         0.13\n",
       "7        Marzo             5482         0.12"
      ]
     },
     "execution_count": 550,
     "metadata": {},
     "output_type": "execute_result"
    }
   ],
   "source": [
    "# Calculamos la tasa de demora por mes del año\n",
    "t_demora_mes = delay_rate(vuelos, \"mes_nom\", \"vlo_i\", \"Mes\")\n",
    "\n",
    "# Mostramos los meses con mayor tasa de demora.\n",
    "t_demora_mes"
   ]
  },
  {
   "attachments": {},
   "cell_type": "markdown",
   "metadata": {},
   "source": [
    "En este caso se tomaron todos los meses. Se puede notar que en general las tasas de retraso son bastante parecidas, siendo julio el mayor y marzo el menor."
   ]
  },
  {
   "attachments": {},
   "cell_type": "markdown",
   "metadata": {},
   "source": [
    "### Día de la semana:"
   ]
  },
  {
   "cell_type": "code",
   "execution_count": 551,
   "metadata": {},
   "outputs": [
    {
     "data": {
      "text/html": [
       "<div>\n",
       "<style scoped>\n",
       "    .dataframe tbody tr th:only-of-type {\n",
       "        vertical-align: middle;\n",
       "    }\n",
       "\n",
       "    .dataframe tbody tr th {\n",
       "        vertical-align: top;\n",
       "    }\n",
       "\n",
       "    .dataframe thead th {\n",
       "        text-align: right;\n",
       "    }\n",
       "</style>\n",
       "<table border=\"1\" class=\"dataframe\">\n",
       "  <thead>\n",
       "    <tr style=\"text-align: right;\">\n",
       "      <th></th>\n",
       "      <th>Día de la semana</th>\n",
       "      <th>cantidad_vuelos</th>\n",
       "      <th>tasa_demora</th>\n",
       "    </tr>\n",
       "  </thead>\n",
       "  <tbody>\n",
       "    <tr>\n",
       "      <th>6</th>\n",
       "      <td>Viernes</td>\n",
       "      <td>10292</td>\n",
       "      <td>0.24</td>\n",
       "    </tr>\n",
       "    <tr>\n",
       "      <th>1</th>\n",
       "      <td>Jueves</td>\n",
       "      <td>10251</td>\n",
       "      <td>0.22</td>\n",
       "    </tr>\n",
       "    <tr>\n",
       "      <th>2</th>\n",
       "      <td>Lunes</td>\n",
       "      <td>10131</td>\n",
       "      <td>0.22</td>\n",
       "    </tr>\n",
       "    <tr>\n",
       "      <th>0</th>\n",
       "      <td>Domingo</td>\n",
       "      <td>9796</td>\n",
       "      <td>0.18</td>\n",
       "    </tr>\n",
       "    <tr>\n",
       "      <th>3</th>\n",
       "      <td>Martes</td>\n",
       "      <td>9662</td>\n",
       "      <td>0.18</td>\n",
       "    </tr>\n",
       "    <tr>\n",
       "      <th>4</th>\n",
       "      <td>Miercoles</td>\n",
       "      <td>9722</td>\n",
       "      <td>0.18</td>\n",
       "    </tr>\n",
       "    <tr>\n",
       "      <th>5</th>\n",
       "      <td>Sabado</td>\n",
       "      <td>8352</td>\n",
       "      <td>0.18</td>\n",
       "    </tr>\n",
       "  </tbody>\n",
       "</table>\n",
       "</div>"
      ],
      "text/plain": [
       "  Día de la semana  cantidad_vuelos  tasa_demora\n",
       "6          Viernes            10292         0.24\n",
       "1           Jueves            10251         0.22\n",
       "2            Lunes            10131         0.22\n",
       "0          Domingo             9796         0.18\n",
       "3           Martes             9662         0.18\n",
       "4        Miercoles             9722         0.18\n",
       "5           Sabado             8352         0.18"
      ]
     },
     "execution_count": 551,
     "metadata": {},
     "output_type": "execute_result"
    }
   ],
   "source": [
    "# Calculamos la tasa de demora por día de la semana\n",
    "t_demora_sem = delay_rate(vuelos, \"dianom\", \"vlo_i\", \"Día de la semana\")\n",
    "\n",
    "# Mostramos los días con mayor tasa de demora.\n",
    "t_demora_sem"
   ]
  },
  {
   "attachments": {},
   "cell_type": "markdown",
   "metadata": {},
   "source": [
    "Al igual que los meses, los días de la semana tienen tasas de retraso bastante parecidas, siendo el sábado el día con menor tasa de retraso y el viernes el día con mayor tasa de retraso."
   ]
  },
  {
   "attachments": {},
   "cell_type": "markdown",
   "metadata": {},
   "source": [
    "### Temporada:"
   ]
  },
  {
   "cell_type": "code",
   "execution_count": 552,
   "metadata": {},
   "outputs": [
    {
     "data": {
      "text/html": [
       "<div>\n",
       "<style scoped>\n",
       "    .dataframe tbody tr th:only-of-type {\n",
       "        vertical-align: middle;\n",
       "    }\n",
       "\n",
       "    .dataframe tbody tr th {\n",
       "        vertical-align: top;\n",
       "    }\n",
       "\n",
       "    .dataframe thead th {\n",
       "        text-align: right;\n",
       "    }\n",
       "</style>\n",
       "<table border=\"1\" class=\"dataframe\">\n",
       "  <thead>\n",
       "    <tr style=\"text-align: right;\">\n",
       "      <th></th>\n",
       "      <th>Temporada</th>\n",
       "      <th>cantidad_vuelos</th>\n",
       "      <th>tasa_demora</th>\n",
       "    </tr>\n",
       "  </thead>\n",
       "  <tbody>\n",
       "    <tr>\n",
       "      <th>1</th>\n",
       "      <td>1</td>\n",
       "      <td>22762</td>\n",
       "      <td>0.21</td>\n",
       "    </tr>\n",
       "    <tr>\n",
       "      <th>0</th>\n",
       "      <td>0</td>\n",
       "      <td>45444</td>\n",
       "      <td>0.19</td>\n",
       "    </tr>\n",
       "  </tbody>\n",
       "</table>\n",
       "</div>"
      ],
      "text/plain": [
       "   Temporada  cantidad_vuelos  tasa_demora\n",
       "1          1            22762         0.21\n",
       "0          0            45444         0.19"
      ]
     },
     "execution_count": 552,
     "metadata": {},
     "output_type": "execute_result"
    }
   ],
   "source": [
    "# Calculamos la tasa de demora por período\n",
    "t_demora_seas = delay_rate(vuelos, \"high_season\", \"vlo_i\", \"Temporada\")\n",
    "\n",
    "# Mostramos las tasas de demora para la temporada alta \"1\" y baja \"0\".\n",
    "t_demora_seas"
   ]
  },
  {
   "attachments": {},
   "cell_type": "markdown",
   "metadata": {},
   "source": [
    "Para las temporadas alta y baja, podemos observar tasas casi iguales, siendo la temporada alta un poco mayor. Es interesante este dato, porque hay una gran diferencia en la cantidad de vuelos entre temporada alta y baja, siendo la baja bastante mayor. Aún así se mantiene con una tasa menor, lo que nos sirve para concluir que en las temporadas altas, los vuelos se atrasan más."
   ]
  },
  {
   "attachments": {},
   "cell_type": "markdown",
   "metadata": {},
   "source": [
    "### Tipo de vuelo:"
   ]
  },
  {
   "cell_type": "code",
   "execution_count": 553,
   "metadata": {},
   "outputs": [
    {
     "data": {
      "text/html": [
       "<div>\n",
       "<style scoped>\n",
       "    .dataframe tbody tr th:only-of-type {\n",
       "        vertical-align: middle;\n",
       "    }\n",
       "\n",
       "    .dataframe tbody tr th {\n",
       "        vertical-align: top;\n",
       "    }\n",
       "\n",
       "    .dataframe thead th {\n",
       "        text-align: right;\n",
       "    }\n",
       "</style>\n",
       "<table border=\"1\" class=\"dataframe\">\n",
       "  <thead>\n",
       "    <tr style=\"text-align: right;\">\n",
       "      <th></th>\n",
       "      <th>Tipo de vuelo</th>\n",
       "      <th>cantidad_vuelos</th>\n",
       "      <th>tasa_demora</th>\n",
       "    </tr>\n",
       "  </thead>\n",
       "  <tbody>\n",
       "    <tr>\n",
       "      <th>0</th>\n",
       "      <td>I</td>\n",
       "      <td>31240</td>\n",
       "      <td>0.24</td>\n",
       "    </tr>\n",
       "    <tr>\n",
       "      <th>1</th>\n",
       "      <td>N</td>\n",
       "      <td>36966</td>\n",
       "      <td>0.16</td>\n",
       "    </tr>\n",
       "  </tbody>\n",
       "</table>\n",
       "</div>"
      ],
      "text/plain": [
       "  Tipo de vuelo  cantidad_vuelos  tasa_demora\n",
       "0             I            31240         0.24\n",
       "1             N            36966         0.16"
      ]
     },
     "execution_count": 553,
     "metadata": {},
     "output_type": "execute_result"
    }
   ],
   "source": [
    "# Calculamos la tasa de demora por tipo de vuelo\n",
    "t_demora_tipo_v = delay_rate(vuelos, \"tipovuelo\", \"vlo_i\", \"Tipo de vuelo\")\n",
    "\n",
    "# Mostramos las tasas de demora para los distintos tipos de vuelo (I: internacional, N: nacional).\n",
    "t_demora_tipo_v"
   ]
  },
  {
   "attachments": {},
   "cell_type": "markdown",
   "metadata": {},
   "source": [
    "Por último, si observamos las tasas por tipo de vuelo, podemos observar que hay aproximadamente 5.000 vuelos más de tipo `Nacional` que de tipo `Internacional`. Sin embargo, la tasa de retraso de los vuelos internacionales es bastante mayor que la de los vuelos nacionales (un 8%) . Esto puede deberse a que los vuelos internacionales son más largos que los vuelos nacionales, por lo que es más probable que se retrasen, misma conclusión que obtuvimos con las distancias, ahora con los tipos de vuelo."
   ]
  },
  {
   "attachments": {},
   "cell_type": "markdown",
   "metadata": {},
   "source": [
    "## Variables que podrían tener más influencia en la predicción de la demora"
   ]
  },
  {
   "attachments": {},
   "cell_type": "markdown",
   "metadata": {},
   "source": [
    "Retomando los resultados del análisis anterior, yo creo que las variables que podrían ser más influyentes para predecir la demora de un vuelo son:\n",
    "- Destino: Esta variable tiene una gran influencia en la demora de un vuelo, pues los vuelos a ciudades más lejanas parecen tienen una mayor tasa de retraso en general (aunque esto no es siempre, no es una generalización, pero podría sernos de ayuda).\n",
    "- Tipo de vuelo: Esta variable mostró que los vuelos internacionales tienen una tasa de retraso mayor que los vuelos nacionales, por lo que podría ser una variable que nos sirva para predecir la demora de un vuelo.\n",
    "\n",
    "Ojo también con el período del día, que no se revisó en este análisis, pero a mi parecer podría ser una variable útil a la hora de predecir las demoras."
   ]
  },
  {
   "attachments": {},
   "cell_type": "markdown",
   "metadata": {},
   "source": [
    "<br>\n",
    "\n",
    "---\n",
    "\n",
    "<br>"
   ]
  },
  {
   "attachments": {},
   "cell_type": "markdown",
   "metadata": {},
   "source": [
    "# 4.)"
   ]
  },
  {
   "attachments": {},
   "cell_type": "markdown",
   "metadata": {},
   "source": [
    "## Entrenamiento de modelos"
   ]
  },
  {
   "attachments": {},
   "cell_type": "markdown",
   "metadata": {},
   "source": [
    "Antes de entrenar los modelos, mostraremos cuales serán las variables que usaremos para predecir la demora de un vuelo:\n",
    "- `dianom`: El día de la semana, pues este parece influir un poco en el retraso.\n",
    "- `tipo_vuelo`: El tipo de vuelo, pues se ve que los vuelos internacionales tienen una tasa de retraso mayor que los vuelos nacionales.\n",
    "- `opera`: La aerolínea que efectúa el vuelo, pues se ve que hay diferencias en la tasa de retraso entre las aerolíneas.\n",
    "- `mes_nom`: El mes del año, pues se nota que hay diferencias de tasas de retraso entre los meses.\n",
    "- `high_season`: La temporada alta o baja, pues se ve que hay una diferencia en la tasa de retraso entre estas temporadas.\n",
    "- `period_day`: El período del día, pues podría tener una influencia en la demora de un vuelo."
   ]
  },
  {
   "attachments": {},
   "cell_type": "markdown",
   "metadata": {},
   "source": [
    "Es importante mencionar que nos encontramos frente a un problema de `clasificación binaria`, pues la variable objetivo es una variable binaria 0 si el vuelo no se retrasó (o al menos no superó los 15 minutos) o 1 si es que se retrasó. \n",
    "\n",
    "Antes de hacer los modelos, haremos un `Random Forest`, para ver la importancia que tiene cada una de las variables, así podríamos evitar algunas variables que no estén aportando al modelo y solamente ocupen memoria. Luego, los modelos que usaremos serán modelos de clasificación binaria, más específicamente se utilizará un `Random Forest` y contrastaremos los resultados con una `Red Neuronal Densa`, esta última no tiene mucha interpretación, por lo que para ver la importancia de las variables utilizaremos el Random Forest. "
   ]
  },
  {
   "attachments": {},
   "cell_type": "markdown",
   "metadata": {},
   "source": [
    "Ahora separamos los datos en `X` e `y`, donde `X` son las variables independientes y `y` la variable dependiente:"
   ]
  },
  {
   "cell_type": "code",
   "execution_count": 554,
   "metadata": {},
   "outputs": [],
   "source": [
    "# Definimos los predictores\n",
    "X = vuelos[[\"dianom\", \"tipovuelo\", \"opera\", \"mes_nom\", \"high_season\", \"period_day\"]]\n",
    "\n",
    "# Definimos la variable respuesta\n",
    "y = vuelos[\"delay_15\"]"
   ]
  },
  {
   "attachments": {},
   "cell_type": "markdown",
   "metadata": {},
   "source": [
    "Creamos las variables dummy para las variables categóricas:"
   ]
  },
  {
   "cell_type": "code",
   "execution_count": 555,
   "metadata": {},
   "outputs": [],
   "source": [
    "# Pasamos las variables categóricas a dummies\n",
    "X = pd.get_dummies(X, columns=[\"dianom\", \"tipovuelo\", \"opera\", \"mes_nom\", \"high_season\", \"period_day\"])\n",
    "\n",
    "# Tomamos los nombres de las columnas para usarlos después\n",
    "col_names = X.columns"
   ]
  },
  {
   "attachments": {},
   "cell_type": "markdown",
   "metadata": {},
   "source": [
    "Convertimos X en un array de numpy, para luego usarlo en los modelos:"
   ]
  },
  {
   "cell_type": "code",
   "execution_count": 556,
   "metadata": {},
   "outputs": [],
   "source": [
    "# Pasamos X a un array\n",
    "X = np.array(X)"
   ]
  },
  {
   "attachments": {},
   "cell_type": "markdown",
   "metadata": {},
   "source": [
    "Veamos cuantos valores por clase hay en la variable objetivo:"
   ]
  },
  {
   "cell_type": "code",
   "execution_count": 557,
   "metadata": {},
   "outputs": [
    {
     "data": {
      "text/plain": [
       "0    54590\n",
       "1    13616\n",
       "Name: delay_15, dtype: int64"
      ]
     },
     "metadata": {},
     "output_type": "display_data"
    },
    {
     "data": {
      "text/plain": [
       "0    0.8\n",
       "1    0.2\n",
       "Name: delay_15, dtype: float64"
      ]
     },
     "metadata": {},
     "output_type": "display_data"
    }
   ],
   "source": [
    "# Contamos la cantidad de 1's y 0's en la variable respuesta\n",
    "display(y.value_counts())\n",
    "display(y.value_counts(normalize = True).round(2))"
   ]
  },
  {
   "attachments": {},
   "cell_type": "markdown",
   "metadata": {},
   "source": [
    "Es importante darnos cuenta que estamos frente a un problema de desbalance de clases, pues hay un 80% de vuelos no retrasados y un 20% de vuelos retrasados. Al momento de separar los datos, nos aseguraremos de que haya un 80% de vuelos no retrasados y un 20% de vuelos retrasados en el conjunto de entrenamiento, en el conjunto de prueba y en el conjunto de validación."
   ]
  },
  {
   "attachments": {},
   "cell_type": "markdown",
   "metadata": {},
   "source": [
    "### Separación en entrenamiento, testeo y validación:"
   ]
  },
  {
   "attachments": {},
   "cell_type": "markdown",
   "metadata": {},
   "source": [
    "Como se mencionó anteriormente, se usará un `Random Forest` y una `Red Neuronal Densa` para predecir la demora de un vuelo. Para esto, lo primero que haremos será separar los datos en entrenamiento 80%, testeo 10% y validación 10%. Estos porcentajes se decidieron arbitrariamente, tomando en consideración que contamos con una cantidad decente de datos."
   ]
  },
  {
   "cell_type": "code",
   "execution_count": 558,
   "metadata": {},
   "outputs": [],
   "source": [
    "# Separamos en entrenamiento, testeo y validación.\n",
    "# Definimos las proporciones de cada base\n",
    "train_prop = 0.7\n",
    "test_prop = 0.15\n",
    "val_prop = 0.15\n",
    "\n",
    "# Separamos nuestras variables en entrenamiento y testeo\n",
    "X_train, X_test, y_train, y_test = train_test_split(X, y, test_size = test_prop, random_state = 201212189, stratify = y)\n",
    "\n",
    "# Ahora con la de entrenamiento hacemos la de validación\n",
    "X_train, X_valid, y_train, y_valid = train_test_split(X_train, y_train, test_size = val_prop / (train_prop + test_prop), random_state = 201212189, stratify = y_train)"
   ]
  },
  {
   "cell_type": "code",
   "execution_count": 559,
   "metadata": {},
   "outputs": [],
   "source": [
    "# Cambiamos las dimensiones de \"y\" para que la red los pueda procesar de buena manera.\n",
    "y_train_nn = to_categorical(y_train)\n",
    "y_test_nn = to_categorical(y_test)\n",
    "y_valid_nn = to_categorical(y_valid)"
   ]
  },
  {
   "attachments": {},
   "cell_type": "markdown",
   "metadata": {},
   "source": [
    "### Random Forest como selector de variables:"
   ]
  },
  {
   "attachments": {},
   "cell_type": "markdown",
   "metadata": {},
   "source": [
    "Es importante mencionar que se utilizará el argumento `class_weight = 'balanced'` en los modelos, pues estamos frente a un problema de desbalance de clases, esto reducirá el accuracy general de los modelos, pero nos ayudará a que los modelos sean más precisos en la predicción de la clase minoritaria que en este caso es la que más nos interesa (los vuelos con retraso)."
   ]
  },
  {
   "cell_type": "code",
   "execution_count": 560,
   "metadata": {},
   "outputs": [
    {
     "name": "stdout",
     "output_type": "stream",
     "text": [
      "\n",
      "El accuracy del modelo fue de un 65.59%\n"
     ]
    }
   ],
   "source": [
    "# Inicializamos el modelo\n",
    "rf = RandomForestClassifier(random_state = 201212189, class_weight=\"balanced\")\n",
    "\n",
    "# Ajustamos el modelo con los datos de entrenamiento\n",
    "rf.fit(X_train, y_train)\n",
    "\n",
    "# Predecimos con los datos de testeo\n",
    "y_pred_rf = rf.predict(X_test)\n",
    "\n",
    "# Predecimos las probabilidades de cada clase\n",
    "y_pred_rf_prob = rf.predict_proba(X_test)\n",
    "\n",
    "# Calculamos el accuracy que obtuvo el modelo\n",
    "print(f\"\\nEl accuracy del modelo fue de un {round(accuracy_score(y_test, y_pred_rf)*100, 2)}%\")"
   ]
  },
  {
   "attachments": {},
   "cell_type": "markdown",
   "metadata": {},
   "source": [
    "Se obtuvo un 65% de accuracy en la base de testeo, luego veremos si esto se mantiene si quitamos las variables con menor importancia."
   ]
  },
  {
   "cell_type": "code",
   "execution_count": 561,
   "metadata": {},
   "outputs": [
    {
     "data": {
      "text/html": [
       "<div>\n",
       "<style scoped>\n",
       "    .dataframe tbody tr th:only-of-type {\n",
       "        vertical-align: middle;\n",
       "    }\n",
       "\n",
       "    .dataframe tbody tr th {\n",
       "        vertical-align: top;\n",
       "    }\n",
       "\n",
       "    .dataframe thead th {\n",
       "        text-align: right;\n",
       "    }\n",
       "</style>\n",
       "<table border=\"1\" class=\"dataframe\">\n",
       "  <thead>\n",
       "    <tr style=\"text-align: right;\">\n",
       "      <th></th>\n",
       "      <th>Nombre variable</th>\n",
       "      <th>importancia</th>\n",
       "    </tr>\n",
       "  </thead>\n",
       "  <tbody>\n",
       "    <tr>\n",
       "      <th>37</th>\n",
       "      <td>mes_nom_Julio</td>\n",
       "      <td>0.042274</td>\n",
       "    </tr>\n",
       "    <tr>\n",
       "      <th>21</th>\n",
       "      <td>opera_Grupo LATAM</td>\n",
       "      <td>0.037709</td>\n",
       "    </tr>\n",
       "    <tr>\n",
       "      <th>47</th>\n",
       "      <td>period_day_Morning</td>\n",
       "      <td>0.037375</td>\n",
       "    </tr>\n",
       "    <tr>\n",
       "      <th>0</th>\n",
       "      <td>dianom_Domingo</td>\n",
       "      <td>0.037299</td>\n",
       "    </tr>\n",
       "    <tr>\n",
       "      <th>3</th>\n",
       "      <td>dianom_Martes</td>\n",
       "      <td>0.037142</td>\n",
       "    </tr>\n",
       "    <tr>\n",
       "      <th>2</th>\n",
       "      <td>dianom_Lunes</td>\n",
       "      <td>0.036231</td>\n",
       "    </tr>\n",
       "    <tr>\n",
       "      <th>1</th>\n",
       "      <td>dianom_Jueves</td>\n",
       "      <td>0.035889</td>\n",
       "    </tr>\n",
       "    <tr>\n",
       "      <th>30</th>\n",
       "      <td>opera_Sky Airline</td>\n",
       "      <td>0.035653</td>\n",
       "    </tr>\n",
       "    <tr>\n",
       "      <th>5</th>\n",
       "      <td>dianom_Sabado</td>\n",
       "      <td>0.034659</td>\n",
       "    </tr>\n",
       "    <tr>\n",
       "      <th>8</th>\n",
       "      <td>tipovuelo_N</td>\n",
       "      <td>0.034243</td>\n",
       "    </tr>\n",
       "  </tbody>\n",
       "</table>\n",
       "</div>"
      ],
      "text/plain": [
       "       Nombre variable  importancia\n",
       "37       mes_nom_Julio     0.042274\n",
       "21   opera_Grupo LATAM     0.037709\n",
       "47  period_day_Morning     0.037375\n",
       "0       dianom_Domingo     0.037299\n",
       "3        dianom_Martes     0.037142\n",
       "2         dianom_Lunes     0.036231\n",
       "1        dianom_Jueves     0.035889\n",
       "30   opera_Sky Airline     0.035653\n",
       "5        dianom_Sabado     0.034659\n",
       "8          tipovuelo_N     0.034243"
      ]
     },
     "execution_count": 561,
     "metadata": {},
     "output_type": "execute_result"
    }
   ],
   "source": [
    "# Definimos un dataframe con las variables y su importancia\n",
    "importancia_variables = pd.DataFrame(data = {\"Nombre variable\": col_names, \"importancia\": rf.feature_importances_})\n",
    "\n",
    "# Mostramos las variables más importantes\n",
    "importancia_variables.sort_values(\"importancia\", ascending = False).head(10)"
   ]
  },
  {
   "attachments": {},
   "cell_type": "markdown",
   "metadata": {},
   "source": [
    "Notamos que el mes de julio y la aerolínea LATAM son las más influyentes, ambas con un 4% de importancia aproximadamente.\n",
    "\n",
    "Ahora eliminaremos las variables que aporten menos de un 1% de importancia al modelo, para tener un modelo más simple que siga siendo preciso:"
   ]
  },
  {
   "cell_type": "code",
   "execution_count": 562,
   "metadata": {},
   "outputs": [],
   "source": [
    "# Solo tomamos las variables con importancia mayor a 0.01\n",
    "X_clean = X[:, importancia_variables[\"importancia\"] > 0.01]"
   ]
  },
  {
   "attachments": {},
   "cell_type": "markdown",
   "metadata": {},
   "source": [
    "Ahora volvemos a separar:"
   ]
  },
  {
   "cell_type": "code",
   "execution_count": 563,
   "metadata": {},
   "outputs": [],
   "source": [
    "# Separamos en entrenamiento, testeo y validación.\n",
    "# Definimos las proporciones de cada base\n",
    "train_prop = 0.7\n",
    "test_prop = 0.15\n",
    "val_prop = 0.15\n",
    "\n",
    "# Separamos nuestras variables en entrenamiento y testeo\n",
    "X_train, X_test, y_train, y_test = train_test_split(X_clean, y, test_size = test_prop, random_state = 201212189, stratify = y)\n",
    "\n",
    "# Ahora con la de entrenamiento hacemos la de validación\n",
    "X_train, X_valid, y_train, y_valid = train_test_split(X_train, y_train, test_size = val_prop / (train_prop + test_prop), random_state = 201212189, stratify = y_train)"
   ]
  },
  {
   "attachments": {},
   "cell_type": "markdown",
   "metadata": {},
   "source": [
    "Volvemos a entrenar el modelo con las variables seleccionadas:"
   ]
  },
  {
   "cell_type": "code",
   "execution_count": 472,
   "metadata": {},
   "outputs": [
    {
     "name": "stdout",
     "output_type": "stream",
     "text": [
      "\n",
      "El accuracy del modelo fue de un 65.42%\n"
     ]
    }
   ],
   "source": [
    "# Inicializamos el modelo\n",
    "rf = RandomForestClassifier(random_state = 201212189, class_weight=\"balanced\")\n",
    "\n",
    "# Ajustamos el modelo con los datos de entrenamiento\n",
    "rf.fit(X_train, y_train)\n",
    "\n",
    "# Predecimos con los datos de testeo\n",
    "y_pred_rf = rf.predict(X_test)\n",
    "\n",
    "# Predecimos las probabilidades de cada clase\n",
    "y_pred_rf_prob = rf.predict_proba(X_test)\n",
    "\n",
    "# Calculamos el accuracy que obtuvo el modelo\n",
    "print(f\"\\nEl accuracy del modelo fue de un {round(accuracy_score(y_test, y_pred_rf)*100, 2)}%\")"
   ]
  },
  {
   "attachments": {},
   "cell_type": "markdown",
   "metadata": {},
   "source": [
    "Perfecto, ahora tenemos un modelo más simple, pero que sigue siendo preciso. Veamos si es posible mejorar las métricas de este modelo, para esto utilizaremos una grilla aleatoria (de pocos valores por tema de tiempo)."
   ]
  },
  {
   "cell_type": "code",
   "execution_count": 120,
   "metadata": {},
   "outputs": [],
   "source": [
    "from sklearn.tree import DecisionTreeClassifier\n",
    "from sklearn.linear_model import LogisticRegression\n",
    "from sklearn.svm import SVC"
   ]
  },
  {
   "cell_type": "code",
   "execution_count": 40,
   "metadata": {},
   "outputs": [],
   "source": [
    "# Inicializamos el modelo\n",
    "svm = SVC(random_state = 201212189)\n",
    "\n",
    "# Ajustamos el modelo con los datos de entrenamiento\n",
    "svm.fit(X_train, y_train)\n",
    "\n",
    "# Predecimos con los datos de testeo\n",
    "y_pred_svm = svm.predict(X_test)\n",
    "\n",
    "# Calculamos el accuracy que obtuvo el modelo\n",
    "accuracy_score(y_test, y_pred_svm)"
   ]
  },
  {
   "cell_type": "code",
   "execution_count": 121,
   "metadata": {},
   "outputs": [
    {
     "data": {
      "text/plain": [
       "0.6198807545694458"
      ]
     },
     "execution_count": 121,
     "metadata": {},
     "output_type": "execute_result"
    }
   ],
   "source": [
    "# Inicializamos el modelo\n",
    "lr = LogisticRegression(random_state = 201212189, max_iter=1e+5, class_weight=\"balanced\")\n",
    "\n",
    "# Ajustamos el modelo con los datos de entrenamiento\n",
    "lr.fit(X_train, y_train)\n",
    "\n",
    "# Predecimos con los datos de testeo\n",
    "y_pred_lr = lr.predict(X_test)\n",
    "\n",
    "# Predecimos las probabilidades de cada clase\n",
    "y_pred_lr_prob = lr.predict_proba(X_test)\n",
    "\n",
    "# Calculamos el accuracy que obtuvo el modelo\n",
    "accuracy_score(y_test, y_pred_lr)"
   ]
  },
  {
   "cell_type": "code",
   "execution_count": 42,
   "metadata": {},
   "outputs": [
    {
     "data": {
      "text/plain": [
       "0.8034012608121976"
      ]
     },
     "execution_count": 42,
     "metadata": {},
     "output_type": "execute_result"
    }
   ],
   "source": [
    "# Inicializamos el modelo\n",
    "dt = DecisionTreeClassifier(random_state = 201212189)\n",
    "\n",
    "# Ajustamos el modelo con los datos de entrenamiento\n",
    "dt.fit(X_train, y_train)\n",
    "\n",
    "# Predecimos con los datos de testeo\n",
    "y_pred_dt = dt.predict(X_test)\n",
    "\n",
    "# Predecimos las probabilidades de cada clase\n",
    "y_pred_dt_prob = dt.predict_proba(X_test)\n",
    "\n",
    "# Calculamos el accuracy que obtuvo el modelo\n",
    "accuracy_score(y_test, y_pred_dt)"
   ]
  },
  {
   "cell_type": "code",
   "execution_count": null,
   "metadata": {},
   "outputs": [],
   "source": [
    "from sklearn.model_selection import RandomizedSearchCV"
   ]
  },
  {
   "cell_type": "code",
   "execution_count": null,
   "metadata": {},
   "outputs": [
    {
     "name": "stdout",
     "output_type": "stream",
     "text": [
      "{'max_features': ['auto', 'sqrt'], 'max_depth': [2, 4], 'min_samples_split': [2, 5], 'min_samples_leaf': [1, 2], 'bootstrap': [True, False]}\n"
     ]
    }
   ],
   "source": [
    "# Number of trees in random forest\n",
    "n_estimators = [int(x) for x in np.linspace(start = 10, stop = 80, num = 10)]\n",
    "# Number of features to consider at every split\n",
    "max_features = ['auto', 'sqrt']\n",
    "# Maximum number of levels in tree\n",
    "max_depth = [2,4]\n",
    "# Minimum number of samples required to split a node\n",
    "min_samples_split = [2, 5]\n",
    "# Minimum number of samples required at each leaf node\n",
    "min_samples_leaf = [1, 2]\n",
    "# Method of selecting samples for training each tree\n",
    "bootstrap = [True, False]\n",
    "\n",
    "# Create the param grid\n",
    "param_grid = {'n_estimators': n_estimators,\n",
    "               'max_features': max_features,\n",
    "               'max_depth': max_depth,\n",
    "               'min_samples_split': min_samples_split,\n",
    "               'min_samples_leaf': min_samples_leaf,\n",
    "               'bootstrap': bootstrap}\n",
    "print(param_grid)"
   ]
  },
  {
   "cell_type": "code",
   "execution_count": null,
   "metadata": {},
   "outputs": [
    {
     "name": "stdout",
     "output_type": "stream",
     "text": [
      "Fitting 2 folds for each of 32 candidates, totalling 64 fits\n"
     ]
    },
    {
     "name": "stderr",
     "output_type": "stream",
     "text": [
      "c:\\Users\\felip\\AppData\\Local\\Programs\\Python\\Python39\\lib\\site-packages\\sklearn\\ensemble\\_forest.py:427: FutureWarning: `max_features='auto'` has been deprecated in 1.1 and will be removed in 1.3. To keep the past behaviour, explicitly set `max_features='sqrt'` or remove this parameter as it is also the default value for RandomForestClassifiers and ExtraTreesClassifiers.\n",
      "  warn(\n"
     ]
    },
    {
     "data": {
      "text/html": [
       "<style>#sk-container-id-1 {color: black;background-color: white;}#sk-container-id-1 pre{padding: 0;}#sk-container-id-1 div.sk-toggleable {background-color: white;}#sk-container-id-1 label.sk-toggleable__label {cursor: pointer;display: block;width: 100%;margin-bottom: 0;padding: 0.3em;box-sizing: border-box;text-align: center;}#sk-container-id-1 label.sk-toggleable__label-arrow:before {content: \"▸\";float: left;margin-right: 0.25em;color: #696969;}#sk-container-id-1 label.sk-toggleable__label-arrow:hover:before {color: black;}#sk-container-id-1 div.sk-estimator:hover label.sk-toggleable__label-arrow:before {color: black;}#sk-container-id-1 div.sk-toggleable__content {max-height: 0;max-width: 0;overflow: hidden;text-align: left;background-color: #f0f8ff;}#sk-container-id-1 div.sk-toggleable__content pre {margin: 0.2em;color: black;border-radius: 0.25em;background-color: #f0f8ff;}#sk-container-id-1 input.sk-toggleable__control:checked~div.sk-toggleable__content {max-height: 200px;max-width: 100%;overflow: auto;}#sk-container-id-1 input.sk-toggleable__control:checked~label.sk-toggleable__label-arrow:before {content: \"▾\";}#sk-container-id-1 div.sk-estimator input.sk-toggleable__control:checked~label.sk-toggleable__label {background-color: #d4ebff;}#sk-container-id-1 div.sk-label input.sk-toggleable__control:checked~label.sk-toggleable__label {background-color: #d4ebff;}#sk-container-id-1 input.sk-hidden--visually {border: 0;clip: rect(1px 1px 1px 1px);clip: rect(1px, 1px, 1px, 1px);height: 1px;margin: -1px;overflow: hidden;padding: 0;position: absolute;width: 1px;}#sk-container-id-1 div.sk-estimator {font-family: monospace;background-color: #f0f8ff;border: 1px dotted black;border-radius: 0.25em;box-sizing: border-box;margin-bottom: 0.5em;}#sk-container-id-1 div.sk-estimator:hover {background-color: #d4ebff;}#sk-container-id-1 div.sk-parallel-item::after {content: \"\";width: 100%;border-bottom: 1px solid gray;flex-grow: 1;}#sk-container-id-1 div.sk-label:hover label.sk-toggleable__label {background-color: #d4ebff;}#sk-container-id-1 div.sk-serial::before {content: \"\";position: absolute;border-left: 1px solid gray;box-sizing: border-box;top: 0;bottom: 0;left: 50%;z-index: 0;}#sk-container-id-1 div.sk-serial {display: flex;flex-direction: column;align-items: center;background-color: white;padding-right: 0.2em;padding-left: 0.2em;position: relative;}#sk-container-id-1 div.sk-item {position: relative;z-index: 1;}#sk-container-id-1 div.sk-parallel {display: flex;align-items: stretch;justify-content: center;background-color: white;position: relative;}#sk-container-id-1 div.sk-item::before, #sk-container-id-1 div.sk-parallel-item::before {content: \"\";position: absolute;border-left: 1px solid gray;box-sizing: border-box;top: 0;bottom: 0;left: 50%;z-index: -1;}#sk-container-id-1 div.sk-parallel-item {display: flex;flex-direction: column;z-index: 1;position: relative;background-color: white;}#sk-container-id-1 div.sk-parallel-item:first-child::after {align-self: flex-end;width: 50%;}#sk-container-id-1 div.sk-parallel-item:last-child::after {align-self: flex-start;width: 50%;}#sk-container-id-1 div.sk-parallel-item:only-child::after {width: 0;}#sk-container-id-1 div.sk-dashed-wrapped {border: 1px dashed gray;margin: 0 0.4em 0.5em 0.4em;box-sizing: border-box;padding-bottom: 0.4em;background-color: white;}#sk-container-id-1 div.sk-label label {font-family: monospace;font-weight: bold;display: inline-block;line-height: 1.2em;}#sk-container-id-1 div.sk-label-container {text-align: center;}#sk-container-id-1 div.sk-container {/* jupyter's `normalize.less` sets `[hidden] { display: none; }` but bootstrap.min.css set `[hidden] { display: none !important; }` so we also need the `!important` here to be able to override the default hidden behavior on the sphinx rendered scikit-learn.org. See: https://github.com/scikit-learn/scikit-learn/issues/21755 */display: inline-block !important;position: relative;}#sk-container-id-1 div.sk-text-repr-fallback {display: none;}</style><div id=\"sk-container-id-1\" class=\"sk-top-container\"><div class=\"sk-text-repr-fallback\"><pre>GridSearchCV(cv=2,\n",
       "             estimator=RandomForestClassifier(class_weight=&#x27;balanced&#x27;,\n",
       "                                              max_leaf_nodes=16,\n",
       "                                              n_estimators=500, n_jobs=-1,\n",
       "                                              random_state=201212189),\n",
       "             n_jobs=4,\n",
       "             param_grid={&#x27;bootstrap&#x27;: [True, False], &#x27;max_depth&#x27;: [2, 4],\n",
       "                         &#x27;max_features&#x27;: [&#x27;auto&#x27;, &#x27;sqrt&#x27;],\n",
       "                         &#x27;min_samples_leaf&#x27;: [1, 2],\n",
       "                         &#x27;min_samples_split&#x27;: [2, 5]},\n",
       "             verbose=2)</pre><b>In a Jupyter environment, please rerun this cell to show the HTML representation or trust the notebook. <br />On GitHub, the HTML representation is unable to render, please try loading this page with nbviewer.org.</b></div><div class=\"sk-container\" hidden><div class=\"sk-item sk-dashed-wrapped\"><div class=\"sk-label-container\"><div class=\"sk-label sk-toggleable\"><input class=\"sk-toggleable__control sk-hidden--visually\" id=\"sk-estimator-id-1\" type=\"checkbox\" ><label for=\"sk-estimator-id-1\" class=\"sk-toggleable__label sk-toggleable__label-arrow\">GridSearchCV</label><div class=\"sk-toggleable__content\"><pre>GridSearchCV(cv=2,\n",
       "             estimator=RandomForestClassifier(class_weight=&#x27;balanced&#x27;,\n",
       "                                              max_leaf_nodes=16,\n",
       "                                              n_estimators=500, n_jobs=-1,\n",
       "                                              random_state=201212189),\n",
       "             n_jobs=4,\n",
       "             param_grid={&#x27;bootstrap&#x27;: [True, False], &#x27;max_depth&#x27;: [2, 4],\n",
       "                         &#x27;max_features&#x27;: [&#x27;auto&#x27;, &#x27;sqrt&#x27;],\n",
       "                         &#x27;min_samples_leaf&#x27;: [1, 2],\n",
       "                         &#x27;min_samples_split&#x27;: [2, 5]},\n",
       "             verbose=2)</pre></div></div></div><div class=\"sk-parallel\"><div class=\"sk-parallel-item\"><div class=\"sk-item\"><div class=\"sk-label-container\"><div class=\"sk-label sk-toggleable\"><input class=\"sk-toggleable__control sk-hidden--visually\" id=\"sk-estimator-id-2\" type=\"checkbox\" ><label for=\"sk-estimator-id-2\" class=\"sk-toggleable__label sk-toggleable__label-arrow\">estimator: RandomForestClassifier</label><div class=\"sk-toggleable__content\"><pre>RandomForestClassifier(class_weight=&#x27;balanced&#x27;, max_leaf_nodes=16,\n",
       "                       n_estimators=500, n_jobs=-1, random_state=201212189)</pre></div></div></div><div class=\"sk-serial\"><div class=\"sk-item\"><div class=\"sk-estimator sk-toggleable\"><input class=\"sk-toggleable__control sk-hidden--visually\" id=\"sk-estimator-id-3\" type=\"checkbox\" ><label for=\"sk-estimator-id-3\" class=\"sk-toggleable__label sk-toggleable__label-arrow\">RandomForestClassifier</label><div class=\"sk-toggleable__content\"><pre>RandomForestClassifier(class_weight=&#x27;balanced&#x27;, max_leaf_nodes=16,\n",
       "                       n_estimators=500, n_jobs=-1, random_state=201212189)</pre></div></div></div></div></div></div></div></div></div></div>"
      ],
      "text/plain": [
       "GridSearchCV(cv=2,\n",
       "             estimator=RandomForestClassifier(class_weight='balanced',\n",
       "                                              max_leaf_nodes=16,\n",
       "                                              n_estimators=500, n_jobs=-1,\n",
       "                                              random_state=201212189),\n",
       "             n_jobs=4,\n",
       "             param_grid={'bootstrap': [True, False], 'max_depth': [2, 4],\n",
       "                         'max_features': ['auto', 'sqrt'],\n",
       "                         'min_samples_leaf': [1, 2],\n",
       "                         'min_samples_split': [2, 5]},\n",
       "             verbose=2)"
      ]
     },
     "execution_count": 75,
     "metadata": {},
     "output_type": "execute_result"
    }
   ],
   "source": [
    "rf_Grid = GridSearchCV(estimator = rf, param_grid = param_grid, cv = 10, verbose=2, n_jobs = 4)\n",
    "rf_Grid.fit(X_train, y_train)"
   ]
  },
  {
   "cell_type": "code",
   "execution_count": null,
   "metadata": {},
   "outputs": [
    {
     "name": "stdout",
     "output_type": "stream",
     "text": [
      "Train Accuracy - : 0.592\n",
      "Test Accuracy - : 0.586\n"
     ]
    }
   ],
   "source": [
    "print (f'Train Accuracy - : {rf_Grid.score(X_train,y_train):.3f}')\n",
    "print (f'Test Accuracy - : {rf_Grid.score(X_test,y_test):.3f}')"
   ]
  },
  {
   "cell_type": "code",
   "execution_count": null,
   "metadata": {},
   "outputs": [],
   "source": [
    "rf_RandomGrid = RandomizedSearchCV(estimator = rf, param_distributions = param_grid, cv = 10, verbose=2, n_jobs = 4)\n",
    "rf_RandomGrid.fit(X_train, y_train)"
   ]
  },
  {
   "cell_type": "code",
   "execution_count": null,
   "metadata": {},
   "outputs": [],
   "source": [
    "print (f'Train Accuracy - : {rf_RandomGrid.score(X_train,y_train):.3f}')\n",
    "print (f'Test Accuracy - : {rf_RandomGrid.score(X_test,y_test):.3f}')\n"
   ]
  },
  {
   "cell_type": "code",
   "execution_count": 60,
   "metadata": {},
   "outputs": [
    {
     "data": {
      "text/plain": [
       "0.8004105170560063"
      ]
     },
     "execution_count": 60,
     "metadata": {},
     "output_type": "execute_result"
    }
   ],
   "source": [
    "# Inicializamos el modelo\n",
    "rf = RandomForestClassifier(random_state = 201212189, n_estimators = 500, max_leaf_nodes=16, n_jobs=-1)\n",
    "\n",
    "# Ajustamos el modelo con los datos de entrenamiento\n",
    "rf.fit(X_train, y_train)\n",
    "\n",
    "# Predecimos con los datos de testeo\n",
    "y_pred_rf = rf.predict(X_test)\n",
    "\n",
    "# Predecimos las probabilidades de cada clase\n",
    "y_pred_rf_prob = rf.predict_proba(X_test)\n",
    "\n",
    "# Calculamos el accuracy que obtuvo el modelo\n",
    "accuracy_score(y_test, y_pred_rf)"
   ]
  },
  {
   "cell_type": "code",
   "execution_count": 118,
   "metadata": {},
   "outputs": [
    {
     "data": {
      "text/plain": [
       "0.8027563288046135"
      ]
     },
     "execution_count": 118,
     "metadata": {},
     "output_type": "execute_result"
    }
   ],
   "source": [
    "# Inicializamos el modelo\n",
    "rf = RandomForestClassifier(random_state = 201212189)\n",
    "\n",
    "# Ajustamos el modelo con los datos de entrenamiento\n",
    "rf.fit(X_train, y_train)\n",
    "\n",
    "# Predecimos con los datos de testeo\n",
    "y_pred_rf = rf.predict(X_test)\n",
    "\n",
    "# Predecimos las probabilidades de cada clase\n",
    "y_pred_rf_prob = rf.predict_proba(X_test)\n",
    "\n",
    "# Calculamos el accuracy que obtuvo el modelo\n",
    "accuracy_score(y_test, y_pred_rf)"
   ]
  },
  {
   "cell_type": "code",
   "execution_count": 63,
   "metadata": {},
   "outputs": [
    {
     "name": "stdout",
     "output_type": "stream",
     "text": [
      "dianom_Domingo 0.034080269039066684\n",
      "dianom_Jueves 0.03428867366892686\n",
      "dianom_Lunes 0.03775479716659537\n",
      "dianom_Martes 0.03775580952200569\n",
      "dianom_Miercoles 0.03348588772386681\n",
      "dianom_Sabado 0.031230248987094276\n",
      "dianom_Viernes 0.03443342388705888\n",
      "tipovuelo_I 0.02304262868127455\n",
      "tipovuelo_N 0.02554353668321063\n",
      "opera_Aerolineas Argentinas 0.01742593616388816\n",
      "opera_Aeromexico 0.0056036257469078\n",
      "opera_Air Canada 0.018817800467614287\n",
      "opera_Air France 0.005590035133085421\n",
      "opera_Alitalia 0.003788541765605371\n",
      "opera_American Airlines 0.00728720459901105\n",
      "opera_Austral 0.001667233296449523\n",
      "opera_Avianca 0.016965171580361805\n",
      "opera_British Airways 0.003300758433629344\n",
      "opera_Copa Air 0.018768934134033396\n",
      "opera_Delta Air 0.005167235214636994\n",
      "opera_Gol Trans 0.020454151293382256\n",
      "opera_Grupo LATAM 0.03484391338641959\n",
      "opera_Iberia 0.005335772470486455\n",
      "opera_JetSmart SPA 0.00723637341995468\n",
      "opera_K.L.M. 0.004005902804314059\n",
      "opera_Lacsa 0.001325464407416917\n",
      "opera_Latin American Wings 0.03975134775345745\n",
      "opera_Oceanair Linhas Aereas 0.004994840493102511\n",
      "opera_Plus Ultra Lineas Aereas 0.0036381254337111615\n",
      "opera_Qantas Airways 0.01226367415767087\n",
      "opera_Sky Airline 0.03490195108123897\n",
      "opera_United Airlines 0.004908375894949227\n",
      "mes_nom_Abril 0.016791720775994577\n",
      "mes_nom_Agosto 0.0201255740442871\n",
      "mes_nom_Diciembre 0.030502392559739112\n",
      "mes_nom_Enero 0.015437743153555585\n",
      "mes_nom_Febrero 0.012814616091718363\n",
      "mes_nom_Julio 0.04393161566879513\n",
      "mes_nom_Junio 0.01790351053697548\n",
      "mes_nom_Marzo 0.01892454434402387\n",
      "mes_nom_Mayo 0.01902061168310627\n",
      "mes_nom_Noviembre 0.019389995684842967\n",
      "mes_nom_Octubre 0.025357353809742345\n",
      "mes_nom_Septiembre 0.029744106300506917\n",
      "high_season_0 0.02477848669495212\n",
      "high_season_1 0.025427593514749828\n",
      "period_day_Afternoon 0.03642709202463594\n",
      "period_day_Morning 0.04052611137168771\n",
      "period_day_Night 0.033239287250259694\n"
     ]
    }
   ],
   "source": [
    "for name, score in zip(col_names, rf.feature_importances_):\n",
    "    print(name, score)"
   ]
  },
  {
   "attachments": {},
   "cell_type": "markdown",
   "metadata": {},
   "source": [
    "### Red Neuronal Densa:"
   ]
  },
  {
   "cell_type": "code",
   "execution_count": null,
   "metadata": {},
   "outputs": [
    {
     "name": "stdout",
     "output_type": "stream",
     "text": [
      "Model: \"sequential\"\n",
      "_________________________________________________________________\n",
      " Layer (type)                Output Shape              Param #   \n",
      "=================================================================\n",
      " dense (Dense)               (None, 100)               5000      \n",
      "                                                                 \n",
      " dense_1 (Dense)             (None, 500)               50500     \n",
      "                                                                 \n",
      " dense_2 (Dense)             (None, 200)               100200    \n",
      "                                                                 \n",
      " dense_3 (Dense)             (None, 50)                10050     \n",
      "                                                                 \n",
      " dense_4 (Dense)             (None, 500)               25500     \n",
      "                                                                 \n",
      " dense_5 (Dense)             (None, 100)               50100     \n",
      "                                                                 \n",
      " dense_6 (Dense)             (None, 50)                5050      \n",
      "                                                                 \n",
      " dense_7 (Dense)             (None, 2)                 102       \n",
      "                                                                 \n",
      "=================================================================\n",
      "Total params: 246,502\n",
      "Trainable params: 246,502\n",
      "Non-trainable params: 0\n",
      "_________________________________________________________________\n"
     ]
    }
   ],
   "source": [
    "# Creamos el modelo\n",
    "model = Sequential()\n",
    "\n",
    "# Agregamos las capas\n",
    "model.add(Dense(100, input_dim = X_train.shape[1], activation = \"relu\"))\n",
    "model.add(Dense(500, activation = \"relu\"))\n",
    "model.add(Dense(200, activation = \"relu\"))\n",
    "model.add(Dense(50, activation = \"relu\"))\n",
    "model.add(Dense(500, activation = \"relu\"))\n",
    "model.add(Dense(100, activation = \"relu\"))\n",
    "model.add(Dense(50, activation = \"relu\"))\n",
    "model.add(Dense(2, activation = \"softmax\"))\n",
    "\n",
    "# Mostramos un resumen del modelo\n",
    "model.summary() "
   ]
  },
  {
   "cell_type": "code",
   "execution_count": null,
   "metadata": {},
   "outputs": [],
   "source": [
    "# Compilamos el modelo\n",
    "model.compile(loss = \"categorical_crossentropy\", optimizer = \"adam\", metrics = [\"accuracy\"])"
   ]
  },
  {
   "cell_type": "code",
   "execution_count": 42,
   "metadata": {},
   "outputs": [
    {
     "name": "stdout",
     "output_type": "stream",
     "text": [
      "Epoch 1/100\n",
      "1706/1706 [==============================] - 4s 2ms/step - loss: 0.4732 - accuracy: 0.8009 - val_loss: 0.4652 - val_accuracy: 0.8031\n",
      "Epoch 2/100\n",
      "1706/1706 [==============================] - 3s 2ms/step - loss: 0.4627 - accuracy: 0.8043 - val_loss: 0.4626 - val_accuracy: 0.8079\n",
      "Epoch 3/100\n",
      "1706/1706 [==============================] - 3s 2ms/step - loss: 0.4583 - accuracy: 0.8066 - val_loss: 0.4564 - val_accuracy: 0.8057\n",
      "Epoch 4/100\n",
      "1706/1706 [==============================] - 3s 2ms/step - loss: 0.4553 - accuracy: 0.8081 - val_loss: 0.4536 - val_accuracy: 0.8082\n",
      "Epoch 5/100\n",
      "1706/1706 [==============================] - 3s 2ms/step - loss: 0.4525 - accuracy: 0.8088 - val_loss: 0.4532 - val_accuracy: 0.8091\n",
      "Epoch 6/100\n",
      "1706/1706 [==============================] - 3s 2ms/step - loss: 0.4505 - accuracy: 0.8093 - val_loss: 0.4548 - val_accuracy: 0.8107\n",
      "Epoch 7/100\n",
      "1706/1706 [==============================] - 3s 2ms/step - loss: 0.4486 - accuracy: 0.8105 - val_loss: 0.4545 - val_accuracy: 0.8103\n",
      "Epoch 8/100\n",
      "1706/1706 [==============================] - 3s 2ms/step - loss: 0.4464 - accuracy: 0.8117 - val_loss: 0.4571 - val_accuracy: 0.8079\n",
      "Epoch 9/100\n",
      "1706/1706 [==============================] - 3s 2ms/step - loss: 0.4449 - accuracy: 0.8124 - val_loss: 0.4684 - val_accuracy: 0.8091\n",
      "Epoch 10/100\n",
      "1706/1706 [==============================] - 3s 2ms/step - loss: 0.4440 - accuracy: 0.8120 - val_loss: 0.4549 - val_accuracy: 0.8078\n",
      "Epoch 11/100\n",
      "1706/1706 [==============================] - 3s 2ms/step - loss: 0.4421 - accuracy: 0.8127 - val_loss: 0.4604 - val_accuracy: 0.8041\n",
      "Epoch 12/100\n",
      "1706/1706 [==============================] - 3s 2ms/step - loss: 0.4408 - accuracy: 0.8129 - val_loss: 0.4541 - val_accuracy: 0.8091\n",
      "Epoch 13/100\n",
      "1706/1706 [==============================] - 3s 2ms/step - loss: 0.4399 - accuracy: 0.8139 - val_loss: 0.4596 - val_accuracy: 0.8094\n",
      "Epoch 14/100\n",
      "1706/1706 [==============================] - 3s 2ms/step - loss: 0.4379 - accuracy: 0.8137 - val_loss: 0.4552 - val_accuracy: 0.8082\n",
      "Epoch 15/100\n",
      "1706/1706 [==============================] - 3s 2ms/step - loss: 0.4369 - accuracy: 0.8145 - val_loss: 0.4596 - val_accuracy: 0.8090\n",
      "Epoch 16/100\n",
      "1706/1706 [==============================] - 3s 2ms/step - loss: 0.4358 - accuracy: 0.8142 - val_loss: 0.4553 - val_accuracy: 0.8099\n",
      "Epoch 17/100\n",
      "1706/1706 [==============================] - 3s 2ms/step - loss: 0.4351 - accuracy: 0.8148 - val_loss: 0.4633 - val_accuracy: 0.8088\n",
      "Epoch 18/100\n",
      "1706/1706 [==============================] - 3s 2ms/step - loss: 0.4341 - accuracy: 0.8141 - val_loss: 0.4711 - val_accuracy: 0.8078\n",
      "Epoch 19/100\n",
      "1706/1706 [==============================] - 3s 2ms/step - loss: 0.4332 - accuracy: 0.8151 - val_loss: 0.4698 - val_accuracy: 0.8049\n",
      "Epoch 20/100\n",
      "1706/1706 [==============================] - 3s 2ms/step - loss: 0.4327 - accuracy: 0.8147 - val_loss: 0.4783 - val_accuracy: 0.8087\n",
      "Epoch 21/100\n",
      "1706/1706 [==============================] - 3s 2ms/step - loss: 0.4315 - accuracy: 0.8158 - val_loss: 0.4755 - val_accuracy: 0.8084\n",
      "Epoch 22/100\n",
      "1706/1706 [==============================] - 3s 2ms/step - loss: 0.4309 - accuracy: 0.8154 - val_loss: 0.4696 - val_accuracy: 0.8087\n",
      "Epoch 23/100\n",
      "1706/1706 [==============================] - 3s 2ms/step - loss: 0.4300 - accuracy: 0.8151 - val_loss: 0.4872 - val_accuracy: 0.8082\n",
      "Epoch 24/100\n",
      "1706/1706 [==============================] - 3s 2ms/step - loss: 0.4299 - accuracy: 0.8157 - val_loss: 0.4711 - val_accuracy: 0.8084\n",
      "Epoch 25/100\n",
      "1706/1706 [==============================] - 3s 2ms/step - loss: 0.4283 - accuracy: 0.8161 - val_loss: 0.4780 - val_accuracy: 0.8079\n",
      "Epoch 26/100\n",
      "1706/1706 [==============================] - 3s 2ms/step - loss: 0.4286 - accuracy: 0.8153 - val_loss: 0.4770 - val_accuracy: 0.8090\n",
      "Epoch 27/100\n",
      "1706/1706 [==============================] - 3s 2ms/step - loss: 0.4276 - accuracy: 0.8160 - val_loss: 0.5225 - val_accuracy: 0.8077\n",
      "Epoch 28/100\n",
      "1706/1706 [==============================] - 3s 2ms/step - loss: 0.4273 - accuracy: 0.8167 - val_loss: 0.5123 - val_accuracy: 0.8053\n",
      "Epoch 29/100\n",
      "1706/1706 [==============================] - 3s 2ms/step - loss: 0.4265 - accuracy: 0.8165 - val_loss: 0.4985 - val_accuracy: 0.8100\n",
      "Epoch 30/100\n",
      "1706/1706 [==============================] - 3s 2ms/step - loss: 0.4267 - accuracy: 0.8160 - val_loss: 0.5094 - val_accuracy: 0.8069\n",
      "Epoch 31/100\n",
      "1706/1706 [==============================] - 3s 2ms/step - loss: 0.4254 - accuracy: 0.8164 - val_loss: 0.5068 - val_accuracy: 0.8041\n",
      "Epoch 32/100\n",
      "1706/1706 [==============================] - 3s 2ms/step - loss: 0.4255 - accuracy: 0.8170 - val_loss: 0.5089 - val_accuracy: 0.8085\n",
      "Epoch 33/100\n",
      "1706/1706 [==============================] - 3s 2ms/step - loss: 0.4253 - accuracy: 0.8169 - val_loss: 0.4998 - val_accuracy: 0.8079\n",
      "Epoch 34/100\n",
      "1706/1706 [==============================] - 3s 2ms/step - loss: 0.4252 - accuracy: 0.8166 - val_loss: 0.5475 - val_accuracy: 0.8072\n",
      "Epoch 35/100\n",
      "1706/1706 [==============================] - 3s 2ms/step - loss: 0.4248 - accuracy: 0.8164 - val_loss: 0.5169 - val_accuracy: 0.8074\n",
      "Epoch 36/100\n",
      "1706/1706 [==============================] - 3s 2ms/step - loss: 0.4243 - accuracy: 0.8173 - val_loss: 0.5090 - val_accuracy: 0.8077\n",
      "Epoch 37/100\n",
      "1706/1706 [==============================] - 3s 2ms/step - loss: 0.4237 - accuracy: 0.8172 - val_loss: 0.5214 - val_accuracy: 0.8063\n",
      "Epoch 38/100\n",
      "1706/1706 [==============================] - 3s 2ms/step - loss: 0.4240 - accuracy: 0.8166 - val_loss: 0.5187 - val_accuracy: 0.8079\n",
      "Epoch 39/100\n",
      "1706/1706 [==============================] - 3s 2ms/step - loss: 0.4231 - accuracy: 0.8170 - val_loss: 0.4916 - val_accuracy: 0.8075\n",
      "Epoch 40/100\n",
      "1706/1706 [==============================] - 3s 2ms/step - loss: 0.4233 - accuracy: 0.8177 - val_loss: 0.5697 - val_accuracy: 0.8060\n",
      "Epoch 41/100\n",
      "1706/1706 [==============================] - 3s 2ms/step - loss: 0.4230 - accuracy: 0.8176 - val_loss: 0.5472 - val_accuracy: 0.8071\n",
      "Epoch 42/100\n",
      "1706/1706 [==============================] - 3s 2ms/step - loss: 0.4227 - accuracy: 0.8178 - val_loss: 0.5307 - val_accuracy: 0.8078\n",
      "Epoch 43/100\n",
      "1706/1706 [==============================] - 3s 2ms/step - loss: 0.4223 - accuracy: 0.8169 - val_loss: 0.5193 - val_accuracy: 0.8052\n",
      "Epoch 44/100\n",
      "1706/1706 [==============================] - 3s 2ms/step - loss: 0.4225 - accuracy: 0.8170 - val_loss: 0.5544 - val_accuracy: 0.8066\n",
      "Epoch 45/100\n",
      "1706/1706 [==============================] - 3s 2ms/step - loss: 0.4223 - accuracy: 0.8172 - val_loss: 0.5457 - val_accuracy: 0.8077\n",
      "Epoch 46/100\n",
      "1706/1706 [==============================] - 3s 2ms/step - loss: 0.4224 - accuracy: 0.8178 - val_loss: 0.5357 - val_accuracy: 0.8068\n",
      "Epoch 47/100\n",
      "1706/1706 [==============================] - 3s 2ms/step - loss: 0.4220 - accuracy: 0.8173 - val_loss: 0.5280 - val_accuracy: 0.8062\n",
      "Epoch 48/100\n",
      "1706/1706 [==============================] - 3s 2ms/step - loss: 0.4210 - accuracy: 0.8177 - val_loss: 0.5569 - val_accuracy: 0.8066\n",
      "Epoch 49/100\n",
      "1706/1706 [==============================] - 3s 2ms/step - loss: 0.4216 - accuracy: 0.8178 - val_loss: 0.7731 - val_accuracy: 0.8069\n",
      "Epoch 50/100\n",
      "1706/1706 [==============================] - 3s 2ms/step - loss: 0.4218 - accuracy: 0.8177 - val_loss: 0.5628 - val_accuracy: 0.8077\n",
      "Epoch 51/100\n",
      "1706/1706 [==============================] - 3s 2ms/step - loss: 0.4212 - accuracy: 0.8173 - val_loss: 0.5531 - val_accuracy: 0.8075\n",
      "Epoch 52/100\n",
      "1706/1706 [==============================] - 3s 2ms/step - loss: 0.4211 - accuracy: 0.8177 - val_loss: 0.5326 - val_accuracy: 0.8069\n",
      "Epoch 53/100\n",
      "1706/1706 [==============================] - 3s 2ms/step - loss: 0.4209 - accuracy: 0.8178 - val_loss: 0.5900 - val_accuracy: 0.8044\n",
      "Epoch 54/100\n",
      "1706/1706 [==============================] - 3s 2ms/step - loss: 0.4212 - accuracy: 0.8175 - val_loss: 0.7851 - val_accuracy: 0.8044\n",
      "Epoch 55/100\n",
      "1706/1706 [==============================] - 3s 2ms/step - loss: 0.4213 - accuracy: 0.8173 - val_loss: 0.5709 - val_accuracy: 0.8053\n",
      "Epoch 56/100\n",
      "1706/1706 [==============================] - 3s 2ms/step - loss: 0.4210 - accuracy: 0.8175 - val_loss: 0.5183 - val_accuracy: 0.8071\n",
      "Epoch 57/100\n",
      "1706/1706 [==============================] - 3s 2ms/step - loss: 0.4200 - accuracy: 0.8182 - val_loss: 0.5184 - val_accuracy: 0.8075\n",
      "Epoch 58/100\n",
      "1706/1706 [==============================] - 3s 2ms/step - loss: 0.4200 - accuracy: 0.8179 - val_loss: 0.5869 - val_accuracy: 0.8060\n",
      "Epoch 59/100\n",
      "1706/1706 [==============================] - 3s 2ms/step - loss: 0.4201 - accuracy: 0.8176 - val_loss: 0.5390 - val_accuracy: 0.8060\n",
      "Epoch 60/100\n",
      "1706/1706 [==============================] - 3s 2ms/step - loss: 0.4203 - accuracy: 0.8179 - val_loss: 0.6808 - val_accuracy: 0.8074\n",
      "Epoch 61/100\n",
      "1706/1706 [==============================] - 3s 2ms/step - loss: 0.4205 - accuracy: 0.8174 - val_loss: 0.6164 - val_accuracy: 0.8074\n",
      "Epoch 62/100\n",
      "1706/1706 [==============================] - 3s 2ms/step - loss: 0.4198 - accuracy: 0.8179 - val_loss: 0.6199 - val_accuracy: 0.8068\n",
      "Epoch 63/100\n",
      "1706/1706 [==============================] - 3s 2ms/step - loss: 0.4202 - accuracy: 0.8181 - val_loss: 0.6675 - val_accuracy: 0.8065\n",
      "Epoch 64/100\n",
      "1706/1706 [==============================] - 3s 2ms/step - loss: 0.4200 - accuracy: 0.8182 - val_loss: 0.6004 - val_accuracy: 0.8059\n",
      "Epoch 65/100\n",
      "1706/1706 [==============================] - 3s 2ms/step - loss: 0.4205 - accuracy: 0.8176 - val_loss: 0.5138 - val_accuracy: 0.8057\n",
      "Epoch 66/100\n",
      "1706/1706 [==============================] - 3s 2ms/step - loss: 0.4198 - accuracy: 0.8180 - val_loss: 0.5955 - val_accuracy: 0.8057\n",
      "Epoch 67/100\n",
      "1706/1706 [==============================] - 3s 2ms/step - loss: 0.4192 - accuracy: 0.8181 - val_loss: 0.5957 - val_accuracy: 0.8033\n",
      "Epoch 68/100\n",
      "1706/1706 [==============================] - 3s 2ms/step - loss: 0.4211 - accuracy: 0.8177 - val_loss: 0.6440 - val_accuracy: 0.8047\n",
      "Epoch 69/100\n",
      "1706/1706 [==============================] - 3s 2ms/step - loss: 0.4193 - accuracy: 0.8185 - val_loss: 0.5393 - val_accuracy: 0.8066\n",
      "Epoch 70/100\n",
      "1706/1706 [==============================] - 3s 2ms/step - loss: 0.4189 - accuracy: 0.8183 - val_loss: 0.5642 - val_accuracy: 0.8056\n",
      "Epoch 71/100\n",
      "1706/1706 [==============================] - 3s 2ms/step - loss: 0.4195 - accuracy: 0.8180 - val_loss: 0.5747 - val_accuracy: 0.8037\n",
      "Epoch 72/100\n",
      "1706/1706 [==============================] - 3s 2ms/step - loss: 0.4193 - accuracy: 0.8185 - val_loss: 0.5314 - val_accuracy: 0.8056\n",
      "Epoch 73/100\n",
      "1706/1706 [==============================] - 3s 2ms/step - loss: 0.4189 - accuracy: 0.8177 - val_loss: 0.5856 - val_accuracy: 0.8053\n",
      "Epoch 74/100\n",
      "1706/1706 [==============================] - 3s 2ms/step - loss: 0.4196 - accuracy: 0.8180 - val_loss: 0.5214 - val_accuracy: 0.8077\n",
      "Epoch 75/100\n",
      "1706/1706 [==============================] - 3s 2ms/step - loss: 0.4191 - accuracy: 0.8179 - val_loss: 0.5547 - val_accuracy: 0.8056\n",
      "Epoch 76/100\n",
      "1706/1706 [==============================] - 3s 2ms/step - loss: 0.4193 - accuracy: 0.8181 - val_loss: 0.5514 - val_accuracy: 0.8069\n",
      "Epoch 77/100\n",
      "1706/1706 [==============================] - 3s 2ms/step - loss: 0.4194 - accuracy: 0.8180 - val_loss: 0.5616 - val_accuracy: 0.8059\n",
      "Epoch 78/100\n",
      "1706/1706 [==============================] - 3s 2ms/step - loss: 0.4188 - accuracy: 0.8183 - val_loss: 0.6797 - val_accuracy: 0.8053\n",
      "Epoch 79/100\n",
      "1706/1706 [==============================] - 3s 2ms/step - loss: 0.4201 - accuracy: 0.8185 - val_loss: 0.5269 - val_accuracy: 0.8044\n",
      "Epoch 80/100\n",
      "1706/1706 [==============================] - 3s 2ms/step - loss: 0.4187 - accuracy: 0.8178 - val_loss: 0.5730 - val_accuracy: 0.8062\n",
      "Epoch 81/100\n",
      "1706/1706 [==============================] - 3s 2ms/step - loss: 0.4183 - accuracy: 0.8183 - val_loss: 0.6407 - val_accuracy: 0.8025\n",
      "Epoch 82/100\n",
      "1706/1706 [==============================] - 3s 2ms/step - loss: 0.4192 - accuracy: 0.8179 - val_loss: 0.6356 - val_accuracy: 0.8050\n",
      "Epoch 83/100\n",
      "1706/1706 [==============================] - 3s 2ms/step - loss: 0.4196 - accuracy: 0.8187 - val_loss: 0.7569 - val_accuracy: 0.8053\n",
      "Epoch 84/100\n",
      "1706/1706 [==============================] - 3s 2ms/step - loss: 0.4190 - accuracy: 0.8174 - val_loss: 0.6924 - val_accuracy: 0.8065\n",
      "Epoch 85/100\n",
      "1706/1706 [==============================] - 3s 2ms/step - loss: 0.4187 - accuracy: 0.8184 - val_loss: 0.6621 - val_accuracy: 0.8063\n",
      "Epoch 86/100\n",
      "1706/1706 [==============================] - 3s 2ms/step - loss: 0.4170 - accuracy: 0.8184 - val_loss: 0.8220 - val_accuracy: 0.8069\n",
      "Epoch 87/100\n",
      "1706/1706 [==============================] - 3s 2ms/step - loss: 0.4175 - accuracy: 0.8180 - val_loss: 0.9167 - val_accuracy: 0.8075\n",
      "Epoch 88/100\n",
      "1706/1706 [==============================] - 3s 2ms/step - loss: 0.4185 - accuracy: 0.8186 - val_loss: 1.0619 - val_accuracy: 0.8049\n",
      "Epoch 89/100\n",
      "1706/1706 [==============================] - 3s 2ms/step - loss: 0.4215 - accuracy: 0.8186 - val_loss: 0.8736 - val_accuracy: 0.8052\n",
      "Epoch 90/100\n",
      "1706/1706 [==============================] - 3s 2ms/step - loss: 0.4173 - accuracy: 0.8185 - val_loss: 0.8014 - val_accuracy: 0.8071\n",
      "Epoch 91/100\n",
      "1706/1706 [==============================] - 3s 2ms/step - loss: 0.4175 - accuracy: 0.8186 - val_loss: 0.7999 - val_accuracy: 0.8068\n",
      "Epoch 92/100\n",
      "1706/1706 [==============================] - 3s 2ms/step - loss: 0.4189 - accuracy: 0.8185 - val_loss: 0.6516 - val_accuracy: 0.8071\n",
      "Epoch 93/100\n",
      "1706/1706 [==============================] - 3s 2ms/step - loss: 0.4179 - accuracy: 0.8182 - val_loss: 0.6053 - val_accuracy: 0.8069\n",
      "Epoch 94/100\n",
      "1706/1706 [==============================] - 3s 2ms/step - loss: 0.4176 - accuracy: 0.8187 - val_loss: 0.6409 - val_accuracy: 0.8052\n",
      "Epoch 95/100\n",
      "1706/1706 [==============================] - 3s 2ms/step - loss: 0.4201 - accuracy: 0.8181 - val_loss: 0.6762 - val_accuracy: 0.8063\n",
      "Epoch 96/100\n",
      "1706/1706 [==============================] - 3s 2ms/step - loss: 0.4169 - accuracy: 0.8187 - val_loss: 0.7579 - val_accuracy: 0.8062\n",
      "Epoch 97/100\n",
      "1706/1706 [==============================] - 3s 2ms/step - loss: 0.4169 - accuracy: 0.8188 - val_loss: 0.7406 - val_accuracy: 0.8062\n",
      "Epoch 98/100\n",
      "1706/1706 [==============================] - 3s 2ms/step - loss: 0.4185 - accuracy: 0.8181 - val_loss: 0.6732 - val_accuracy: 0.8063\n",
      "Epoch 99/100\n",
      "1706/1706 [==============================] - 4s 2ms/step - loss: 0.4186 - accuracy: 0.8177 - val_loss: 0.7412 - val_accuracy: 0.8055\n",
      "Epoch 100/100\n",
      "1706/1706 [==============================] - 4s 2ms/step - loss: 0.4176 - accuracy: 0.8186 - val_loss: 0.6392 - val_accuracy: 0.8063\n"
     ]
    }
   ],
   "source": [
    "# Entrenamos el modelo\n",
    "history = model.fit(X_train, y_train_nn, epochs = 100, batch_size = 32, validation_data = (X_valid, y_valid_nn))"
   ]
  },
  {
   "cell_type": "code",
   "execution_count": 44,
   "metadata": {},
   "outputs": [
    {
     "data": {
      "image/png": "[encoded data removed]",
      "text/plain": [
       "<Figure size 864x864 with 2 Axes>"
      ]
     },
     "metadata": {},
     "output_type": "display_data"
    }
   ],
   "source": [
    "# Hacemos la figura\n",
    "fig, axs = plt.subplots(2, figsize = (12, 12))\n",
    "\n",
    "# Gráfica accuracy\n",
    "axs[0].plot(history.history[\"accuracy\"], label = \"Exactidud entrenamiento\")\n",
    "axs[0].plot(history.history[\"val_accuracy\"], label = \"Exactitud validación\")\n",
    "axs[0].set_ylabel(\"Exactitud\")\n",
    "axs[0].legend(loc = \"best\")\n",
    "axs[0].set_title(\"Exactitud por épocas\")\n",
    "\n",
    "# Gráfica error\n",
    "axs[1].plot(history.history[\"loss\"], label = \"Error entrenamiento\")\n",
    "axs[1].plot(history.history[\"val_loss\"], label = \"Error validación\")\n",
    "axs[1].set_ylabel(\"Error\")\n",
    "axs[1].set_xlabel(\"Época\")\n",
    "axs[1].legend(loc = \"best\")\n",
    "axs[1].set_title(\"Error por épocas\")\n",
    "\n",
    "# Mostramos la figura\n",
    "plt.show()"
   ]
  },
  {
   "attachments": {},
   "cell_type": "markdown",
   "metadata": {},
   "source": [
    "<br>\n",
    "\n",
    "---\n",
    "\n",
    "<br>"
   ]
  },
  {
   "attachments": {},
   "cell_type": "markdown",
   "metadata": {},
   "source": [
    "# 5.)"
   ]
  },
  {
   "attachments": {},
   "cell_type": "markdown",
   "metadata": {},
   "source": [
    "## Desempeño de los modelos"
   ]
  },
  {
   "attachments": {},
   "cell_type": "markdown",
   "metadata": {},
   "source": [
    "### Accuracy:"
   ]
  },
  {
   "cell_type": "code",
   "execution_count": null,
   "metadata": {},
   "outputs": [],
   "source": []
  },
  {
   "attachments": {},
   "cell_type": "markdown",
   "metadata": {},
   "source": [
    "### Matriz de confusión:"
   ]
  },
  {
   "cell_type": "code",
   "execution_count": null,
   "metadata": {},
   "outputs": [],
   "source": []
  },
  {
   "attachments": {},
   "cell_type": "markdown",
   "metadata": {},
   "source": [
    "### Curva ROC:"
   ]
  },
  {
   "cell_type": "code",
   "execution_count": null,
   "metadata": {},
   "outputs": [],
   "source": []
  },
  {
   "attachments": {},
   "cell_type": "markdown",
   "metadata": {},
   "source": [
    "## Variables más importantes"
   ]
  },
  {
   "cell_type": "code",
   "execution_count": null,
   "metadata": {},
   "outputs": [],
   "source": []
  },
  {
   "cell_type": "markdown",
   "metadata": {},
   "source": []
  },
  {
   "attachments": {},
   "cell_type": "markdown",
   "metadata": {},
   "source": [
    "## Posibles incorporaciones futuras al modelo que podrían mejorar el desempeño de este"
   ]
  },
  {
   "attachments": {},
   "cell_type": "markdown",
   "metadata": {},
   "source": [
    "- Se podría agregar la variable `condiciones_climaticas` al modelo. Donde la variable `condiciones_climaticas` es una variable categórica que indica si el día del vuelo estaba soleado, nublado, lluvioso, etc. Así podríamos ver si el clima influye en el retraso de los vuelos.\n",
    "- También se podría agregar una variable `distancia` que indique la distancia entre el aeropuerto de origen y el aeropuerto de destino. Así podríamos ver de mejor manera si la distancia influye en el retraso de los vuelos.\n",
    "- Otra cosa que se podría hacer es utilizar una red neuronal más robusta, a ver si se obtienen mejores resultados.\n",
    "- Por último, se podría tomar también data de años anteriores, así se tendría más data para entrenar el modelo lo que probablemente mejoraría el desempeño de este."
   ]
  },
  {
   "attachments": {},
   "cell_type": "markdown",
   "metadata": {},
   "source": [
    "<br>\n",
    "\n",
    "---\n",
    "\n",
    "<br>"
   ]
  }
 ],
 "metadata": {
  "kernelspec": {
   "display_name": "Python 3",
   "language": "python",
   "name": "python3"
  },
  "language_info": {
   "codemirror_mode": {
    "name": "ipython",
    "version": 3
   },
   "file_extension": ".py",
   "mimetype": "text/x-python",
   "name": "python",
   "nbconvert_exporter": "python",
   "pygments_lexer": "ipython3",
   "version": "3.9.6"
  },
  "orig_nbformat": 4,
  "vscode": {
   "interpreter": {
    "hash": "1a0efc7ed7210c8daa9aadd584bbae766f571d407ba1506112b0e572af6a4d67"
   }
  }
 },
 "nbformat": 4,
 "nbformat_minor": 2
}
